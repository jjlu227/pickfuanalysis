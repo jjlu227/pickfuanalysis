{
  "nbformat": 4,
  "nbformat_minor": 0,
  "metadata": {
    "colab": {
      "name": "Selenium.ipynb",
      "provenance": [],
      "authorship_tag": "ABX9TyMkCKzYz8I11nstc2/Kawq2",
      "include_colab_link": true
    },
    "kernelspec": {
      "name": "python383jvsc74a57bd0124ec898d58e0ea75c94b3481a53908dca0a651273aa518a0e0ec5333698c113",
      "display_name": "Python 3.8.3 64-bit ('base': conda)"
    }
  },
  "cells": [
    {
      "source": [
        "# BJ's Capstone Project Team 18\n",
        "### Paula Demacker, Jingjing Lu, Qiqi Tang, Xinping Yu\n",
        "\n",
        "Web scraping note book\n",
        "\n"
      ],
      "cell_type": "markdown",
      "metadata": {}
    },
    {
      "source": [
        "Imports\n"
      ],
      "cell_type": "markdown",
      "metadata": {}
    },
    {
      "cell_type": "code",
      "execution_count": 4,
      "metadata": {},
      "outputs": [],
      "source": [
        "#imports\n",
        "import selenium\n",
        "from selenium import webdriver\n",
        "from time import sleep\n",
        "from selenium.webdriver.common.keys import Keys\n",
        "from selenium.webdriver.common.by import By\n",
        "from selenium.webdriver.support.ui import WebDriverWait\n",
        "from selenium.webdriver.support import expected_conditions as EC\n",
        "import numpy as np\n",
        "import pandas as pd\n",
        "import time"
      ]
    },
    {
      "source": [
        "Test Chromer Driver  \n",
        "uncomment the cell below to test your chrome driver "
      ],
      "cell_type": "markdown",
      "metadata": {}
    },
    {
      "cell_type": "code",
      "execution_count": 1,
      "metadata": {},
      "outputs": [],
      "source": [
        "# webdriver.Chrome() will be used\n",
        "#driver = webdriver.Chrome()\n",
        "\n",
        "#choose an URL\n",
        "#url = \"https://www.bjs.com/\"\n",
        "   \n",
        "#opening link in the browser\n",
        "#driver.get(url)"
      ]
    },
    {
      "source": [
        "### Load the CSV file with location URLS and additional information we got from BJ's"
      ],
      "cell_type": "markdown",
      "metadata": {}
    },
    {
      "cell_type": "code",
      "metadata": {
        "id": "bJ25neHwuhCY"
      },
      "source": [
        "df = pd.read_csv(\"urls_location_new.csv\")\n",
        "df = pd.DataFrame(df)\n",
        "df"
      ],
      "execution_count": 7,
      "outputs": [
        {
          "output_type": "execute_result",
          "data": {
            "text/plain": [
              "             Company                           Address           City State  \\\n",
              "0    BJ's Wholesale               278 Middlesex Avenue        Medford    MA   \n",
              "1    BJ's Wholesale   Northway Mall  1440 Central Ave.         Albany    NY   \n",
              "2    BJ's Wholesale          300 Route 17 (Northbound)  E. Rutherford    NJ   \n",
              "3    BJ's Wholesale               6924 Frank Avenue Nw      N. Canton    OH   \n",
              "4    BJ's Wholesale             4000 Nesconset Highway    E. Setauket    NY   \n",
              "..               ...                               ...            ...   ...   \n",
              "600          Walmart             29176 Van Dyke Avenue         Warren    MI   \n",
              "601          Walmart               14900 Dix Toledo Rd      Southgate    MI   \n",
              "602          Walmart            45400 Marketplace Blvd   Chesterfield    MI   \n",
              "603          Walmart                    1201 Route 300       Newburgh    NY   \n",
              "604          Walmart        700 Lafayette Road Unit #1       Seabrook    NH   \n",
              "\n",
              "    Zip Code  Longitude   Latitude  \\\n",
              "0       2155 -71.082800  42.413370   \n",
              "1      12205 -73.830730  42.704230   \n",
              "2       7073 -74.096790  40.824000   \n",
              "3      44720 -81.439790  40.881800   \n",
              "4      11733 -73.076560  40.904170   \n",
              "..       ...        ...        ...   \n",
              "600    48093 -83.026566  42.508609   \n",
              "601    48195 -83.210720  42.201638   \n",
              "602    48051 -82.852857  42.634760   \n",
              "603    12550 -74.074669  41.497821   \n",
              "604     3874 -70.866699  42.894804   \n",
              "\n",
              "                                                   URL  \n",
              "0    https://www.google.com/maps/place/BJ's+Wholesa...  \n",
              "1    https://www.google.com/maps/place/BJ's+Wholesa...  \n",
              "2    https://www.google.com/maps/place/BJ's+Wholesa...  \n",
              "3    https://www.google.com/maps/place/BJ's+Wholesa...  \n",
              "4    https://www.google.com/maps/place/BJ's+Wholesa...  \n",
              "..                                                 ...  \n",
              "600  https://www.google.com/maps/place/Walmart+Supe...  \n",
              "601  https://www.google.com/maps/place/Walmart+Supe...  \n",
              "602  https://www.google.com/maps/place/Walmart+Supe...  \n",
              "603  https://www.google.com/maps/place/Walmart+Supe...  \n",
              "604  https://www.google.com/maps/place/Walmart+Supe...  \n",
              "\n",
              "[605 rows x 8 columns]"
            ],
            "text/html": "<div>\n<style scoped>\n    .dataframe tbody tr th:only-of-type {\n        vertical-align: middle;\n    }\n\n    .dataframe tbody tr th {\n        vertical-align: top;\n    }\n\n    .dataframe thead th {\n        text-align: right;\n    }\n</style>\n<table border=\"1\" class=\"dataframe\">\n  <thead>\n    <tr style=\"text-align: right;\">\n      <th></th>\n      <th>Company</th>\n      <th>Address</th>\n      <th>City</th>\n      <th>State</th>\n      <th>Zip Code</th>\n      <th>Longitude</th>\n      <th>Latitude</th>\n      <th>URL</th>\n    </tr>\n  </thead>\n  <tbody>\n    <tr>\n      <th>0</th>\n      <td>BJ's Wholesale</td>\n      <td>278 Middlesex Avenue</td>\n      <td>Medford</td>\n      <td>MA</td>\n      <td>2155</td>\n      <td>-71.082800</td>\n      <td>42.413370</td>\n      <td>https://www.google.com/maps/place/BJ's+Wholesa...</td>\n    </tr>\n    <tr>\n      <th>1</th>\n      <td>BJ's Wholesale</td>\n      <td>Northway Mall  1440 Central Ave.</td>\n      <td>Albany</td>\n      <td>NY</td>\n      <td>12205</td>\n      <td>-73.830730</td>\n      <td>42.704230</td>\n      <td>https://www.google.com/maps/place/BJ's+Wholesa...</td>\n    </tr>\n    <tr>\n      <th>2</th>\n      <td>BJ's Wholesale</td>\n      <td>300 Route 17 (Northbound)</td>\n      <td>E. Rutherford</td>\n      <td>NJ</td>\n      <td>7073</td>\n      <td>-74.096790</td>\n      <td>40.824000</td>\n      <td>https://www.google.com/maps/place/BJ's+Wholesa...</td>\n    </tr>\n    <tr>\n      <th>3</th>\n      <td>BJ's Wholesale</td>\n      <td>6924 Frank Avenue Nw</td>\n      <td>N. Canton</td>\n      <td>OH</td>\n      <td>44720</td>\n      <td>-81.439790</td>\n      <td>40.881800</td>\n      <td>https://www.google.com/maps/place/BJ's+Wholesa...</td>\n    </tr>\n    <tr>\n      <th>4</th>\n      <td>BJ's Wholesale</td>\n      <td>4000 Nesconset Highway</td>\n      <td>E. Setauket</td>\n      <td>NY</td>\n      <td>11733</td>\n      <td>-73.076560</td>\n      <td>40.904170</td>\n      <td>https://www.google.com/maps/place/BJ's+Wholesa...</td>\n    </tr>\n    <tr>\n      <th>...</th>\n      <td>...</td>\n      <td>...</td>\n      <td>...</td>\n      <td>...</td>\n      <td>...</td>\n      <td>...</td>\n      <td>...</td>\n      <td>...</td>\n    </tr>\n    <tr>\n      <th>600</th>\n      <td>Walmart</td>\n      <td>29176 Van Dyke Avenue</td>\n      <td>Warren</td>\n      <td>MI</td>\n      <td>48093</td>\n      <td>-83.026566</td>\n      <td>42.508609</td>\n      <td>https://www.google.com/maps/place/Walmart+Supe...</td>\n    </tr>\n    <tr>\n      <th>601</th>\n      <td>Walmart</td>\n      <td>14900 Dix Toledo Rd</td>\n      <td>Southgate</td>\n      <td>MI</td>\n      <td>48195</td>\n      <td>-83.210720</td>\n      <td>42.201638</td>\n      <td>https://www.google.com/maps/place/Walmart+Supe...</td>\n    </tr>\n    <tr>\n      <th>602</th>\n      <td>Walmart</td>\n      <td>45400 Marketplace Blvd</td>\n      <td>Chesterfield</td>\n      <td>MI</td>\n      <td>48051</td>\n      <td>-82.852857</td>\n      <td>42.634760</td>\n      <td>https://www.google.com/maps/place/Walmart+Supe...</td>\n    </tr>\n    <tr>\n      <th>603</th>\n      <td>Walmart</td>\n      <td>1201 Route 300</td>\n      <td>Newburgh</td>\n      <td>NY</td>\n      <td>12550</td>\n      <td>-74.074669</td>\n      <td>41.497821</td>\n      <td>https://www.google.com/maps/place/Walmart+Supe...</td>\n    </tr>\n    <tr>\n      <th>604</th>\n      <td>Walmart</td>\n      <td>700 Lafayette Road Unit #1</td>\n      <td>Seabrook</td>\n      <td>NH</td>\n      <td>3874</td>\n      <td>-70.866699</td>\n      <td>42.894804</td>\n      <td>https://www.google.com/maps/place/Walmart+Supe...</td>\n    </tr>\n  </tbody>\n</table>\n<p>605 rows × 8 columns</p>\n</div>"
          },
          "metadata": {},
          "execution_count": 7
        }
      ]
    },
    {
      "source": [
        "Checking for missing values - no missing values in our data set"
      ],
      "cell_type": "markdown",
      "metadata": {}
    },
    {
      "cell_type": "code",
      "execution_count": 8,
      "metadata": {},
      "outputs": [
        {
          "output_type": "stream",
          "name": "stdout",
          "text": [
            "<class 'pandas.core.frame.DataFrame'>\nRangeIndex: 605 entries, 0 to 604\nData columns (total 8 columns):\n #   Column     Non-Null Count  Dtype  \n---  ------     --------------  -----  \n 0   Company    605 non-null    object \n 1   Address    605 non-null    object \n 2   City       605 non-null    object \n 3   State      605 non-null    object \n 4   Zip Code   605 non-null    object \n 5   Longitude  605 non-null    float64\n 6   Latitude   605 non-null    float64\n 7   URL        605 non-null    object \ndtypes: float64(2), object(6)\nmemory usage: 37.9+ KB\n"
          ]
        }
      ],
      "source": [
        "df.info()"
      ]
    },
    {
      "source": [
        "Write a for loop to extract all url from the dataframe"
      ],
      "cell_type": "markdown",
      "metadata": {}
    },
    {
      "cell_type": "code",
      "execution_count": 8,
      "metadata": {},
      "outputs": [
        {
          "output_type": "execute_result",
          "data": {
            "text/plain": [
              "605"
            ]
          },
          "metadata": {},
          "execution_count": 8
        }
      ],
      "source": [
        "# empty list to store urls in\n",
        "urls = []\n",
        "\n",
        "# for loop to iterate over the urls and add them to the empty list\n",
        "for u in df[\"URL\"]:\n",
        "    urls.append(u)\n",
        "\n",
        "# confirm that all urls are in the list\n",
        "len(urls)\n"
      ]
    },
    {
      "cell_type": "code",
      "execution_count": 9,
      "metadata": {},
      "outputs": [
        {
          "output_type": "execute_result",
          "data": {
            "text/plain": [
              "             Company                                                URL\n",
              "0    BJ's Wholesale   https://www.google.com/maps/place/BJ's+Wholesa...\n",
              "1    BJ's Wholesale   https://www.google.com/maps/place/BJ's+Wholesa...\n",
              "2    BJ's Wholesale   https://www.google.com/maps/place/BJ's+Wholesa...\n",
              "3    BJ's Wholesale   https://www.google.com/maps/place/BJ's+Wholesa...\n",
              "4    BJ's Wholesale   https://www.google.com/maps/place/BJ's+Wholesa...\n",
              "..               ...                                                ...\n",
              "600          Walmart  https://www.google.com/maps/place/Walmart+Supe...\n",
              "601          Walmart  https://www.google.com/maps/place/Walmart+Supe...\n",
              "602          Walmart  https://www.google.com/maps/place/Walmart+Supe...\n",
              "603          Walmart  https://www.google.com/maps/place/Walmart+Supe...\n",
              "604          Walmart  https://www.google.com/maps/place/Walmart+Supe...\n",
              "\n",
              "[605 rows x 2 columns]"
            ],
            "text/html": "<div>\n<style scoped>\n    .dataframe tbody tr th:only-of-type {\n        vertical-align: middle;\n    }\n\n    .dataframe tbody tr th {\n        vertical-align: top;\n    }\n\n    .dataframe thead th {\n        text-align: right;\n    }\n</style>\n<table border=\"1\" class=\"dataframe\">\n  <thead>\n    <tr style=\"text-align: right;\">\n      <th></th>\n      <th>Company</th>\n      <th>URL</th>\n    </tr>\n  </thead>\n  <tbody>\n    <tr>\n      <th>0</th>\n      <td>BJ's Wholesale</td>\n      <td>https://www.google.com/maps/place/BJ's+Wholesa...</td>\n    </tr>\n    <tr>\n      <th>1</th>\n      <td>BJ's Wholesale</td>\n      <td>https://www.google.com/maps/place/BJ's+Wholesa...</td>\n    </tr>\n    <tr>\n      <th>2</th>\n      <td>BJ's Wholesale</td>\n      <td>https://www.google.com/maps/place/BJ's+Wholesa...</td>\n    </tr>\n    <tr>\n      <th>3</th>\n      <td>BJ's Wholesale</td>\n      <td>https://www.google.com/maps/place/BJ's+Wholesa...</td>\n    </tr>\n    <tr>\n      <th>4</th>\n      <td>BJ's Wholesale</td>\n      <td>https://www.google.com/maps/place/BJ's+Wholesa...</td>\n    </tr>\n    <tr>\n      <th>...</th>\n      <td>...</td>\n      <td>...</td>\n    </tr>\n    <tr>\n      <th>600</th>\n      <td>Walmart</td>\n      <td>https://www.google.com/maps/place/Walmart+Supe...</td>\n    </tr>\n    <tr>\n      <th>601</th>\n      <td>Walmart</td>\n      <td>https://www.google.com/maps/place/Walmart+Supe...</td>\n    </tr>\n    <tr>\n      <th>602</th>\n      <td>Walmart</td>\n      <td>https://www.google.com/maps/place/Walmart+Supe...</td>\n    </tr>\n    <tr>\n      <th>603</th>\n      <td>Walmart</td>\n      <td>https://www.google.com/maps/place/Walmart+Supe...</td>\n    </tr>\n    <tr>\n      <th>604</th>\n      <td>Walmart</td>\n      <td>https://www.google.com/maps/place/Walmart+Supe...</td>\n    </tr>\n  </tbody>\n</table>\n<p>605 rows × 2 columns</p>\n</div>"
          },
          "metadata": {},
          "execution_count": 9
        }
      ],
      "source": [
        "companies_urls = pd.DataFrame(df,columns=['Company','URL'])\n",
        "companies_urls\n"
      ]
    },
    {
      "cell_type": "code",
      "execution_count": 10,
      "metadata": {},
      "outputs": [
        {
          "output_type": "execute_result",
          "data": {
            "text/plain": [
              "array([\"BJ's Wholesale\\xa0\", 'Costco', \"Sam's Club\", 'Walmart'],\n",
              "      dtype=object)"
            ]
          },
          "metadata": {},
          "execution_count": 10
        }
      ],
      "source": [
        "df['Company'].unique()"
      ]
    },
    {
      "cell_type": "code",
      "execution_count": 11,
      "metadata": {},
      "outputs": [],
      "source": [
        "bj_wholesale = []\n",
        "costco = []\n",
        "sam_club = []\n",
        "walmart = []\n",
        "for (url, company) in zip(companies_urls['URL'], companies_urls['Company']):\n",
        "    if company == \"BJ's Wholesale\\xa0\":\n",
        "        bj_wholesale.append(url)\n",
        "    elif company == \"Costco\":\n",
        "        costco.append(url)\n",
        "    elif company == \"Sam's Club\":\n",
        "        sam_club.append(url)\n",
        "    else:\n",
        "        walmart.append(url)\n",
        "\n"
      ]
    },
    {
      "source": [
        "### Write code for the web scraping part \n",
        " Define a class with attributed to get all the necessary information from Google Reviews"
      ],
      "cell_type": "markdown",
      "metadata": {}
    },
    {
      "cell_type": "code",
      "execution_count": 18,
      "metadata": {},
      "outputs": [],
      "source": [
        "class WebDriver():\n",
        "\n",
        "    location_data = {}\n",
        "    review_data = {}\n",
        "\n",
        "    def __get_driver(self, debug=False):\n",
        "        options = Options()\n",
        "\n",
        "        if not self.debug:\n",
        "            options.add_argument(\"--headless\")\n",
        "        else:\n",
        "            options.add_argument(\"--window-size=1366,768\")\n",
        "\n",
        "        options.add_argument(\"--disable-notifications\")\n",
        "        options.add_argument(\"--lang=en-GB\")\n",
        "        input_driver = webdriver.Chrome(\"C:/Program Files (x86)/Google/Chrome/Application/chromedriver\",chrome_options=options)\n",
        "\n",
        "        return input_driver\n",
        "\n",
        "\n",
        "    def __init__(self):\n",
        "        self.PATH = \"C:/Program Files (x86)/Google/Chrome/Application/chromedriver\"\n",
        "        self.driver = webdriver.Chrome(self.PATH)\n",
        "        self.location_data[\"average rating\"] = []\n",
        "        self.location_data[\"reviews count\"] = []\n",
        "        self.location_data[\"location\"] = []       \n",
        "        self.review_data[\"star rating\"] = []\n",
        "        self.review_data[\"name\"] = []\n",
        "        self.review_data[\"review\"] = []\n",
        "        self.review_data[\"date\"] = []\n",
        "        \n",
        "\n",
        "\n",
        "\n",
        "    def click_all_reviews(self):\n",
        "        print(\"Click all reviews...\")\n",
        "\n",
        "        try: \n",
        "            WebDriverWait(self.driver, 20).until(EC.presence_of_element_located((By.CLASS_NAME, \"widget-pane-link\")))\n",
        "\n",
        "            element = self.driver.find_element_by_css_selector(\"[class='widget-pane-link']\")\n",
        "            element.click()\n",
        "\n",
        "        except:\n",
        "            print(\"Click all reviews failed.\")\n",
        "            self.driver.quit()\n",
        "            return False\n",
        "\n",
        "        return True\n",
        "\n",
        "    def get_location(self):\n",
        "        print(\"Getting location data...\")\n",
        "\n",
        "        try:\n",
        "            avg_rating = self.driver.find_element_by_class_name(\"aMPvhf-fI6EEc-KVuj8d\")\n",
        "            total_reviews = self.driver.find_element_by_class_name(\"widget-pane-link\")\n",
        "            address = self.driver.find_element_by_css_selector(\"[data-item-id='address']\")\n",
        "            \n",
        "        except:\n",
        "            print(\"No location found.\")\n",
        "            pass\n",
        "\n",
        "        try:\n",
        "            self.location_data[\"average rating\"].append(avg_rating.text)\n",
        "            self.location_data[\"reviews count\"].append(total_reviews.text[0:-1])\n",
        "            self.location_data[\"location\"].append(address.text)\n",
        "\n",
        "        except:\n",
        "            print(\"Rating and Review Count failed.\")\n",
        "            pass\n",
        "\n",
        "    def scroll_the_page(self):\n",
        "        print(\"Scrolling down the page...\")\n",
        "        for i in range(700):\n",
        "            js = \"var q=document.getElementsByClassName('section-layout section-scrollbox cYB2Ge-oHo7ed cYB2Ge-ti6hGc')[0].scrollTop =600000\"\n",
        "            self.driver.execute_script(js)\n",
        "            time.sleep(2)\n",
        "            command_to_js = \"return document.getElementsByClassName('section-layout section-scrollbox cYB2Ge-oHo7ed cYB2Ge-ti6hGc')[0].scrollHeight\"\n",
        "            Height =  self.driver.execute_script(command_to_js)\n",
        "            print(\"------------------------------\")\n",
        "            print(Height)         \n",
        "  \n",
        "\n",
        "    def get_reviews(self):\n",
        "        print(\"Getting reviews...\")\n",
        "        try:\n",
        "            review_names = self.driver.find_elements_by_class_name(\"ODSEW-ShBeI-title\")\n",
        "            review_text = self.driver.find_elements_by_class_name(\"ODSEW-ShBeI-text\")\n",
        "            review_dates = self.driver.find_elements_by_css_selector(\"[class='ODSEW-ShBeI-RgZmSc-date']\")\n",
        "            review_stars = self.driver.find_elements_by_css_selector(\"[class='ODSEW-ShBeI-H1e3jb']\")\n",
        "\n",
        "            review_stars_final = []\n",
        "\n",
        "            for i in review_stars:\n",
        "                review_stars_final.append(i.get_attribute(\"aria-label\"))\n",
        "\n",
        "            review_names_list = [a.text for a in review_names]\n",
        "            review_text_list = [a.text for a in review_text]\n",
        "            review_dates_list = [a.text for a in review_dates]\n",
        "            review_stars_list = [a for a in review_stars_final]\n",
        "            print(len(review_stars_list))\n",
        "\n",
        "            for (a,b,c,d) in zip(review_names_list, review_text_list, review_dates_list, review_stars_list):\n",
        "                self.review_data[\"name\"].append(a)\n",
        "                self.review_data[\"review\"].append(b)\n",
        "                self.review_data[\"date\"].append(c)\n",
        "                self.review_data[\"star rating\"].append(d)\n",
        "\n",
        "        except:\n",
        "            print(\"Getting reviews failed.\")\n",
        "            pass\n",
        "\n",
        "    def scrape(self, url):\n",
        "        print(\"Scarping...\")\n",
        "        try:\n",
        "            self.driver.get(url)\n",
        "\n",
        "        except:\n",
        "            print(\"Scraping failed.\")\n",
        "            pass\n",
        "        time.sleep(3)\n",
        "\n",
        "        self.get_location()\n",
        "        if(self.click_all_reviews()==False):\n",
        "            pass\n",
        "        time.sleep(4)\n",
        "        self.scroll_the_page()\n",
        "        self.get_reviews()\n",
        "        self.driver.quit()\n",
        "\n",
        "        return(self.location_data, self.review_data)\n"
      ]
    },
    {
      "source": [
        "Scraping just one URL at the time and testing if our Web Driver class works"
      ],
      "cell_type": "markdown",
      "metadata": {}
    },
    {
      "cell_type": "code",
      "execution_count": 11,
      "metadata": {
        "tags": []
      },
      "outputs": [
        {
          "output_type": "stream",
          "name": "stdout",
          "text": [
            "Scarping...\n",
            "Getting location data...\n",
            "Click all reviews...\n",
            "Scrolling down the page...\n",
            "------------------------------\n",
            "6586\n",
            "------------------------------\n",
            "9509\n",
            "------------------------------\n",
            "12193\n",
            "------------------------------\n",
            "14669\n",
            "------------------------------\n",
            "16943\n",
            "------------------------------\n",
            "19095\n",
            "------------------------------\n",
            "21123\n",
            "------------------------------\n",
            "23172\n",
            "------------------------------\n",
            "25159\n",
            "------------------------------\n",
            "27166\n",
            "------------------------------\n",
            "29173\n",
            "------------------------------\n",
            "31763\n",
            "------------------------------\n",
            "34556\n",
            "------------------------------\n",
            "36318\n",
            "------------------------------\n",
            "37688\n",
            "------------------------------\n",
            "39058\n",
            "------------------------------\n",
            "40428\n",
            "------------------------------\n",
            "41798\n",
            "------------------------------\n",
            "43168\n",
            "------------------------------\n",
            "43168\n",
            "------------------------------\n",
            "44538\n",
            "------------------------------\n",
            "45908\n",
            "------------------------------\n",
            "45908\n",
            "------------------------------\n",
            "47278\n",
            "------------------------------\n",
            "47278\n",
            "------------------------------\n",
            "47278\n",
            "------------------------------\n",
            "48648\n",
            "------------------------------\n",
            "48648\n",
            "------------------------------\n",
            "50018\n",
            "------------------------------\n",
            "50018\n",
            "------------------------------\n",
            "51388\n",
            "------------------------------\n",
            "52758\n",
            "------------------------------\n",
            "52758\n",
            "------------------------------\n",
            "54128\n",
            "------------------------------\n",
            "54128\n",
            "------------------------------\n",
            "55498\n",
            "------------------------------\n",
            "55498\n",
            "------------------------------\n",
            "56868\n",
            "------------------------------\n",
            "56868\n",
            "------------------------------\n",
            "58238\n",
            "------------------------------\n",
            "58238\n",
            "------------------------------\n",
            "59608\n",
            "------------------------------\n",
            "59608\n",
            "------------------------------\n",
            "59608\n",
            "------------------------------\n",
            "59608\n",
            "Getting reviews...\n",
            "320\n",
            "({'average rating': ['4.2'], 'reviews count': ['360 review'], 'location': ['278 Middlesex Ave, Medford, MA 02155'], 'popular words': []}, {'star rating': [' 5 stars ', ' 4 stars ', ' 1 star ', ' 1 star ', ' 1 star ', ' 1 star ', ' 5 stars ', ' 5 stars ', ' 1 star ', ' 4 stars ', ' 1 star ', ' 3 stars ', ' 1 star ', ' 5 stars ', ' 2 stars ', ' 1 star ', ' 1 star ', ' 5 stars ', ' 2 stars ', ' 1 star ', ' 5 stars ', ' 2 stars ', ' 2 stars ', ' 4 stars ', ' 4 stars ', ' 5 stars ', ' 5 stars ', ' 1 star ', ' 2 stars ', ' 5 stars ', ' 1 star ', ' 5 stars ', ' 1 star ', ' 5 stars ', ' 3 stars ', ' 5 stars ', ' 4 stars ', ' 4 stars ', ' 5 stars ', ' 5 stars ', ' 1 star ', ' 5 stars ', ' 5 stars ', ' 5 stars ', ' 2 stars ', ' 1 star ', ' 5 stars ', ' 5 stars ', ' 5 stars ', ' 4 stars ', ' 5 stars ', ' 3 stars ', ' 1 star ', ' 1 star ', ' 4 stars ', ' 5 stars ', ' 4 stars ', ' 3 stars ', ' 4 stars ', ' 5 stars ', ' 1 star ', ' 5 stars ', ' 4 stars ', ' 1 star ', ' 4 stars ', ' 5 stars ', ' 4 stars ', ' 3 stars ', ' 5 stars ', ' 4 stars ', ' 4 stars ', ' 2 stars ', ' 3 stars ', ' 5 stars ', ' 1 star ', ' 1 star ', ' 5 stars ', ' 5 stars ', ' 1 star ', ' 5 stars ', ' 4 stars ', ' 5 stars ', ' 5 stars ', ' 5 stars ', ' 5 stars ', ' 5 stars ', ' 3 stars ', ' 3 stars ', ' 2 stars ', ' 4 stars ', ' 2 stars ', ' 5 stars ', ' 5 stars ', ' 3 stars ', ' 5 stars ', ' 5 stars ', ' 1 star ', ' 4 stars ', ' 4 stars ', ' 5 stars ', ' 5 stars ', ' 4 stars ', ' 5 stars ', ' 4 stars ', ' 5 stars ', ' 5 stars ', ' 4 stars ', ' 5 stars ', ' 5 stars ', ' 5 stars ', ' 5 stars ', ' 1 star ', ' 5 stars ', ' 5 stars ', ' 5 stars ', ' 2 stars ', ' 5 stars ', ' 1 star ', ' 5 stars ', ' 4 stars ', ' 4 stars ', ' 5 stars ', ' 1 star ', ' 4 stars ', ' 1 star ', ' 5 stars ', ' 5 stars ', ' 5 stars ', ' 5 stars ', ' 5 stars ', ' 5 stars ', ' 5 stars ', ' 5 stars ', ' 4 stars ', ' 5 stars ', ' 5 stars ', ' 5 stars ', ' 1 star ', ' 4 stars ', ' 5 stars ', ' 2 stars ', ' 5 stars ', ' 4 stars ', ' 2 stars ', ' 5 stars ', ' 5 stars ', ' 5 stars ', ' 5 stars ', ' 5 stars ', ' 4 stars ', ' 3 stars ', ' 4 stars ', ' 3 stars ', ' 5 stars ', ' 5 stars ', ' 4 stars ', ' 4 stars ', ' 5 stars ', ' 5 stars ', ' 5 stars ', ' 5 stars ', ' 5 stars ', ' 5 stars ', ' 5 stars ', ' 5 stars ', ' 5 stars ', ' 5 stars ', ' 5 stars ', ' 3 stars ', ' 5 stars ', ' 5 stars ', ' 5 stars ', ' 5 stars ', ' 4 stars ', ' 5 stars ', ' 4 stars ', ' 5 stars ', ' 5 stars ', ' 5 stars ', ' 5 stars ', ' 5 stars ', ' 5 stars ', ' 5 stars ', ' 5 stars ', ' 5 stars ', ' 5 stars ', ' 4 stars ', ' 4 stars ', ' 4 stars ', ' 2 stars ', ' 4 stars ', ' 4 stars ', ' 4 stars ', ' 4 stars ', ' 5 stars ', ' 5 stars ', ' 4 stars ', ' 5 stars ', ' 5 stars ', ' 3 stars ', ' 5 stars ', ' 5 stars ', ' 3 stars ', ' 4 stars ', ' 5 stars ', ' 5 stars ', ' 3 stars ', ' 3 stars ', ' 5 stars ', ' 1 star ', ' 5 stars ', ' 3 stars ', ' 4 stars ', ' 5 stars ', ' 5 stars ', ' 4 stars ', ' 4 stars ', ' 4 stars ', ' 4 stars ', ' 5 stars ', ' 5 stars ', ' 5 stars ', ' 5 stars ', ' 5 stars ', ' 5 stars ', ' 5 stars ', ' 2 stars ', ' 4 stars ', ' 5 stars ', ' 5 stars ', ' 5 stars ', ' 5 stars ', ' 5 stars ', ' 5 stars ', ' 4 stars ', ' 4 stars ', ' 2 stars ', ' 5 stars ', ' 4 stars ', ' 5 stars ', ' 4 stars ', ' 5 stars ', ' 5 stars ', ' 4 stars ', ' 4 stars ', ' 5 stars ', ' 1 star ', ' 5 stars ', ' 4 stars ', ' 5 stars ', ' 5 stars ', ' 5 stars ', ' 5 stars ', ' 5 stars ', ' 5 stars ', ' 5 stars ', ' 5 stars ', ' 5 stars ', ' 5 stars ', ' 5 stars ', ' 5 stars ', ' 5 stars ', ' 5 stars ', ' 5 stars ', ' 5 stars ', ' 5 stars ', ' 5 stars ', ' 5 stars ', ' 4 stars ', ' 5 stars ', ' 5 stars ', ' 5 stars ', ' 5 stars ', ' 4 stars ', ' 5 stars ', ' 5 stars ', ' 5 stars ', ' 4 stars ', ' 5 stars ', ' 5 stars ', ' 4 stars ', ' 5 stars ', ' 3 stars ', ' 4 stars ', ' 4 stars ', ' 3 stars ', ' 4 stars ', ' 5 stars ', ' 4 stars ', ' 4 stars ', ' 3 stars ', ' 5 stars ', ' 5 stars ', ' 1 star ', ' 4 stars ', ' 4 stars ', ' 5 stars ', ' 5 stars ', ' 5 stars ', ' 5 stars ', ' 5 stars ', ' 4 stars ', ' 5 stars ', ' 5 stars ', ' 4 stars ', ' 5 stars ', ' 5 stars ', ' 5 stars ', ' 5 stars ', ' 5 stars ', ' 5 stars ', ' 4 stars ', ' 4 stars ', ' 5 stars ', ' 4 stars ', ' 4 stars ', ' 5 stars ', ' 5 stars ', ' 2 stars ', ' 5 stars '], 'name': ['XxbluewølfX x', 'Biswanath Roy', 'Amy Rose', 'Sabina Lamichhane', 'David L.S', 'Lauren King', 'Jackie D', 'Emma Hurley', 'Aydin Alim', 'tony bonaiuto', 'srkharel', 'Luz Garcia', 'pavana rai', 'Melanie Russo', 'Ryan Li', 'Amaris Brown', 'pam korakod', 'Kim Lee', 'Todd Xiao', 'Karine H', 'Randy Hurley', 'Ada Flores', 'Nicole Waters', 'Jeff Sawtelle', 'James Craver', 'King Ho', 'Savino J', 'Domenic Camarra', 'Jeanne Walsh', 'Sheila Miller', 'Vladimir Presnyak', 'Chris Ronsicki', 'Ana Funes', 'Max C.', 'Norman Maines', 'Fernando Franco Cuadrado', 'Rich Marino', 'aleksandra ibrahimi', 'Sandra quartarone', 'Katia Borba', 'maureen biggie', \"Alethea O'Neal\", 'Michael Barnes', 'Phil Goveia', 'joseph frunzo', 'Colleen Robichaud Mountzouros', 'yanbing li', 'Paul Ellis', 'John Chalmere', 'Jazz Win', 'Salah Alkhallagi', 'Christine P', 'jasnewbie', 'Patricia Santos', 'mary pefine', 'Anthony Moreschi', 'Tommy Vo', 'j brown', 'Love Diva', 'Rob La Fee', 'Mary Shannon', 'Kaylah Morilus', 'ThePhilLorenzo', 'Dominga Dejesus', 'sai U', 'Enso Germain@Gmail.com Germain', 'vibert austin', 'Shawn Cummings', 'Bob Suosso', 'oliver guti', 'Sivadevan Kumar', 'lily lulu', 'Karlen The Conservative', 'Maria Isabel Barbosa', 'kevin D', 'John Wheeler', 'Ivan Popov', 'James Smith', 'LUIS LAINEZ-ORELLANA', 'Joel Guerriero', 'Sonia', 'Telahun Gebrehiwot', 'Alvin Lu', 'Donna Coakley', 'Mohit Nasir', 'Pastor Marcos Fabiano', 'Michael Nsubuga', 'DDC ROCKY', 'James Aguiar', 'Alex Hernandez', 'Daniel Lyons', 'Meron Kassaye', 'Daniel Vaccaro', 'Holdy Jacquito', 'Marlon Alexandre', 'Ivan Popov', 'Thomas Sellon', 'LORD TSM', 'Mario Perez', 'Carol M', 'Mariette Dufresne', 'Silvio Oreng', 'Md Salauddin', 'Jean Jeune', 'Jean Chardin Silencieux', 'Samuel Beneche', 'Irlande Vales', 'Mohamed Abdelfattah', 'Cheryl Hall', 'Bayoan Martinez-Yung', 'aditi chaudhari', 'Kashid Rome', 'Manat Kumar', 'Isaac Chery', 'Meagan McGinley', 'Tony li', 'Bert Baez', 'saadat khan', 'Ronald Santos', 'Mayvorly Ramirez', 'Maria Aleo', 'Jean Tancyl', 'DanDan Rucker', 'Otniel Radu', 'Marcio Cavalheiro', 'Joe K', 'Eric Lin', 'michel garcia', 'TANIA PRADO', 'khaled alahmad', 'Myriam Carreño', 'Claribel Martinez', 'Jose Paniagua', 'Derek Yeung', 'Mauro Ferreira', 'Samuel Orellana', 'Magloire Kwasi', 'Abe Belrhalia', 'Ana Chacon', '宮雪华', 'yy m', 'Vanessa Escobar', 'Jubara AlRaiky', 'Prof. Juan R Avila, PhD', 'Bhawani Acharya', 'Samir Ahmic', 'Paulo Cabral', 'David Taylor', 'Yasmin Aguilar', 'Heriberto Hernandez', 'Kattlyne Lajoie', 'Roselyn B', 'salum salum', 'John Cornelio', \"Sky's of The Travelers\", 'Big Wil', 'Felipe Almeida', 'jyoti shinde', 'Donna lewin', 'Vinicio Schettine', 'Javier Perez', 'Jenny Romero', 'Dip Talukdar', '\\\\/\\\\/ayne', 'Ricardo Jorcelin', 'Tanka Acharya', 'Estifnos Ourgessa', 'greg play', 'Cheryl Hurley', 'Angel Gonzalez', 'Michele bobato', 'ram das', 'sheealem1', 'Team DJLive', 'Kelinson Januário', 'pritam saini', 'Mileyrie Santell', 'Francisca Contreras', 'Joao Carreiro', 'Federico Pena', 'svetlana kresel', 'Michael J. Lowe II', 'Evandro Almeida', 'Sandra Louis', 'Wilcler Sathler', 'NL BC', 'Kelly Scott', 'Francisco Jerez', 'munna kumar', 'Norddine N.', 'Christine Gomes', 'Baratinhahd Henrique', 'annamaria mazza', 'Peter Phan', 'Zeke Schmois', 'Nat Cabán', 'Mario Rodrigues', 'Amado Garcia', 'Carolyn Jones', 'Christopher Adamson', 'Lucas Correa', 'Ashutosh Sharma', 'Julian Zapata', 'Marcos Rodriguez', 'Carolina Rodriguez', 'SERTOGAME', 'Hassan Boughroum', 'Angeliki Brouard', 'Francisco Calderon', 'Joel Neves', 'Alexis Cocozaki', 'danita brooks', 'Icylyn Whittaker', 'Elizabeth Ducasse', 'Melissa GC', 'Jonathan Yu Chi Yip', 'Damean Simpson', 'Carmelo Cortes', 'Cleidson Silva', 'Lise Constant', 'Derek Barnes', 'Татьяна Светецкая', 'king Jerry', 'John Cinkala', 'Benito Figueroa', 'Noura Alkoori', 'Zulma López', 'Valmeek Kudesia', 'Jeferson DeOliveira', 'Patti Giangregorio', 'Borelle St.Aubain', 'Reyjad Douyon', 'Jose Chacon', 'Ryan Figueroa', 'Amourah Durrant', 'Rafael Amaro', 'Patrick F', 'Anderson Lozer', 'Tiffany Pegues', 'Jean Seguin Mentor', 'Joanne Exilus', 'Maura huezo', 'charles Fino', 'lion lion', 'Gary Decker', 'PATRICIA ADAMSON', 'Dayna Pizarro', 'Adriana Denardi', 'Savannah Lodge-Scharff', 'Ricardo Costa', 'Preciousrock82', 'Selim Firat', 'Emma Zhu', 'Dayana Alicea-Lorenzo', 'Borelle St Aubain', 'Lorena Munoz Torres', 'Maria Terezinha Magnago', 'Nicole Marotta', 'Ana Barroso', 'Kiran Khadka', 'Md Omar Khan', 'Tara Petrovic', 'Maria Barrientos', 'Vincenzo Di Filippo', 'Augustine Egbe', 'Michael Binari', 'Bruce Papst', 'Santiago leiva', 'Salma Melendez', 'Frantz Douyon', 'Jerry Smith', 'hector Ramirez', 'Ana Milagro Umana', 'Tiffany Horne', 'Stanley Nova', 'Brenda Stephenson', 'Rudy Reyes', 'Margarita Oorzhak', 'Dee Ellison', 'Izaene Santiago Pereira', 'Hananel H', 'Tania Amaya', 'Maria Elisabel Reyes Valdez', 'Norma Johnson', 'Robert Rosenthal', 'Clayton', 'Narendra Prajapati', 'lin arhin', 'Francisco Lugo', 'Dori Dorne', 'Gyverna Ovilma', 'Gui Louissaint', 'Viral Patel', 'Ronald Buchholz', 'Edward Eccles', 'Julio Canas', 'JO V', 'Roblox Anime', 'Eske Defi', 'Jose Fco Gomez Mejia', 'Edward Crane', 'Juan C.', 'Zenobio Florez', 'Nick Benik', 'Jack Chau', 'Eder Leandro', 'Bui Tony', 'Mara Fane', 'L. Tllz', 'Ruben Pena', 'Wawa Bel afer', 'Venkat G', 'simon bolivar', 'Stesy Jeanlouis', 'Edghord Leconte', 'Lars Ojukwu', 'Marina Garcia', 'brian cotter', 'Bloder Theresias', 'Susan Silvestre-Simko'], 'review': ['Eric has great customer service. He told me to use the receipt and left instructions on it. But I lost it. It was a good shopping run and he made the experience even better. Way to go Eric!!!', 'Not ample stock compare to other stores. Other than everything good. It has good parking spaces.', \"This location has been my reliable go-to for many years, however, based on my last two trips, I'm not sure I can continue shopping here.\\n\\nWe all expect to spend time standing in line, especially with the COVID protocols in place. …\", \"I place a online pick up order to save some time. Everytime I pick up the order, they can't complete the order and mark the item as missing. When I look in the aisle, behold it's there. Today I had the worst experience. I was missing half …\", 'Do something!!!\\nmake a self checkout line other BJ can manage well hope this place can too. Avoid weekend.', \"Curbside pickup is a joke. They had me waiting for something that could have took me 5 minutes.  Only did curbside because I didn't want to bring 4 kids in the store with me. Also tried to call the store after waiting 25 minutes after I …\", \"I'm a 15 years BJ's member and got issues twice, store manager done what she can do and helped me out. Those issues were all about items warranty / service and not their fault. She understood and helped. Thank you.\", 'Best parking lot on this side of Medford', 'Very disappointed with the Tire Service, and manager’s attitude to my problem.\\nI’ve been there three times in two weeks. Wheels were badly balanced. The manager Justin, who promised to meet me there after my phone inquiry, simply ignored me …', 'I go here for certain orders in bulk.', 'I had appointment at 4pm on tax free weekend for my tire install.When I got to tire center, I was told that they didn’t have tire and I had to reschedule. Again I didn’t get service on time.\\nI had another appointment and Monday and I got …', 'Good place to buy', 'Worse customer service, supervisor’s attitude was the worst to my problem. I believe her name was Radha was not helpful at all instead she was rude and mean.', \"This Location has been so careful,clean& doing everything to make guests feel safe. TheOThe prices are great..  I wish customers would stop throwing gloves and masks in parking lot. It's not fair seeing all the carriage boys having to pick up the germs. Ty BJ's Medford.\", 'Today afternoon my uncle was waiting in line at this Bj ready to pay. He was patiently waiting in line and finally when it was his turn to pay, a employee came up to him and tell him to go back to the line thinking that he cut the line. …', 'Rude teenage cashiers on their phones who don’t help you. Manager who couldn’t care less. Bought a product they said was in stock, turns out it wasn’t and now I’m waiting 10 business days for a refund of a product that was almost a grand. Unprofessional, rude and lazy.', \"Such a shame and sad story I could say! I've had a reservation online over week ago for tires changing my appointment has made  at 0930pm. Medford on Friday June 26 . I got there At the desk he tell me that the mechanic has called off and I …\", \"I love this store. Except when it's covid-19 shopping.\\nthe only thing I will complain about is the tall creepy guy in the parking. Who swears he owns the parking lot..\", \"This is the first time I write a very serious review.\\nMy experience had been okay for a while at this location. Normally buying things and such, with some helpful staff.\\n\\nBut for work purposes, I've purchased a large pallet of milk …\", 'We go there very often because they have a nice variety of food specially international options that you can’t find at other locations, but today right next to the water cases we saw a mice running in the middle of the store. Check your cameras, mice poop and get them out please', 'Sanjay at the front desk was very helpful getting my new card for me. I like the app linked to my card as well.\\n\\nPerrin helped pick out the TV that best fit my needs\\n\\nVery helpful staff\\n\\n11/8/20\\nBrandon helped with my TV educated me on …', \"This is the third time I have come for my free replacement tire and, again, I was sent away. The first time I came at night and the computer wasn't working. The second time, I called the day before and the guy on the phone said come over …\", 'Always out of stick lately of stuff and items in idles randomly', 'It\\'s your standard wholesale club experience. Big, wide aisles, giant lots of stuff, and mayonnaise by the gallon. The selection is pretty good; the wife & I can do a month\"s worth of grocery shopping for about the same cost as 2 weeks …', \"I enjoy BJ's Wholesale Club for its variety and price. My only complaints, if pressed, would be that the service desk sometimes has trouble with their systems. They always make it right in the end, but sometimes it takes a while. Also, …\", 'Nice staffs but sometimes they could be really slow.', 'I went today to buy an advertised 8k BTU AC. It was easy to find! I ended up buying other items including individual wrapped Purdue chicken thighs, $9 for six meals, these freeze well. I got other things. The lady who checked me out was …', 'In a word...\"dishartning\".\\nWith hundreds of shopping customers, only ONE register was staffed, and lines of people lined up, patiently but frustratingly waiting to be helped checking out. Only ONE helpful young lady available to help with …', \"Prices are the same in the Grocery Store or BJ's is higher.  No one on the floor to assist but they can sure ride the Large carts down the Isle.  Not a good Experience. Great possibility it is our Last Membership with BJ's.\", \"I'm writing a review to say how impressed I was with the service I received especially the Deli dept. I was there Saturday morning, June 3rd, to pick up, amongst other things for a party, mainly a cake and a Deli platter. There was a bit of …\", \"Called 5 times over 3 days without anyone ever picking up the phone. They collect a membership fee and that's the level of service? Unacceptable.\", \"Exactly what you'd expect. Solid options, great values, for larger wholesale packages. Great for large family's or those with plenty of freezer space. Great book selections too!\", 'Racist supervisor,\\nToday my mother and my 10 year old went to Bjs to buy some groceries we need but my mom forgot her bjs card and the cashier was very nice to help her out but the cashier made a mistake and when she called the supervisor …', 'Thanks for installing the additonal SIX (6) new <=15 items self check-out registers! Way to go! They\\'re much faster to check out than the conveyor belt which didn\\'t allow to scan until the item travels off the scale. It also has a \"pour by handful\" coin receiver - useful to quickly pay part in these accumulating coins.', \"I find the store is ok? It's good for buying some small stuff (for me )  dress shirts (for work) pants, socks,  T shirts ,  sweaters maybe a coat or jacket and maybe select food items (for family) but, u the things u buy are bigger items …\", 'Great prices for a lot of things but watch for a few items, they may end up costing more when buying in bulk or offer little in savings.\\n\\nThe lines are absolutely ridiculous, they only open a quarter of the registers when busy and the self …', 'Selection limited, large quantities but good prices usually.  My go-to place for meat, fish, produce, dairy.  If you are into \"factory foods\" there are plenty but we avoid those for health reasons.  Bargains often found.  Know your prices.', \"It's well stocked most of the time. Good selection of food items\", 'Always stocked.....great products... some organic options also. The team are always helpful and pleasant!', \"This is the Best BJ'S.\", 'I specifically went there to get Food Saver bags and rolls. Looked everywhere and no Food Saver products at all.\\nI asked a nice gentleman if they even carry them. His answer was, we sell the Food Saver, (which I did not see) but not the …', \"As soon as something didn't ring in correctly someone was there.  They also have good sales for buying food and household items in bulk for a better price than regular grocery stores.\", \"BJS of Medford Massachusetts is a wonderful store that has a lot of great bargains wholesale prices for the individual and for a person who has their own business I recommend BJ's for total experience for food to retail too entertaining and …\", \"Great prices went at lunch time and it wasn't to busy\", 'After my quick visit here I see now I never shop at BJs or bother with their expensive membership for basic things I can get anywhere for less if not the same and BIG GIGANTIC unnecessary sizes I had ONE thing and STILL needed the card for …', 'extremely rude customer service.', \"I like to shop in BJ's Wholesale Club because they  have good service.\", 'Found everything we were looking for and easy self checkout.', 'Great place to get things in bulck', 'they have a lot of cookies.\\nthey sell clotheing there.\\nthere prices are the best.\\nthey have great service.', 'Large place for family shopping. Needs membership to get in there to shop. Family size for safe money.', 'Easy parking. The lines are always ridiculous! Go to the Waltham location if you can.', \"Not good. Cashier failed  to scan item. They won't allow me to leave.  Then was stuck at register while person rechecked thing.  At which point they found the mistake.  Then they gave me two sheets. When back to door and person keep the paper.  At least I got out of there\", \"It was very unpleasant  bc one of the manager was search  a women or employees  backpack and another customer told him that wasn't  nice to do it that was a discrimination  the women was dark skin, and after that  some how stated and …\", \"I enjoy shopping at BJ's , they always have what I need at a good price.\", 'Best of the box stores. Beats Costco', 'Has everything I need just like any other bjs. No complaints.', 'Good luck finding prices, half of the items have none.', 'Ok.. Busy store great customer service', 'My Wife lives there!!! Good prices Great deals', \"Consistently poor staffing patterns, staff that can't answer basic questions, and are rude when they do. Inconsistent availability of merchandise.\", 'Nice variety of products in food and home good', 'I went in at 4:30 p.m. on the Monday before Christmas and the place was surprisingly empty. Good. No lines.', 'You can find some good deals on some things\\nBut the optical dept is the far worst I ordered my glasses from there great deal but to wait 3 to 6 weeks for my glasses is unheard of I went to Costco got the same great deal and my glasses came in one week wow I will be going to Costco for now on', 'A little different from the other bjs.  No gas here', 'I love it I go every week.', 'It was great, but need more customer service', 'The 1st BJs.  Great selection but the lines are horrid.', 'Better than Costco for the average home owner,', 'Big line sometimes.. Good quality...', 'Really good store with lot of options...', 'Kadeem should refrain from using his phone while working.', 'No liquor sold here', 'The best place to shop', 'They so long in their tires', 'Didn’t display the products I was looking for.', 'Good selection in this store', 'Quick visit.', 'sorry!!  they make poor decision with us the customer/member..i am switching to cosco', 'Nice clean club. .', 'Good customer service.', 'I am extremely satisfied', 'Fresh produce and good price', 'Bj is awesome', 'Nice', 'Thanks for everything!', 'Good', 'Service is horrible', 'Waited over 10 minutes for assistance at self checkout, in the end I just went went to wait in line for a regular employee check out. Hire more cash register attendants!', 'Awesome', 'Ok', 'Everything is here.', 'I was very respected thanks', 'I like', 'Amazing', 'They got what I was looking for', 'Half the people cant speak english.', 'Good items', 'Good', 'No', \"It's a great experience for me\", 'Good', 'I love is going', 'Fantastic', 'very friendly', 'Had my favorite thing in there, 🎂', 'Saving money', 'Good business', 'Prices variety of different things quantity.', 'This place was remodeled, but everything else looks the same.', 'All products', 'Lines are slow not good!', 'Love it.', 'Awesome', 'Great!', 'its cheap, but comparing with Costco, I find it much unpleasant with the store decoration and set up', 'fast service', 'Not a courteous place at all!', 'Good place', 'Affordable', 'Not to busy', 'You can save alot of money when you use coupons.', 'Their Tire shop never answers the phone. Guess they have enough business', 'Pretty good!', 'Very poor attendee', 'Get prices can be better', 'nice wholesale club', 'Best place', '(Translated by Google) Very good place where you can buy several products in bulk. There is a choice and there is always a variety with affordable prices, including membership, as well as its various discount coupons.\\n\\n(Original)\\nMuy buen …', '(Translated by Google) A very huge store that contains discounts and discounts for all goods, such as cleaning materials, clothing, canned food, fresh, electronics and household items, suitable for students and long-term residents because …', '(Translated by Google) It is a good supermarket; that it has a wide assortment of vegetables and fruits; also variety of other products and a small fast food buffet.\\n\\n(Original)\\nEs un buen supermercado; que tiene surtido amplio de vegetales y frutas; también variedad de otros productos y un pequeño bufé de comida rápida.', '(Translated by Google) Because you find a variety of products and the attention in the boxes is very efficient\\n\\n(Original)\\nXq encuentras variedad de productos y la atención en las cajas es muy eficiente', \"(Translated by Google) BJ's is a good place where you can find good deals almost every day\\n\\n(Original)\\nBJ's es un buen lugar donde se encuentra de todo buenas ofertas casi todos los días\", '(Translated by Google) Very good, but limited to members.\\n\\n(Original)\\n很好，但限於会员。', '(Translated by Google) Perfect in everything\\n\\n(Original)\\nPerfeito em tudo', '(Translated by Google) Low prices !!\\n\\n(Original)\\nBajos precios!!', '(Translated by Google) Excellent\\n\\n(Original)\\nExcellent', '(Translated by Google) Revere Ma\\n\\n(Original)\\nRevere Ma', '(Translated by Google) Excellent\\n\\n(Original)\\nExelente', '(Translated by Google) Very full of things\\n\\n(Original)\\n东西很全', '(Translated by Google) Things are very cheap\\n\\n(Original)\\n东西很便宜', '(Translated by Google) Excellent\\n\\n(Original)\\nExcelente', '(Translated by Google) The prices are suitable and the options are great.\\n\\n(Original)\\nالأسعار مناسبة و الخيارات كبيرة.', '', '', '', '', '', '', '', '', '', '', '', '', '', '', '', '', '', '', '', '', '', '', '', '', '', '', '', '', '', '', '', '', '', '', '', '', '', '', '', '', '', '', '', '', '', '', '', '', '', '', '', '', '', '', '', '', '', '', '', '', '', '', '', '', '', '', '', '', '', '', '', '', '', '', '', '', '', '', '', '', '', '', '', '', '', '', '', '', '', '', '', '', '', '', '', '', '', '', '', '', '', '', '', '', '', '', '', '', '', '', '', '', '', '', '', '', '', '', '', '', '', '', '', '', '', '', '', '', '', '', '', '', '', '', '', '', '', '', '', '', '', '', '', '', '', '', '', '', '', '', '', '', '', '', '', '', '', '', '', '', '', '', '', '', '', '', '', '', '', '', '', '', '', '', '', '', ''], 'date': ['2 months ago', '8 months ago', '4 months ago', '4 months ago', '4 months ago', '6 months ago', '8 months ago', 'a month ago', '8 months ago', '4 days ago', '8 months ago', '2 weeks ago', '6 months ago', 'a year ago', 'a year ago', '5 months ago', '10 months ago', 'a year ago', '11 months ago', 'a year ago', '6 months ago', 'a year ago', '8 months ago', '2 years ago', '2 years ago', 'a year ago', '2 years ago', '3 years ago', '2 years ago', '3 years ago', '2 years ago', '3 years ago', 'a year ago', '2 years ago', '2 years ago', 'a year ago', '3 years ago', '2 years ago', '3 years ago', 'a year ago', '3 years ago', '2 years ago', '3 years ago', '2 years ago', '3 years ago', 'a year ago', '2 years ago', '2 years ago', '2 years ago', '8 years ago', '3 years ago', '3 years ago', '3 years ago', '3 years ago', '3 years ago', '3 years ago', '5 years ago', '4 years ago', '3 years ago', '2 years ago', '2 years ago', '3 years ago', '3 years ago', '4 years ago', '3 years ago', '3 years ago', '3 years ago', '2 years ago', '3 years ago', '5 years ago', '4 years ago', 'a year ago', '2 years ago', '2 years ago', 'a year ago', '3 years ago', '3 years ago', '2 years ago', '3 years ago', '3 years ago', '3 years ago', '3 years ago', '3 years ago', '2 years ago', '2 years ago', '2 years ago', '2 years ago', '2 years ago', '2 years ago', '2 years ago', '2 years ago', '2 years ago', '3 years ago', '3 years ago', '3 years ago', '3 years ago', '3 years ago', '3 years ago', '3 years ago', '3 years ago', '2 years ago', '3 years ago', '3 years ago', '3 years ago', '3 years ago', '3 years ago', '3 years ago', '3 years ago', '3 years ago', '3 years ago', '3 years ago', '3 years ago', '3 years ago', '3 years ago', '3 years ago', '4 years ago', '3 years ago', '3 years ago', '3 years ago', '3 years ago', '3 years ago', '3 years ago', '4 years ago', '4 years ago', '5 years ago', '5 years ago', '5 years ago', '5 years ago', 'a year ago', '3 years ago', '3 years ago', '3 years ago', '3 years ago', '2 years ago', '3 years ago', '3 years ago', '2 years ago', '3 years ago', '3 years ago', '3 years ago', '4 years ago', '3 years ago', '5 years ago', 'a year ago', '3 years ago', '2 years ago', '2 years ago', '2 years ago', '3 years ago', '5 years ago', '3 years ago', '3 years ago', '3 years ago', '3 years ago', '2 years ago', '2 years ago', '3 years ago', '2 years ago', 'a year ago', '2 years ago', '3 years ago', '3 years ago', '2 years ago', '7 years ago', '3 years ago', '2 years ago', '5 years ago', '3 years ago', '2 years ago', '3 years ago', '2 years ago', '3 years ago', '3 years ago', '2 years ago', '3 years ago', '3 years ago', '5 months ago', '3 years ago', '3 years ago', '2 years ago', '4 years ago', '2 years ago', '2 years ago', '3 years ago', '3 years ago', '9 months ago', '6 years ago', '3 years ago', '3 years ago', '3 years ago', '3 years ago', '3 years ago', '2 years ago', '2 years ago', '4 years ago', '2 years ago', '4 years ago', '3 years ago', '3 years ago', '3 years ago', '3 years ago', '3 years ago', '3 years ago', '3 years ago', '8 years ago', '3 years ago', '3 years ago', '3 years ago', '3 years ago', '3 years ago', '3 years ago', '2 years ago', '3 years ago', '2 years ago', '2 years ago', '5 years ago', '4 years ago', '5 years ago', '2 years ago', '3 years ago', '2 years ago', '5 years ago', '3 years ago', '2 years ago', '3 years ago', '4 years ago', '3 years ago', '5 years ago', '2 years ago', '2 years ago', '3 years ago', '3 years ago', '3 years ago', '3 years ago', '3 years ago', '4 years ago', '3 years ago', '2 years ago', '2 years ago', '2 years ago', '3 years ago', '4 years ago', '2 years ago', '3 years ago', '5 years ago', '3 years ago', '3 years ago', '5 years ago', '3 years ago', '2 years ago', '2 years ago', '4 years ago', '3 years ago', 'a year ago', '2 years ago', 'a year ago', 'a year ago', '2 years ago', '2 years ago', '3 years ago', '3 years ago', '2 years ago', '3 years ago', '3 years ago', '3 years ago', '3 years ago', '3 years ago', '3 years ago', '2 years ago', '3 years ago', '3 years ago', '2 years ago', '3 years ago', '3 years ago', '3 years ago', '2 years ago', 'a year ago', '2 years ago', '3 years ago', '3 years ago', '5 months ago', '2 years ago', '3 years ago', '3 years ago', '2 years ago', '3 years ago', '2 years ago', '2 years ago', '2 years ago', '3 years ago', '3 years ago', '3 years ago', '2 years ago', '2 years ago', '3 years ago', '2 years ago', '5 years ago', '2 years ago', '4 years ago', '3 years ago', '3 years ago', '3 years ago', '2 years ago', '4 years ago', '5 years ago', '2 years ago', '2 months ago', '2 years ago', '3 years ago', '2 years ago', '3 years ago', '5 years ago', '3 years ago', '3 years ago', '2 years ago', '3 years ago', '3 years ago', '2 years ago', '3 years ago', '5 years ago']})\n"
          ]
        }
      ],
      "source": [
        "url = \"https://www.google.com/maps/place/BJ's+Wholesale+Club/@42.413148,-71.0843377,17z/data=!3m1!4b1!4m5!3m4!1s0x89e3713f4df53f97:0x7bbe47e5e3361afc!8m2!3d42.413148!4d-71.082149\"\n",
        "x = WebDriver()\n",
        "bjs = x.scrape(url)\n",
        "print(bjs)\n"
      ]
    },
    {
      "source": [
        "Creating dataframes we can then use for the scraping and fill in with the information we got from scraping"
      ],
      "cell_type": "markdown",
      "metadata": {}
    },
    {
      "cell_type": "code",
      "execution_count": 19,
      "metadata": {},
      "outputs": [],
      "source": [
        "bj_reviews = pd.DataFrame({\"star rating\": [], \"name\": [], \"review\": []})\n",
        "bj_overview_location = pd.DataFrame({\"average rating\": [], \"reviews count\": [], \"location\":[]})\n",
        "y = 1\n",
        "\n"
      ]
    },
    {
      "source": [
        "Scraping all BJ's URLs with a for loop  \n",
        "Attention: If you try to do it again, it is better to only scrape 20-30 urls at a time since google will detect you as a robot and kick you out"
      ],
      "cell_type": "markdown",
      "metadata": {}
    },
    {
      "cell_type": "code",
      "execution_count": 20,
      "metadata": {},
      "outputs": [
        {
          "output_type": "stream",
          "name": "stdout",
          "text": [
            "Scarping...\n",
            "Getting location data...\n",
            "No location found.\n",
            "Rating and Review Count failed.\n",
            "Click all reviews...\n",
            "Scrolling down the page...\n"
          ]
        },
        {
          "output_type": "error",
          "ename": "JavascriptException",
          "evalue": "Message: javascript error: Cannot set property 'scrollTop' of undefined\n  (Session info: chrome=89.0.4389.128)\n",
          "traceback": [
            "\u001b[1;31m---------------------------------------------------------------------------\u001b[0m",
            "\u001b[1;31mJavascriptException\u001b[0m                       Traceback (most recent call last)",
            "\u001b[1;32m<ipython-input-20-53e61c232723>\u001b[0m in \u001b[0;36m<module>\u001b[1;34m\u001b[0m\n\u001b[0;32m      1\u001b[0m \u001b[1;32mfor\u001b[0m \u001b[0murl\u001b[0m \u001b[1;32min\u001b[0m \u001b[0mbj_wholesale\u001b[0m\u001b[1;33m[\u001b[0m\u001b[1;36m95\u001b[0m\u001b[1;33m:\u001b[0m\u001b[1;36m120\u001b[0m\u001b[1;33m]\u001b[0m\u001b[1;33m:\u001b[0m\u001b[1;33m\u001b[0m\u001b[1;33m\u001b[0m\u001b[0m\n\u001b[0;32m      2\u001b[0m     \u001b[0mx\u001b[0m\u001b[1;33m=\u001b[0m\u001b[0mWebDriver\u001b[0m\u001b[1;33m(\u001b[0m\u001b[1;33m)\u001b[0m\u001b[1;33m\u001b[0m\u001b[1;33m\u001b[0m\u001b[0m\n\u001b[1;32m----> 3\u001b[1;33m     \u001b[0mbjs\u001b[0m \u001b[1;33m=\u001b[0m \u001b[0mx\u001b[0m\u001b[1;33m.\u001b[0m\u001b[0mscrape\u001b[0m\u001b[1;33m(\u001b[0m\u001b[0murl\u001b[0m\u001b[1;33m)\u001b[0m\u001b[1;33m\u001b[0m\u001b[1;33m\u001b[0m\u001b[0m\n\u001b[0m\u001b[0;32m      4\u001b[0m     \u001b[0moverview_location\u001b[0m \u001b[1;33m=\u001b[0m \u001b[0mbjs\u001b[0m\u001b[1;33m[\u001b[0m\u001b[1;36m0\u001b[0m\u001b[1;33m]\u001b[0m\u001b[1;33m\u001b[0m\u001b[1;33m\u001b[0m\u001b[0m\n\u001b[0;32m      5\u001b[0m     \u001b[0mreviews\u001b[0m \u001b[1;33m=\u001b[0m \u001b[0mbjs\u001b[0m\u001b[1;33m[\u001b[0m\u001b[1;36m1\u001b[0m\u001b[1;33m]\u001b[0m\u001b[1;33m\u001b[0m\u001b[1;33m\u001b[0m\u001b[0m\n",
            "\u001b[1;32m<ipython-input-15-354ba89cd230>\u001b[0m in \u001b[0;36mscrape\u001b[1;34m(self, url)\u001b[0m\n\u001b[0;32m    159\u001b[0m         \u001b[0mtime\u001b[0m\u001b[1;33m.\u001b[0m\u001b[0msleep\u001b[0m\u001b[1;33m(\u001b[0m\u001b[1;36m4\u001b[0m\u001b[1;33m)\u001b[0m\u001b[1;33m\u001b[0m\u001b[1;33m\u001b[0m\u001b[0m\n\u001b[0;32m    160\u001b[0m         \u001b[1;31m#self.get_popular_word()\u001b[0m\u001b[1;33m\u001b[0m\u001b[1;33m\u001b[0m\u001b[1;33m\u001b[0m\u001b[0m\n\u001b[1;32m--> 161\u001b[1;33m         \u001b[0mself\u001b[0m\u001b[1;33m.\u001b[0m\u001b[0mscroll_the_page\u001b[0m\u001b[1;33m(\u001b[0m\u001b[1;33m)\u001b[0m\u001b[1;33m\u001b[0m\u001b[1;33m\u001b[0m\u001b[0m\n\u001b[0m\u001b[0;32m    162\u001b[0m         \u001b[0mself\u001b[0m\u001b[1;33m.\u001b[0m\u001b[0mexpand_all_reviews\u001b[0m\u001b[1;33m(\u001b[0m\u001b[1;33m)\u001b[0m\u001b[1;33m\u001b[0m\u001b[1;33m\u001b[0m\u001b[0m\n\u001b[0;32m    163\u001b[0m         \u001b[0mself\u001b[0m\u001b[1;33m.\u001b[0m\u001b[0mget_reviews\u001b[0m\u001b[1;33m(\u001b[0m\u001b[1;33m)\u001b[0m\u001b[1;33m\u001b[0m\u001b[1;33m\u001b[0m\u001b[0m\n",
            "\u001b[1;32m<ipython-input-15-354ba89cd230>\u001b[0m in \u001b[0;36mscroll_the_page\u001b[1;34m(self)\u001b[0m\n\u001b[0;32m     98\u001b[0m         \u001b[1;32mfor\u001b[0m \u001b[0mi\u001b[0m \u001b[1;32min\u001b[0m \u001b[0mrange\u001b[0m\u001b[1;33m(\u001b[0m\u001b[1;36m45\u001b[0m\u001b[1;33m)\u001b[0m\u001b[1;33m:\u001b[0m\u001b[1;33m\u001b[0m\u001b[1;33m\u001b[0m\u001b[0m\n\u001b[0;32m     99\u001b[0m             \u001b[0mjs\u001b[0m \u001b[1;33m=\u001b[0m \u001b[1;34m\"var q=document.getElementsByClassName('section-layout section-scrollbox scrollable-y scrollable-show')[0].scrollTop =490000\"\u001b[0m\u001b[1;33m\u001b[0m\u001b[1;33m\u001b[0m\u001b[0m\n\u001b[1;32m--> 100\u001b[1;33m             \u001b[0mself\u001b[0m\u001b[1;33m.\u001b[0m\u001b[0mdriver\u001b[0m\u001b[1;33m.\u001b[0m\u001b[0mexecute_script\u001b[0m\u001b[1;33m(\u001b[0m\u001b[0mjs\u001b[0m\u001b[1;33m)\u001b[0m\u001b[1;33m\u001b[0m\u001b[1;33m\u001b[0m\u001b[0m\n\u001b[0m\u001b[0;32m    101\u001b[0m             \u001b[0mtime\u001b[0m\u001b[1;33m.\u001b[0m\u001b[0msleep\u001b[0m\u001b[1;33m(\u001b[0m\u001b[1;36m2\u001b[0m\u001b[1;33m)\u001b[0m\u001b[1;33m\u001b[0m\u001b[1;33m\u001b[0m\u001b[0m\n\u001b[0;32m    102\u001b[0m             \u001b[0mcommand_to_js\u001b[0m \u001b[1;33m=\u001b[0m \u001b[1;34m\"return document.getElementsByClassName('section-layout section-scrollbox scrollable-y scrollable-show')[0].scrollHeight\"\u001b[0m\u001b[1;33m\u001b[0m\u001b[1;33m\u001b[0m\u001b[0m\n",
            "\u001b[1;32m~\\miniconda3\\lib\\site-packages\\selenium\\webdriver\\remote\\webdriver.py\u001b[0m in \u001b[0;36mexecute_script\u001b[1;34m(self, script, *args)\u001b[0m\n\u001b[0;32m    632\u001b[0m             \u001b[0mcommand\u001b[0m \u001b[1;33m=\u001b[0m \u001b[0mCommand\u001b[0m\u001b[1;33m.\u001b[0m\u001b[0mEXECUTE_SCRIPT\u001b[0m\u001b[1;33m\u001b[0m\u001b[1;33m\u001b[0m\u001b[0m\n\u001b[0;32m    633\u001b[0m \u001b[1;33m\u001b[0m\u001b[0m\n\u001b[1;32m--> 634\u001b[1;33m         return self.execute(command, {\n\u001b[0m\u001b[0;32m    635\u001b[0m             \u001b[1;34m'script'\u001b[0m\u001b[1;33m:\u001b[0m \u001b[0mscript\u001b[0m\u001b[1;33m,\u001b[0m\u001b[1;33m\u001b[0m\u001b[1;33m\u001b[0m\u001b[0m\n\u001b[0;32m    636\u001b[0m             'args': converted_args})['value']\n",
            "\u001b[1;32m~\\miniconda3\\lib\\site-packages\\selenium\\webdriver\\remote\\webdriver.py\u001b[0m in \u001b[0;36mexecute\u001b[1;34m(self, driver_command, params)\u001b[0m\n\u001b[0;32m    319\u001b[0m         \u001b[0mresponse\u001b[0m \u001b[1;33m=\u001b[0m \u001b[0mself\u001b[0m\u001b[1;33m.\u001b[0m\u001b[0mcommand_executor\u001b[0m\u001b[1;33m.\u001b[0m\u001b[0mexecute\u001b[0m\u001b[1;33m(\u001b[0m\u001b[0mdriver_command\u001b[0m\u001b[1;33m,\u001b[0m \u001b[0mparams\u001b[0m\u001b[1;33m)\u001b[0m\u001b[1;33m\u001b[0m\u001b[1;33m\u001b[0m\u001b[0m\n\u001b[0;32m    320\u001b[0m         \u001b[1;32mif\u001b[0m \u001b[0mresponse\u001b[0m\u001b[1;33m:\u001b[0m\u001b[1;33m\u001b[0m\u001b[1;33m\u001b[0m\u001b[0m\n\u001b[1;32m--> 321\u001b[1;33m             \u001b[0mself\u001b[0m\u001b[1;33m.\u001b[0m\u001b[0merror_handler\u001b[0m\u001b[1;33m.\u001b[0m\u001b[0mcheck_response\u001b[0m\u001b[1;33m(\u001b[0m\u001b[0mresponse\u001b[0m\u001b[1;33m)\u001b[0m\u001b[1;33m\u001b[0m\u001b[1;33m\u001b[0m\u001b[0m\n\u001b[0m\u001b[0;32m    322\u001b[0m             response['value'] = self._unwrap_value(\n\u001b[0;32m    323\u001b[0m                 response.get('value', None))\n",
            "\u001b[1;32m~\\miniconda3\\lib\\site-packages\\selenium\\webdriver\\remote\\errorhandler.py\u001b[0m in \u001b[0;36mcheck_response\u001b[1;34m(self, response)\u001b[0m\n\u001b[0;32m    240\u001b[0m                 \u001b[0malert_text\u001b[0m \u001b[1;33m=\u001b[0m \u001b[0mvalue\u001b[0m\u001b[1;33m[\u001b[0m\u001b[1;34m'alert'\u001b[0m\u001b[1;33m]\u001b[0m\u001b[1;33m.\u001b[0m\u001b[0mget\u001b[0m\u001b[1;33m(\u001b[0m\u001b[1;34m'text'\u001b[0m\u001b[1;33m)\u001b[0m\u001b[1;33m\u001b[0m\u001b[1;33m\u001b[0m\u001b[0m\n\u001b[0;32m    241\u001b[0m             \u001b[1;32mraise\u001b[0m \u001b[0mexception_class\u001b[0m\u001b[1;33m(\u001b[0m\u001b[0mmessage\u001b[0m\u001b[1;33m,\u001b[0m \u001b[0mscreen\u001b[0m\u001b[1;33m,\u001b[0m \u001b[0mstacktrace\u001b[0m\u001b[1;33m,\u001b[0m \u001b[0malert_text\u001b[0m\u001b[1;33m)\u001b[0m\u001b[1;33m\u001b[0m\u001b[1;33m\u001b[0m\u001b[0m\n\u001b[1;32m--> 242\u001b[1;33m         \u001b[1;32mraise\u001b[0m \u001b[0mexception_class\u001b[0m\u001b[1;33m(\u001b[0m\u001b[0mmessage\u001b[0m\u001b[1;33m,\u001b[0m \u001b[0mscreen\u001b[0m\u001b[1;33m,\u001b[0m \u001b[0mstacktrace\u001b[0m\u001b[1;33m)\u001b[0m\u001b[1;33m\u001b[0m\u001b[1;33m\u001b[0m\u001b[0m\n\u001b[0m\u001b[0;32m    243\u001b[0m \u001b[1;33m\u001b[0m\u001b[0m\n\u001b[0;32m    244\u001b[0m     \u001b[1;32mdef\u001b[0m \u001b[0m_value_or_default\u001b[0m\u001b[1;33m(\u001b[0m\u001b[0mself\u001b[0m\u001b[1;33m,\u001b[0m \u001b[0mobj\u001b[0m\u001b[1;33m,\u001b[0m \u001b[0mkey\u001b[0m\u001b[1;33m,\u001b[0m \u001b[0mdefault\u001b[0m\u001b[1;33m)\u001b[0m\u001b[1;33m:\u001b[0m\u001b[1;33m\u001b[0m\u001b[1;33m\u001b[0m\u001b[0m\n",
            "\u001b[1;31mJavascriptException\u001b[0m: Message: javascript error: Cannot set property 'scrollTop' of undefined\n  (Session info: chrome=89.0.4389.128)\n"
          ]
        }
      ],
      "source": [
        "for url in bj_wholesale:\n",
        "    \n",
        "    x=WebDriver()\n",
        "    bjs = x.scrape(url)\n",
        "    overview_location = bjs[0]\n",
        "    reviews = bjs[1]\n",
        "\n",
        "    print(\"Append to Dataframes...\")\n",
        "\n",
        "    bj_reviews2 = pd.DataFrame(dict([ (k,pd.Series(v)) for k,v in reviews.items() ]))\n",
        "    bj_reviews2['location_code'] = y\n",
        "    bj_overview_location2 = pd.DataFrame(dict([ (k,pd.Series(v)) for k,v in overview_location.items() ]))\n",
        "    bj_overview_location2['location_code'] = y\n",
        "    bj_reviews = pd.concat([bj_reviews,bj_reviews2], ignore_index = True)\n",
        "    bj_overview_location = pd.concat([bj_overview_location,bj_overview_location2], ignore_index = True)\n",
        "\n",
        "    y+=1\n",
        "\n",
        "    print(bj_reviews, bj_overview_location)\n",
        "    time.sleep(3)\n",
        "    "
      ]
    },
    {
      "source": [
        "Save scraped information in a csv for later"
      ],
      "cell_type": "markdown",
      "metadata": {}
    },
    {
      "cell_type": "code",
      "execution_count": 18,
      "metadata": {},
      "outputs": [],
      "source": [
        "  bj_reviews.to_csv(r'C:/Users/30842/OneDrive/桌面/Capstone/bjs_reviews_80_120.csv')\n",
        "  bj_overview_location.to_csv(r'C:/Users/30842/OneDrive/桌面/Capstone/bjs_location_overview_80_120.csv')\n"
      ]
    }
  ]
}