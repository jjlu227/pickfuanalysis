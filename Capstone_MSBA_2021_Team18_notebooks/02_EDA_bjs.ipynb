{
  "nbformat": 4,
  "nbformat_minor": 2,
  "metadata": {
    "colab": {
      "name": "5_31_ngrams.ipynb",
      "provenance": []
    },
    "kernelspec": {
      "name": "python3",
      "display_name": "Python 3.8.3 64-bit"
    },
    "language_info": {
      "codemirror_mode": {
        "name": "ipython",
        "version": 3
      },
      "file_extension": ".py",
      "mimetype": "text/x-python",
      "name": "python",
      "nbconvert_exporter": "python",
      "pygments_lexer": "ipython3",
      "version": "3.8.3"
    },
    "metadata": {
      "interpreter": {
        "hash": "aee8b7b246df8f9039afb4144a1f6fd8d2ca17a180786b69acc140d282b71a49"
      }
    },
    "interpreter": {
      "hash": "aee8b7b246df8f9039afb4144a1f6fd8d2ca17a180786b69acc140d282b71a49"
    }
  },
  "cells": [
    {
      "cell_type": "markdown",
      "source": [
        "# Capstone - Team 18\n",
        "## EDA"
      ],
      "metadata": {}
    },
    {
      "cell_type": "markdown",
      "source": [
        "Installs if necessary"
      ],
      "metadata": {
        "id": "p1MGtFirR4dQ"
      }
    },
    {
      "cell_type": "code",
      "execution_count": 59,
      "source": [
        "#install \r\n",
        "#! pip3 install pandas\r\n",
        "#! pip3 install numpy\r\n",
        "#! pip3 install wordcloud\r\n",
        "#! pip3 install matplotlib\r\n",
        "#! pip3 install regex\r\n",
        "#! pip3 install plotly \r\n",
        "#! pip3 install spacy\r\n",
        "#! pip3 install gensim\r\n",
        "#! pip3 install nltk\r\n",
        "#! pip3 install afinn\r\n",
        "#! pip3 install -U scikit-learn\r\n",
        "#! pip3 install seaborn\r\n",
        "#! pip3 install nbformat"
      ],
      "outputs": [],
      "metadata": {
        "colab": {
          "base_uri": "https://localhost:8080/"
        },
        "id": "h2-IhEkJR4dW",
        "outputId": "e3587c16-7398-46c0-d968-7c884b4dd796"
      }
    },
    {
      "cell_type": "markdown",
      "source": [
        "Imports"
      ],
      "metadata": {
        "id": "IB9RTAEGR4dX"
      }
    },
    {
      "cell_type": "code",
      "execution_count": 60,
      "source": [
        "# imports\r\n",
        "import pandas as pd\r\n",
        "import numpy as np\r\n",
        "from wordcloud import WordCloud, STOPWORDS, ImageColorGenerator\r\n",
        "import matplotlib.pyplot as plt\r\n",
        "import seaborn as sns\r\n",
        "import re\r\n",
        "import collections\r\n",
        "\r\n",
        "import plotly.graph_objs as go\r\n",
        "import plotly.offline as py\r\n",
        "from plotly.offline import init_notebook_mode,iplot\r\n",
        "from plotly import tools\r\n",
        "init_notebook_mode(connected = True)\r\n",
        "import plotly.figure_factory as ff\r\n",
        "\r\n",
        "\r\n",
        "import string\r\n",
        "import spacy\r\n",
        "import gensim\r\n",
        "from sklearn.feature_extraction.text import CountVectorizer, TfidfTransformer,TfidfVectorizer  \r\n",
        "import nltk\r\n",
        "\r\n",
        "from nltk.corpus import stopwords\r\n",
        "nltk.download('stopwords')\r\n",
        "from afinn import Afinn\r\n",
        "import unicodedata"
      ],
      "outputs": [
        {
          "output_type": "display_data",
          "data": {
            "text/html": [
              "        <script type=\"text/javascript\">\n",
              "        window.PlotlyConfig = {MathJaxConfig: 'local'};\n",
              "        if (window.MathJax) {MathJax.Hub.Config({SVG: {font: \"STIX-Web\"}});}\n",
              "        if (typeof require !== 'undefined') {\n",
              "        require.undef(\"plotly\");\n",
              "        requirejs.config({\n",
              "            paths: {\n",
              "                'plotly': ['https://cdn.plot.ly/plotly-latest.min']\n",
              "            }\n",
              "        });\n",
              "        require(['plotly'], function(Plotly) {\n",
              "            window._Plotly = Plotly;\n",
              "        });\n",
              "        }\n",
              "        </script>\n",
              "        "
            ]
          },
          "metadata": {}
        },
        {
          "output_type": "stream",
          "name": "stderr",
          "text": [
            "[nltk_data] Downloading package stopwords to\n",
            "[nltk_data]     C:\\Users\\30842\\AppData\\Roaming\\nltk_data...\n",
            "[nltk_data]   Package stopwords is already up-to-date!\n"
          ]
        }
      ],
      "metadata": {
        "colab": {
          "base_uri": "https://localhost:8080/",
          "height": 51
        },
        "id": "-RbBE_WJC1zh",
        "outputId": "7a99fad6-4b80-48cf-975d-5ccb2a6b8fac"
      }
    },
    {
      "cell_type": "markdown",
      "source": [
        "Reading the CSV file's in"
      ],
      "metadata": {
        "id": "THUy0I4HR4dY"
      }
    },
    {
      "cell_type": "code",
      "execution_count": 61,
      "source": [
        "bj_lo = pd.read_csv(\"bj_location_overview_all.csv\",index_col=0)\r\n",
        "bj_r =pd.read_csv(\"bj_reviews_all.csv\",index_col=0)\r\n",
        "bj_lo = pd.DataFrame(bj_lo)\r\n",
        "bj_r = pd.DataFrame(bj_r)"
      ],
      "outputs": [],
      "metadata": {
        "id": "ZCkCxUD6R4dY"
      }
    },
    {
      "cell_type": "markdown",
      "source": [
        "### Cleaning\n",
        "Let's start with the location overview dataframe\n",
        "\n",
        "Cleaning we did (saved results in csv, so we do not need to run the code every time):  \n",
        "bj_r = bj_r.drop(columns = [\"Unnamed: 0.1\"]). \n",
        "\n",
        "#cleaning the star rating into numerical variable  \n",
        "test_list= bj_r[\"star rating\"]  \n",
        "res = list(map(lambda sub:int(''.join(\n",
        "      [ele for ele in sub if ele.isnumeric()])), test_list))\n",
        "str(res)\n",
        "bj_r[\"star rating\"]= res\n",
        "bj_r.head()\n",
        "\n",
        "\n",
        "bj_r.location_code = bj_r.location_code.astype(int)\n",
        "\n",
        "bj_r.to_csv(r'/Users/paulademacker/Documents/GitHub/Capstone/bj_reviews_all.csv')\n",
        "\n",
        "\n"
      ],
      "metadata": {
        "id": "TJxjneCIR4dY"
      }
    },
    {
      "cell_type": "code",
      "execution_count": 62,
      "source": [
        "bj_lo.shape"
      ],
      "outputs": [
        {
          "output_type": "execute_result",
          "data": {
            "text/plain": [
              "(200, 3)"
            ]
          },
          "metadata": {},
          "execution_count": 62
        }
      ],
      "metadata": {
        "colab": {
          "base_uri": "https://localhost:8080/"
        },
        "id": "NFeu0MR_R4dZ",
        "outputId": "5c008d76-9d96-4631-a41e-6d93d2f1127b"
      }
    },
    {
      "cell_type": "code",
      "execution_count": 63,
      "source": [
        "bj_lo.location_code = bj_lo.location_code.astype(int)\r\n",
        "bj_lo.head()"
      ],
      "outputs": [
        {
          "output_type": "execute_result",
          "data": {
            "text/plain": [
              "                reviews count  \\\n",
              "average rating                  \n",
              "4.2                       356   \n",
              "3.9                       202   \n",
              "4.1                       460   \n",
              "4.4                       156   \n",
              "4.0                       139   \n",
              "\n",
              "                                                         location  \\\n",
              "average rating                                                      \n",
              "4.2                          278 Middlesex Ave, Medford, MA 02155   \n",
              "3.9                            1440 Central Ave, Albany, NY 12205   \n",
              "4.1                          300 NJ-17, East Rutherford, NJ 07073   \n",
              "4.4                     6924 Frank Ave NW, North Canton, OH 44720   \n",
              "4.0             4000 Nesconset Highway, NY-347, Setauket- East...   \n",
              "\n",
              "                location_code  \n",
              "average rating                 \n",
              "4.2                         1  \n",
              "3.9                         2  \n",
              "4.1                         3  \n",
              "4.4                         4  \n",
              "4.0                         5  "
            ],
            "text/html": [
              "<div>\n",
              "<style scoped>\n",
              "    .dataframe tbody tr th:only-of-type {\n",
              "        vertical-align: middle;\n",
              "    }\n",
              "\n",
              "    .dataframe tbody tr th {\n",
              "        vertical-align: top;\n",
              "    }\n",
              "\n",
              "    .dataframe thead th {\n",
              "        text-align: right;\n",
              "    }\n",
              "</style>\n",
              "<table border=\"1\" class=\"dataframe\">\n",
              "  <thead>\n",
              "    <tr style=\"text-align: right;\">\n",
              "      <th></th>\n",
              "      <th>reviews count</th>\n",
              "      <th>location</th>\n",
              "      <th>location_code</th>\n",
              "    </tr>\n",
              "    <tr>\n",
              "      <th>average rating</th>\n",
              "      <th></th>\n",
              "      <th></th>\n",
              "      <th></th>\n",
              "    </tr>\n",
              "  </thead>\n",
              "  <tbody>\n",
              "    <tr>\n",
              "      <th>4.2</th>\n",
              "      <td>356</td>\n",
              "      <td>278 Middlesex Ave, Medford, MA 02155</td>\n",
              "      <td>1</td>\n",
              "    </tr>\n",
              "    <tr>\n",
              "      <th>3.9</th>\n",
              "      <td>202</td>\n",
              "      <td>1440 Central Ave, Albany, NY 12205</td>\n",
              "      <td>2</td>\n",
              "    </tr>\n",
              "    <tr>\n",
              "      <th>4.1</th>\n",
              "      <td>460</td>\n",
              "      <td>300 NJ-17, East Rutherford, NJ 07073</td>\n",
              "      <td>3</td>\n",
              "    </tr>\n",
              "    <tr>\n",
              "      <th>4.4</th>\n",
              "      <td>156</td>\n",
              "      <td>6924 Frank Ave NW, North Canton, OH 44720</td>\n",
              "      <td>4</td>\n",
              "    </tr>\n",
              "    <tr>\n",
              "      <th>4.0</th>\n",
              "      <td>139</td>\n",
              "      <td>4000 Nesconset Highway, NY-347, Setauket- East...</td>\n",
              "      <td>5</td>\n",
              "    </tr>\n",
              "  </tbody>\n",
              "</table>\n",
              "</div>"
            ]
          },
          "metadata": {},
          "execution_count": 63
        }
      ],
      "metadata": {
        "id": "PRSKXk1Mc2_F"
      }
    },
    {
      "cell_type": "code",
      "execution_count": 64,
      "source": [
        "bj_r.shape"
      ],
      "outputs": [
        {
          "output_type": "execute_result",
          "data": {
            "text/plain": [
              "(41894, 5)"
            ]
          },
          "metadata": {},
          "execution_count": 64
        }
      ],
      "metadata": {
        "colab": {
          "base_uri": "https://localhost:8080/"
        },
        "id": "UoH8jD2iR4dZ",
        "outputId": "8a038640-973e-4933-93f0-c7f83f945b96"
      }
    },
    {
      "cell_type": "code",
      "execution_count": 65,
      "source": [
        "bj_r.head()"
      ],
      "outputs": [
        {
          "output_type": "execute_result",
          "data": {
            "text/plain": [
              "   star rating               name  \\\n",
              "0            5      XxbluewølfX x   \n",
              "1            4      Biswanath Roy   \n",
              "2            1           Amy Rose   \n",
              "3            1  Sabina Lamichhane   \n",
              "4            1         Donnie L.S   \n",
              "\n",
              "                                              review        date  \\\n",
              "0  Eric has great customer service. He told me to...  2021-03-01   \n",
              "1  Not ample stock compare to other stores. Other...  2020-10-01   \n",
              "2  This location has been my reliable go-to for m...  2021-02-01   \n",
              "3  I place a online pick up order to save some ti...  2021-02-01   \n",
              "4  Do something!!!\\r\\nmake a self checkout line o...  2021-02-01   \n",
              "\n",
              "   location_code  \n",
              "0              1  \n",
              "1              1  \n",
              "2              1  \n",
              "3              1  \n",
              "4              1  "
            ],
            "text/html": [
              "<div>\n",
              "<style scoped>\n",
              "    .dataframe tbody tr th:only-of-type {\n",
              "        vertical-align: middle;\n",
              "    }\n",
              "\n",
              "    .dataframe tbody tr th {\n",
              "        vertical-align: top;\n",
              "    }\n",
              "\n",
              "    .dataframe thead th {\n",
              "        text-align: right;\n",
              "    }\n",
              "</style>\n",
              "<table border=\"1\" class=\"dataframe\">\n",
              "  <thead>\n",
              "    <tr style=\"text-align: right;\">\n",
              "      <th></th>\n",
              "      <th>star rating</th>\n",
              "      <th>name</th>\n",
              "      <th>review</th>\n",
              "      <th>date</th>\n",
              "      <th>location_code</th>\n",
              "    </tr>\n",
              "  </thead>\n",
              "  <tbody>\n",
              "    <tr>\n",
              "      <th>0</th>\n",
              "      <td>5</td>\n",
              "      <td>XxbluewølfX x</td>\n",
              "      <td>Eric has great customer service. He told me to...</td>\n",
              "      <td>2021-03-01</td>\n",
              "      <td>1</td>\n",
              "    </tr>\n",
              "    <tr>\n",
              "      <th>1</th>\n",
              "      <td>4</td>\n",
              "      <td>Biswanath Roy</td>\n",
              "      <td>Not ample stock compare to other stores. Other...</td>\n",
              "      <td>2020-10-01</td>\n",
              "      <td>1</td>\n",
              "    </tr>\n",
              "    <tr>\n",
              "      <th>2</th>\n",
              "      <td>1</td>\n",
              "      <td>Amy Rose</td>\n",
              "      <td>This location has been my reliable go-to for m...</td>\n",
              "      <td>2021-02-01</td>\n",
              "      <td>1</td>\n",
              "    </tr>\n",
              "    <tr>\n",
              "      <th>3</th>\n",
              "      <td>1</td>\n",
              "      <td>Sabina Lamichhane</td>\n",
              "      <td>I place a online pick up order to save some ti...</td>\n",
              "      <td>2021-02-01</td>\n",
              "      <td>1</td>\n",
              "    </tr>\n",
              "    <tr>\n",
              "      <th>4</th>\n",
              "      <td>1</td>\n",
              "      <td>Donnie L.S</td>\n",
              "      <td>Do something!!!\\r\\nmake a self checkout line o...</td>\n",
              "      <td>2021-02-01</td>\n",
              "      <td>1</td>\n",
              "    </tr>\n",
              "  </tbody>\n",
              "</table>\n",
              "</div>"
            ]
          },
          "metadata": {},
          "execution_count": 65
        }
      ],
      "metadata": {
        "colab": {
          "base_uri": "https://localhost:8080/",
          "height": 204
        },
        "id": "nrYpqywaR4da",
        "outputId": "287246dd-8df5-43db-f68b-eaea8b037c48"
      }
    },
    {
      "cell_type": "markdown",
      "source": [
        "Converting the date column in approx. dates.  \n",
        "Webscraping date: April 14th 2021  \n",
        "Conversion as follows:  \n",
        "x hours ago -> April 14th  \n",
        "x days ago -> April 14th 2021 - x days\n",
        "x weeks ago -> April 14th 2021 - x weeks (month)  \n",
        "x months ago -> April 2021 - x months  \n",
        "x years ago -> 2021 - x years ago  "
      ],
      "metadata": {
        "id": "TcFJGWiUR4da"
      }
    },
    {
      "cell_type": "markdown",
      "source": [
        "Keeping reviews with text"
      ],
      "metadata": {}
    },
    {
      "cell_type": "code",
      "execution_count": 66,
      "source": [
        "# dropping all columns without a review text \r\n",
        "bj_r_text = bj_r.dropna()\r\n",
        "bj_r_text"
      ],
      "outputs": [
        {
          "output_type": "execute_result",
          "data": {
            "text/plain": [
              "       star rating                                name  \\\n",
              "0                5                       XxbluewølfX x   \n",
              "1                4                       Biswanath Roy   \n",
              "2                1                            Amy Rose   \n",
              "3                1                   Sabina Lamichhane   \n",
              "4                1                          Donnie L.S   \n",
              "...            ...                                 ...   \n",
              "41848            4                        brian secord   \n",
              "41849            5                      Sharron Bugbee   \n",
              "41850            1                      William Lanski   \n",
              "41851            5                   Diana Laframboise   \n",
              "41852            4  Brian another God Damned Socialist   \n",
              "\n",
              "                                                  review        date  \\\n",
              "0      Eric has great customer service. He told me to...  2021-03-01   \n",
              "1      Not ample stock compare to other stores. Other...  2020-10-01   \n",
              "2      This location has been my reliable go-to for m...  2021-02-01   \n",
              "3      I place a online pick up order to save some ti...  2021-02-01   \n",
              "4      Do something!!!\\r\\nmake a self checkout line o...  2021-02-01   \n",
              "...                                                  ...         ...   \n",
              "41848                                    Easy in and out  2018-01-01   \n",
              "41849                              Wonderful as usual!!!  2018-01-01   \n",
              "41850          Out of stock on several items I purchase.  2018-01-01   \n",
              "41851                                  I love this place  2018-01-01   \n",
              "41852             Standard bulk shopping. Low on frills.  2016-01-01   \n",
              "\n",
              "       location_code  \n",
              "0                  1  \n",
              "1                  1  \n",
              "2                  1  \n",
              "3                  1  \n",
              "4                  1  \n",
              "...              ...  \n",
              "41848            200  \n",
              "41849            200  \n",
              "41850            200  \n",
              "41851            200  \n",
              "41852            200  \n",
              "\n",
              "[22556 rows x 5 columns]"
            ],
            "text/html": [
              "<div>\n",
              "<style scoped>\n",
              "    .dataframe tbody tr th:only-of-type {\n",
              "        vertical-align: middle;\n",
              "    }\n",
              "\n",
              "    .dataframe tbody tr th {\n",
              "        vertical-align: top;\n",
              "    }\n",
              "\n",
              "    .dataframe thead th {\n",
              "        text-align: right;\n",
              "    }\n",
              "</style>\n",
              "<table border=\"1\" class=\"dataframe\">\n",
              "  <thead>\n",
              "    <tr style=\"text-align: right;\">\n",
              "      <th></th>\n",
              "      <th>star rating</th>\n",
              "      <th>name</th>\n",
              "      <th>review</th>\n",
              "      <th>date</th>\n",
              "      <th>location_code</th>\n",
              "    </tr>\n",
              "  </thead>\n",
              "  <tbody>\n",
              "    <tr>\n",
              "      <th>0</th>\n",
              "      <td>5</td>\n",
              "      <td>XxbluewølfX x</td>\n",
              "      <td>Eric has great customer service. He told me to...</td>\n",
              "      <td>2021-03-01</td>\n",
              "      <td>1</td>\n",
              "    </tr>\n",
              "    <tr>\n",
              "      <th>1</th>\n",
              "      <td>4</td>\n",
              "      <td>Biswanath Roy</td>\n",
              "      <td>Not ample stock compare to other stores. Other...</td>\n",
              "      <td>2020-10-01</td>\n",
              "      <td>1</td>\n",
              "    </tr>\n",
              "    <tr>\n",
              "      <th>2</th>\n",
              "      <td>1</td>\n",
              "      <td>Amy Rose</td>\n",
              "      <td>This location has been my reliable go-to for m...</td>\n",
              "      <td>2021-02-01</td>\n",
              "      <td>1</td>\n",
              "    </tr>\n",
              "    <tr>\n",
              "      <th>3</th>\n",
              "      <td>1</td>\n",
              "      <td>Sabina Lamichhane</td>\n",
              "      <td>I place a online pick up order to save some ti...</td>\n",
              "      <td>2021-02-01</td>\n",
              "      <td>1</td>\n",
              "    </tr>\n",
              "    <tr>\n",
              "      <th>4</th>\n",
              "      <td>1</td>\n",
              "      <td>Donnie L.S</td>\n",
              "      <td>Do something!!!\\r\\nmake a self checkout line o...</td>\n",
              "      <td>2021-02-01</td>\n",
              "      <td>1</td>\n",
              "    </tr>\n",
              "    <tr>\n",
              "      <th>...</th>\n",
              "      <td>...</td>\n",
              "      <td>...</td>\n",
              "      <td>...</td>\n",
              "      <td>...</td>\n",
              "      <td>...</td>\n",
              "    </tr>\n",
              "    <tr>\n",
              "      <th>41848</th>\n",
              "      <td>4</td>\n",
              "      <td>brian secord</td>\n",
              "      <td>Easy in and out</td>\n",
              "      <td>2018-01-01</td>\n",
              "      <td>200</td>\n",
              "    </tr>\n",
              "    <tr>\n",
              "      <th>41849</th>\n",
              "      <td>5</td>\n",
              "      <td>Sharron Bugbee</td>\n",
              "      <td>Wonderful as usual!!!</td>\n",
              "      <td>2018-01-01</td>\n",
              "      <td>200</td>\n",
              "    </tr>\n",
              "    <tr>\n",
              "      <th>41850</th>\n",
              "      <td>1</td>\n",
              "      <td>William Lanski</td>\n",
              "      <td>Out of stock on several items I purchase.</td>\n",
              "      <td>2018-01-01</td>\n",
              "      <td>200</td>\n",
              "    </tr>\n",
              "    <tr>\n",
              "      <th>41851</th>\n",
              "      <td>5</td>\n",
              "      <td>Diana Laframboise</td>\n",
              "      <td>I love this place</td>\n",
              "      <td>2018-01-01</td>\n",
              "      <td>200</td>\n",
              "    </tr>\n",
              "    <tr>\n",
              "      <th>41852</th>\n",
              "      <td>4</td>\n",
              "      <td>Brian another God Damned Socialist</td>\n",
              "      <td>Standard bulk shopping. Low on frills.</td>\n",
              "      <td>2016-01-01</td>\n",
              "      <td>200</td>\n",
              "    </tr>\n",
              "  </tbody>\n",
              "</table>\n",
              "<p>22556 rows × 5 columns</p>\n",
              "</div>"
            ]
          },
          "metadata": {},
          "execution_count": 66
        }
      ],
      "metadata": {
        "colab": {
          "base_uri": "https://localhost:8080/",
          "height": 419
        },
        "id": "Fetykt2GR4db",
        "outputId": "4997d1a0-4cb5-4e47-ab11-4c81dc7ba808"
      }
    },
    {
      "cell_type": "markdown",
      "source": [
        "Sorting out the reviews in a different language than English"
      ],
      "metadata": {}
    },
    {
      "cell_type": "code",
      "execution_count": 67,
      "source": [
        "# bj_r.loc[bj_r['name'] == re.compile('(?:^|\\W)Translated(?:$|\\W)')\r\n",
        "sub = \"Translated\"\r\n",
        "bj_r_text[\"dif_lang\"] = bj_r_text[\"review\"].str.find(sub)\r\n",
        "bj_r_text"
      ],
      "outputs": [
        {
          "output_type": "execute_result",
          "data": {
            "text/plain": [
              "       star rating                                name  \\\n",
              "0                5                       XxbluewølfX x   \n",
              "1                4                       Biswanath Roy   \n",
              "2                1                            Amy Rose   \n",
              "3                1                   Sabina Lamichhane   \n",
              "4                1                          Donnie L.S   \n",
              "...            ...                                 ...   \n",
              "41848            4                        brian secord   \n",
              "41849            5                      Sharron Bugbee   \n",
              "41850            1                      William Lanski   \n",
              "41851            5                   Diana Laframboise   \n",
              "41852            4  Brian another God Damned Socialist   \n",
              "\n",
              "                                                  review        date  \\\n",
              "0      Eric has great customer service. He told me to...  2021-03-01   \n",
              "1      Not ample stock compare to other stores. Other...  2020-10-01   \n",
              "2      This location has been my reliable go-to for m...  2021-02-01   \n",
              "3      I place a online pick up order to save some ti...  2021-02-01   \n",
              "4      Do something!!!\\r\\nmake a self checkout line o...  2021-02-01   \n",
              "...                                                  ...         ...   \n",
              "41848                                    Easy in and out  2018-01-01   \n",
              "41849                              Wonderful as usual!!!  2018-01-01   \n",
              "41850          Out of stock on several items I purchase.  2018-01-01   \n",
              "41851                                  I love this place  2018-01-01   \n",
              "41852             Standard bulk shopping. Low on frills.  2016-01-01   \n",
              "\n",
              "       location_code  dif_lang  \n",
              "0                  1        -1  \n",
              "1                  1        -1  \n",
              "2                  1        -1  \n",
              "3                  1        -1  \n",
              "4                  1        -1  \n",
              "...              ...       ...  \n",
              "41848            200        -1  \n",
              "41849            200        -1  \n",
              "41850            200        -1  \n",
              "41851            200        -1  \n",
              "41852            200        -1  \n",
              "\n",
              "[22556 rows x 6 columns]"
            ],
            "text/html": [
              "<div>\n",
              "<style scoped>\n",
              "    .dataframe tbody tr th:only-of-type {\n",
              "        vertical-align: middle;\n",
              "    }\n",
              "\n",
              "    .dataframe tbody tr th {\n",
              "        vertical-align: top;\n",
              "    }\n",
              "\n",
              "    .dataframe thead th {\n",
              "        text-align: right;\n",
              "    }\n",
              "</style>\n",
              "<table border=\"1\" class=\"dataframe\">\n",
              "  <thead>\n",
              "    <tr style=\"text-align: right;\">\n",
              "      <th></th>\n",
              "      <th>star rating</th>\n",
              "      <th>name</th>\n",
              "      <th>review</th>\n",
              "      <th>date</th>\n",
              "      <th>location_code</th>\n",
              "      <th>dif_lang</th>\n",
              "    </tr>\n",
              "  </thead>\n",
              "  <tbody>\n",
              "    <tr>\n",
              "      <th>0</th>\n",
              "      <td>5</td>\n",
              "      <td>XxbluewølfX x</td>\n",
              "      <td>Eric has great customer service. He told me to...</td>\n",
              "      <td>2021-03-01</td>\n",
              "      <td>1</td>\n",
              "      <td>-1</td>\n",
              "    </tr>\n",
              "    <tr>\n",
              "      <th>1</th>\n",
              "      <td>4</td>\n",
              "      <td>Biswanath Roy</td>\n",
              "      <td>Not ample stock compare to other stores. Other...</td>\n",
              "      <td>2020-10-01</td>\n",
              "      <td>1</td>\n",
              "      <td>-1</td>\n",
              "    </tr>\n",
              "    <tr>\n",
              "      <th>2</th>\n",
              "      <td>1</td>\n",
              "      <td>Amy Rose</td>\n",
              "      <td>This location has been my reliable go-to for m...</td>\n",
              "      <td>2021-02-01</td>\n",
              "      <td>1</td>\n",
              "      <td>-1</td>\n",
              "    </tr>\n",
              "    <tr>\n",
              "      <th>3</th>\n",
              "      <td>1</td>\n",
              "      <td>Sabina Lamichhane</td>\n",
              "      <td>I place a online pick up order to save some ti...</td>\n",
              "      <td>2021-02-01</td>\n",
              "      <td>1</td>\n",
              "      <td>-1</td>\n",
              "    </tr>\n",
              "    <tr>\n",
              "      <th>4</th>\n",
              "      <td>1</td>\n",
              "      <td>Donnie L.S</td>\n",
              "      <td>Do something!!!\\r\\nmake a self checkout line o...</td>\n",
              "      <td>2021-02-01</td>\n",
              "      <td>1</td>\n",
              "      <td>-1</td>\n",
              "    </tr>\n",
              "    <tr>\n",
              "      <th>...</th>\n",
              "      <td>...</td>\n",
              "      <td>...</td>\n",
              "      <td>...</td>\n",
              "      <td>...</td>\n",
              "      <td>...</td>\n",
              "      <td>...</td>\n",
              "    </tr>\n",
              "    <tr>\n",
              "      <th>41848</th>\n",
              "      <td>4</td>\n",
              "      <td>brian secord</td>\n",
              "      <td>Easy in and out</td>\n",
              "      <td>2018-01-01</td>\n",
              "      <td>200</td>\n",
              "      <td>-1</td>\n",
              "    </tr>\n",
              "    <tr>\n",
              "      <th>41849</th>\n",
              "      <td>5</td>\n",
              "      <td>Sharron Bugbee</td>\n",
              "      <td>Wonderful as usual!!!</td>\n",
              "      <td>2018-01-01</td>\n",
              "      <td>200</td>\n",
              "      <td>-1</td>\n",
              "    </tr>\n",
              "    <tr>\n",
              "      <th>41850</th>\n",
              "      <td>1</td>\n",
              "      <td>William Lanski</td>\n",
              "      <td>Out of stock on several items I purchase.</td>\n",
              "      <td>2018-01-01</td>\n",
              "      <td>200</td>\n",
              "      <td>-1</td>\n",
              "    </tr>\n",
              "    <tr>\n",
              "      <th>41851</th>\n",
              "      <td>5</td>\n",
              "      <td>Diana Laframboise</td>\n",
              "      <td>I love this place</td>\n",
              "      <td>2018-01-01</td>\n",
              "      <td>200</td>\n",
              "      <td>-1</td>\n",
              "    </tr>\n",
              "    <tr>\n",
              "      <th>41852</th>\n",
              "      <td>4</td>\n",
              "      <td>Brian another God Damned Socialist</td>\n",
              "      <td>Standard bulk shopping. Low on frills.</td>\n",
              "      <td>2016-01-01</td>\n",
              "      <td>200</td>\n",
              "      <td>-1</td>\n",
              "    </tr>\n",
              "  </tbody>\n",
              "</table>\n",
              "<p>22556 rows × 6 columns</p>\n",
              "</div>"
            ]
          },
          "metadata": {},
          "execution_count": 67
        }
      ],
      "metadata": {
        "colab": {
          "base_uri": "https://localhost:8080/",
          "height": 419
        },
        "id": "D0JGfcM5R4db",
        "outputId": "5dff9d20-92a5-4b4f-c708-a670fdd76632"
      }
    },
    {
      "cell_type": "code",
      "execution_count": 68,
      "source": [
        "bj_r_text[bj_r_text[\"dif_lang\"] == 1]"
      ],
      "outputs": [
        {
          "output_type": "execute_result",
          "data": {
            "text/plain": [
              "       star rating               name  \\\n",
              "125              5        TANIA PRADO   \n",
              "126              5     khaled alahmad   \n",
              "127              5     Myriam Carreño   \n",
              "128              5  Claribel Martinez   \n",
              "129              5      Jose Paniagua   \n",
              "...            ...                ...   \n",
              "41689            5            Vick100   \n",
              "41690            5        Dias Garcia   \n",
              "41691            5    William Recinos   \n",
              "41692            5       jose vasquez   \n",
              "41693            5     Hitamar Celaya   \n",
              "\n",
              "                                                  review        date  \\\n",
              "125    (Translated by Google) Very good place where y...  2020-01-01   \n",
              "126    (Translated by Google) A very huge store that ...  2018-01-01   \n",
              "127    (Translated by Google) It is a good supermarke...  2018-01-01   \n",
              "128    (Translated by Google) Because you find a vari...  2019-01-01   \n",
              "129    (Translated by Google) BJ's is a good place wh...  2018-01-01   \n",
              "...                                                  ...         ...   \n",
              "41689  (Translated by Google) Very good place to do y...  2020-01-01   \n",
              "41690  (Translated by Google) I love my children💖\\r\\n...  2018-01-01   \n",
              "41691  (Translated by Google) I find what I want and ...  2017-01-01   \n",
              "41692  (Translated by Google) To make purchases in qu...  2017-01-01   \n",
              "41693  (Translated by Google) Very good\\r\\n\\r\\n(Origi...  2018-01-01   \n",
              "\n",
              "       location_code  dif_lang  \n",
              "125                1         1  \n",
              "126                1         1  \n",
              "127                1         1  \n",
              "128                1         1  \n",
              "129                1         1  \n",
              "...              ...       ...  \n",
              "41689            199         1  \n",
              "41690            199         1  \n",
              "41691            199         1  \n",
              "41692            199         1  \n",
              "41693            199         1  \n",
              "\n",
              "[1356 rows x 6 columns]"
            ],
            "text/html": [
              "<div>\n",
              "<style scoped>\n",
              "    .dataframe tbody tr th:only-of-type {\n",
              "        vertical-align: middle;\n",
              "    }\n",
              "\n",
              "    .dataframe tbody tr th {\n",
              "        vertical-align: top;\n",
              "    }\n",
              "\n",
              "    .dataframe thead th {\n",
              "        text-align: right;\n",
              "    }\n",
              "</style>\n",
              "<table border=\"1\" class=\"dataframe\">\n",
              "  <thead>\n",
              "    <tr style=\"text-align: right;\">\n",
              "      <th></th>\n",
              "      <th>star rating</th>\n",
              "      <th>name</th>\n",
              "      <th>review</th>\n",
              "      <th>date</th>\n",
              "      <th>location_code</th>\n",
              "      <th>dif_lang</th>\n",
              "    </tr>\n",
              "  </thead>\n",
              "  <tbody>\n",
              "    <tr>\n",
              "      <th>125</th>\n",
              "      <td>5</td>\n",
              "      <td>TANIA PRADO</td>\n",
              "      <td>(Translated by Google) Very good place where y...</td>\n",
              "      <td>2020-01-01</td>\n",
              "      <td>1</td>\n",
              "      <td>1</td>\n",
              "    </tr>\n",
              "    <tr>\n",
              "      <th>126</th>\n",
              "      <td>5</td>\n",
              "      <td>khaled alahmad</td>\n",
              "      <td>(Translated by Google) A very huge store that ...</td>\n",
              "      <td>2018-01-01</td>\n",
              "      <td>1</td>\n",
              "      <td>1</td>\n",
              "    </tr>\n",
              "    <tr>\n",
              "      <th>127</th>\n",
              "      <td>5</td>\n",
              "      <td>Myriam Carreño</td>\n",
              "      <td>(Translated by Google) It is a good supermarke...</td>\n",
              "      <td>2018-01-01</td>\n",
              "      <td>1</td>\n",
              "      <td>1</td>\n",
              "    </tr>\n",
              "    <tr>\n",
              "      <th>128</th>\n",
              "      <td>5</td>\n",
              "      <td>Claribel Martinez</td>\n",
              "      <td>(Translated by Google) Because you find a vari...</td>\n",
              "      <td>2019-01-01</td>\n",
              "      <td>1</td>\n",
              "      <td>1</td>\n",
              "    </tr>\n",
              "    <tr>\n",
              "      <th>129</th>\n",
              "      <td>5</td>\n",
              "      <td>Jose Paniagua</td>\n",
              "      <td>(Translated by Google) BJ's is a good place wh...</td>\n",
              "      <td>2018-01-01</td>\n",
              "      <td>1</td>\n",
              "      <td>1</td>\n",
              "    </tr>\n",
              "    <tr>\n",
              "      <th>...</th>\n",
              "      <td>...</td>\n",
              "      <td>...</td>\n",
              "      <td>...</td>\n",
              "      <td>...</td>\n",
              "      <td>...</td>\n",
              "      <td>...</td>\n",
              "    </tr>\n",
              "    <tr>\n",
              "      <th>41689</th>\n",
              "      <td>5</td>\n",
              "      <td>Vick100</td>\n",
              "      <td>(Translated by Google) Very good place to do y...</td>\n",
              "      <td>2020-01-01</td>\n",
              "      <td>199</td>\n",
              "      <td>1</td>\n",
              "    </tr>\n",
              "    <tr>\n",
              "      <th>41690</th>\n",
              "      <td>5</td>\n",
              "      <td>Dias Garcia</td>\n",
              "      <td>(Translated by Google) I love my children💖\\r\\n...</td>\n",
              "      <td>2018-01-01</td>\n",
              "      <td>199</td>\n",
              "      <td>1</td>\n",
              "    </tr>\n",
              "    <tr>\n",
              "      <th>41691</th>\n",
              "      <td>5</td>\n",
              "      <td>William Recinos</td>\n",
              "      <td>(Translated by Google) I find what I want and ...</td>\n",
              "      <td>2017-01-01</td>\n",
              "      <td>199</td>\n",
              "      <td>1</td>\n",
              "    </tr>\n",
              "    <tr>\n",
              "      <th>41692</th>\n",
              "      <td>5</td>\n",
              "      <td>jose vasquez</td>\n",
              "      <td>(Translated by Google) To make purchases in qu...</td>\n",
              "      <td>2017-01-01</td>\n",
              "      <td>199</td>\n",
              "      <td>1</td>\n",
              "    </tr>\n",
              "    <tr>\n",
              "      <th>41693</th>\n",
              "      <td>5</td>\n",
              "      <td>Hitamar Celaya</td>\n",
              "      <td>(Translated by Google) Very good\\r\\n\\r\\n(Origi...</td>\n",
              "      <td>2018-01-01</td>\n",
              "      <td>199</td>\n",
              "      <td>1</td>\n",
              "    </tr>\n",
              "  </tbody>\n",
              "</table>\n",
              "<p>1356 rows × 6 columns</p>\n",
              "</div>"
            ]
          },
          "metadata": {},
          "execution_count": 68
        }
      ],
      "metadata": {
        "colab": {
          "base_uri": "https://localhost:8080/",
          "height": 419
        },
        "id": "lXUCs45Jc2_J",
        "outputId": "e3527159-468f-47c1-9f48-7f1ef3771ed2"
      }
    },
    {
      "cell_type": "markdown",
      "source": [
        "Saving reviews in other languages in a seperate data frame"
      ],
      "metadata": {}
    },
    {
      "cell_type": "code",
      "execution_count": 69,
      "source": [
        "# creating dataframe with all non english reviews\r\n",
        "bj_r_diff_lang = bj_r_text[bj_r_text[\"dif_lang\"] == 1]\r\n",
        "bj_r_diff_lang.shape"
      ],
      "outputs": [
        {
          "output_type": "execute_result",
          "data": {
            "text/plain": [
              "(1356, 6)"
            ]
          },
          "metadata": {},
          "execution_count": 69
        }
      ],
      "metadata": {
        "colab": {
          "base_uri": "https://localhost:8080/"
        },
        "id": "jGpoa0dpR4dc",
        "outputId": "d87ced5c-7cc5-475d-9c42-f519a8083afa"
      }
    },
    {
      "cell_type": "code",
      "execution_count": 70,
      "source": [
        "bj_r_diff_lang.head()"
      ],
      "outputs": [
        {
          "output_type": "execute_result",
          "data": {
            "text/plain": [
              "     star rating               name  \\\n",
              "125            5        TANIA PRADO   \n",
              "126            5     khaled alahmad   \n",
              "127            5     Myriam Carreño   \n",
              "128            5  Claribel Martinez   \n",
              "129            5      Jose Paniagua   \n",
              "\n",
              "                                                review        date  \\\n",
              "125  (Translated by Google) Very good place where y...  2020-01-01   \n",
              "126  (Translated by Google) A very huge store that ...  2018-01-01   \n",
              "127  (Translated by Google) It is a good supermarke...  2018-01-01   \n",
              "128  (Translated by Google) Because you find a vari...  2019-01-01   \n",
              "129  (Translated by Google) BJ's is a good place wh...  2018-01-01   \n",
              "\n",
              "     location_code  dif_lang  \n",
              "125              1         1  \n",
              "126              1         1  \n",
              "127              1         1  \n",
              "128              1         1  \n",
              "129              1         1  "
            ],
            "text/html": [
              "<div>\n",
              "<style scoped>\n",
              "    .dataframe tbody tr th:only-of-type {\n",
              "        vertical-align: middle;\n",
              "    }\n",
              "\n",
              "    .dataframe tbody tr th {\n",
              "        vertical-align: top;\n",
              "    }\n",
              "\n",
              "    .dataframe thead th {\n",
              "        text-align: right;\n",
              "    }\n",
              "</style>\n",
              "<table border=\"1\" class=\"dataframe\">\n",
              "  <thead>\n",
              "    <tr style=\"text-align: right;\">\n",
              "      <th></th>\n",
              "      <th>star rating</th>\n",
              "      <th>name</th>\n",
              "      <th>review</th>\n",
              "      <th>date</th>\n",
              "      <th>location_code</th>\n",
              "      <th>dif_lang</th>\n",
              "    </tr>\n",
              "  </thead>\n",
              "  <tbody>\n",
              "    <tr>\n",
              "      <th>125</th>\n",
              "      <td>5</td>\n",
              "      <td>TANIA PRADO</td>\n",
              "      <td>(Translated by Google) Very good place where y...</td>\n",
              "      <td>2020-01-01</td>\n",
              "      <td>1</td>\n",
              "      <td>1</td>\n",
              "    </tr>\n",
              "    <tr>\n",
              "      <th>126</th>\n",
              "      <td>5</td>\n",
              "      <td>khaled alahmad</td>\n",
              "      <td>(Translated by Google) A very huge store that ...</td>\n",
              "      <td>2018-01-01</td>\n",
              "      <td>1</td>\n",
              "      <td>1</td>\n",
              "    </tr>\n",
              "    <tr>\n",
              "      <th>127</th>\n",
              "      <td>5</td>\n",
              "      <td>Myriam Carreño</td>\n",
              "      <td>(Translated by Google) It is a good supermarke...</td>\n",
              "      <td>2018-01-01</td>\n",
              "      <td>1</td>\n",
              "      <td>1</td>\n",
              "    </tr>\n",
              "    <tr>\n",
              "      <th>128</th>\n",
              "      <td>5</td>\n",
              "      <td>Claribel Martinez</td>\n",
              "      <td>(Translated by Google) Because you find a vari...</td>\n",
              "      <td>2019-01-01</td>\n",
              "      <td>1</td>\n",
              "      <td>1</td>\n",
              "    </tr>\n",
              "    <tr>\n",
              "      <th>129</th>\n",
              "      <td>5</td>\n",
              "      <td>Jose Paniagua</td>\n",
              "      <td>(Translated by Google) BJ's is a good place wh...</td>\n",
              "      <td>2018-01-01</td>\n",
              "      <td>1</td>\n",
              "      <td>1</td>\n",
              "    </tr>\n",
              "  </tbody>\n",
              "</table>\n",
              "</div>"
            ]
          },
          "metadata": {},
          "execution_count": 70
        }
      ],
      "metadata": {
        "colab": {
          "base_uri": "https://localhost:8080/",
          "height": 204
        },
        "id": "Wdd10mkfJres",
        "outputId": "acfcbc60-1530-4785-c8da-9f5397e7f40d"
      }
    },
    {
      "cell_type": "markdown",
      "source": [
        "Creating a data frame with English reviews"
      ],
      "metadata": {}
    },
    {
      "cell_type": "code",
      "execution_count": 71,
      "source": [
        "# creating dataframe with only english reviews\r\n",
        "bj_r_text_eng = bj_r_text[bj_r_text[\"dif_lang\"] == -1]\r\n",
        "bj_r_text_eng.shape"
      ],
      "outputs": [
        {
          "output_type": "execute_result",
          "data": {
            "text/plain": [
              "(21200, 6)"
            ]
          },
          "metadata": {},
          "execution_count": 71
        }
      ],
      "metadata": {
        "colab": {
          "base_uri": "https://localhost:8080/"
        },
        "id": "_MTQYmMmR4dc",
        "outputId": "23e640b7-a0dd-45ca-b4d5-23913c00dd2b"
      }
    },
    {
      "cell_type": "markdown",
      "source": [
        "A file with clean reviews. We splitted the reviews and saved the English (Translated) as well as the Original one. Only issue: We don't know how to delete paranthesis."
      ],
      "metadata": {
        "id": "_IqHhEneJret"
      }
    },
    {
      "cell_type": "code",
      "execution_count": 72,
      "source": [
        "#bj_r_diff_lang_clean = pd.read_csv(\"/Users/paulademacker/Documents/GitHub/Capstone/review_foreign_languages\")\r\n",
        "bj_r_diff_lang_clean = pd.read_csv(\"review_foreign_languages\",index_col=0)\r\n",
        "#bj_r_diff_lang_clean"
      ],
      "outputs": [],
      "metadata": {
        "colab": {
          "base_uri": "https://localhost:8080/",
          "height": 450
        },
        "id": "5HRdWOHRJret",
        "outputId": "bf4fe2ce-3cd4-4655-a361-8b221d7d201b"
      }
    },
    {
      "cell_type": "markdown",
      "source": [
        "Steps we took to clean the data frame, but we already saved the clean file so no need for it anymore\n"
      ],
      "metadata": {
        "id": "4hP7g5gxJret"
      }
    },
    {
      "cell_type": "code",
      "execution_count": 73,
      "source": [
        "# creating a column with the translates text and one with the original text\r\n",
        "#bj_r_diff_lang[['Translated','Original']] = \r\n",
        "#bj_r_diff_lang[['English','drop3','Original']] = bj_r_diff_lang.Original.str.split(\")\",expand=True)\r\n",
        "#bj_r_diff_lang = bj_r_diff_lang.drop(columns=[\"review\"])\r\n",
        "#bj_r_diff_lang.to_csv(\"/Users/paulademacker/Documents/GitHub/Capstone/review_foreign_languages\",index=False)\r\n",
        "# extracting first and last name and date\r\n",
        "# all upper case\r\n",
        "# removing punctuation and numbers\r\n",
        "#names = bj_r[[\"name\", \"date\", \"star rating\", \"location_code\"]]\r\n",
        "#names['name'] = names['name'].str.upper()\r\n",
        "#names[\"name\"] = names['name'].str.replace('[^\\w\\s]','')\r\n",
        "#names[\"name\"] = names['name'].str.replace('\\d+', '')\r\n",
        "#a = names.name.str.split(\" \", expand = True)\r\n",
        "#a = a.drop(columns = [2,3,4,5,6,7,8,9])\r\n",
        "\r\n",
        "#names[\"first\"] = a[0]\r\n",
        "#names[\"last\"] = a[1]\r\n",
        "#names.drop(columns=\"name\")\r\n",
        "\r\n",
        "#names = pd.concat([names, bj_lo], axis=1)\r\n",
        "#names.drop(columns=[\"average rating\",\"reviews count\",\"popular words\",\"location_code\"])\r\n",
        "\r\n",
        "#names.to_csv(\"/Users/paulademacker/Documents/GitHub/Capstone/names_all_reviews.csv\",index=False)"
      ],
      "outputs": [],
      "metadata": {
        "id": "LOK6kQ2ic2_L"
      }
    },
    {
      "cell_type": "markdown",
      "source": [
        "# EDA \n",
        "\n",
        "Dataframe explanation:  \n",
        "bj_lo - > all 200 locations  \n",
        "bj_r -> all reviews  \n",
        "bj_r_text -> only text reviews, all languages  \n",
        "bj_r_diff_lang -> only text reviews in foreign languages  \n",
        "bj_r_text_eng -> only text reviews in English  \n"
      ],
      "metadata": {
        "id": "tnGG3dkaR4dc"
      }
    },
    {
      "cell_type": "markdown",
      "source": [
        "### Distribution of Reviews"
      ],
      "metadata": {
        "id": "L4sE14jFJreu"
      }
    },
    {
      "cell_type": "code",
      "execution_count": 74,
      "source": [
        "no_text = len(bj_r['review']) - len(bj_r_text['review'])\r\n",
        "with_text_translated = len(bj_r_diff_lang['review'])\r\n",
        "with_text_English = len(bj_r_text_eng['review'])\r\n",
        "\r\n",
        "y = np.array([no_text,with_text_translated,with_text_English])\r\n",
        "explode = (0.1,0,0)\r\n",
        "plt.rcParams['font.size'] = 20\r\n",
        "mylabels = [\"Star rating only\", \"Foreign languages reviews\",\"English reviews\"]\r\n",
        "\r\n",
        "plt.pie(y, labels = mylabels,autopct='%1.1f%%', explode = explode, shadow = True, textprops={'fontsize': 10}\r\n",
        ")\r\n",
        "plt.show()\r\n"
      ],
      "outputs": [
        {
          "output_type": "display_data",
          "data": {
            "text/plain": [
              "<Figure size 432x288 with 1 Axes>"
            ],
            "image/png": "[encoded data removed]"
          },
          "metadata": {}
        }
      ],
      "metadata": {
        "colab": {
          "base_uri": "https://localhost:8080/",
          "height": 0
        },
        "id": "olLcXxgjJreu",
        "outputId": "83873c66-5ec2-438d-d264-2ede07ce53eb"
      }
    },
    {
      "cell_type": "markdown",
      "source": [
        "We used the bj_r dataset for this part.\n",
        "46.2% of the reviews are star rating only (do not have text).\n",
        "50.6% of the reviews are in English.\n",
        "3.2% of the reviews are in foreign languages and translated by Google."
      ],
      "metadata": {
        "id": "LkDQzi1EJreu"
      }
    },
    {
      "cell_type": "markdown",
      "source": [
        "### Distribution of all star ratings for only text reviews in English"
      ],
      "metadata": {
        "id": "6Mdqaj3TJreu"
      }
    },
    {
      "cell_type": "code",
      "execution_count": 75,
      "source": [
        "# need upgrade nbformat by pip install --upgrade nbformat and restart VScode\r\n",
        "\r\n",
        "ratings = bj_r_text_eng['star rating'].value_counts()\r\n",
        "\r\n",
        "label_rating = ratings.index\r\n",
        "size_rating = ratings.values\r\n",
        "\r\n",
        "colors = ['pink','lightblue','aqua','gold','crimson']\r\n",
        "\r\n",
        "rating_piechart = go.Pie(labels = label_rating, values = size_rating, marker = dict(colors = colors), name = \"Bj's\", hole = 0.3, textfont_size=20)\r\n",
        "\r\n",
        "df = [rating_piechart]\r\n",
        "layout = go.Layout(title=\"Distribution of Ratings for Bj's Wholesale\")\r\n",
        "fig = go.Figure(data = df, layout = layout)\r\n",
        "fig"
      ],
      "outputs": [
        {
          "output_type": "display_data",
          "data": {
            "text/html": [
              "<div>                            <div id=\"cd1d4e0e-e5e2-4cb5-88da-a20217c94b53\" class=\"plotly-graph-div\" style=\"height:525px; width:100%;\"></div>            <script type=\"text/javascript\">                require([\"plotly\"], function(Plotly) {                    window.PLOTLYENV=window.PLOTLYENV || {};                                    if (document.getElementById(\"cd1d4e0e-e5e2-4cb5-88da-a20217c94b53\")) {                    Plotly.newPlot(                        \"cd1d4e0e-e5e2-4cb5-88da-a20217c94b53\",                        [{\"hole\": 0.3, \"labels\": [5, 4, 1, 3, 2], \"marker\": {\"colors\": [\"pink\", \"lightblue\", \"aqua\", \"gold\", \"crimson\"]}, \"name\": \"Bj's\", \"textfont\": {\"size\": 20}, \"type\": \"pie\", \"values\": [9764, 4628, 3866, 1804, 1138]}],                        {\"template\": {\"data\": {\"bar\": [{\"error_x\": {\"color\": \"#2a3f5f\"}, \"error_y\": {\"color\": \"#2a3f5f\"}, \"marker\": {\"line\": {\"color\": \"#E5ECF6\", \"width\": 0.5}}, \"type\": \"bar\"}], \"barpolar\": [{\"marker\": {\"line\": {\"color\": \"#E5ECF6\", \"width\": 0.5}}, \"type\": \"barpolar\"}], \"carpet\": [{\"aaxis\": {\"endlinecolor\": \"#2a3f5f\", \"gridcolor\": \"white\", \"linecolor\": \"white\", \"minorgridcolor\": \"white\", \"startlinecolor\": \"#2a3f5f\"}, \"baxis\": {\"endlinecolor\": \"#2a3f5f\", \"gridcolor\": \"white\", \"linecolor\": \"white\", \"minorgridcolor\": \"white\", \"startlinecolor\": \"#2a3f5f\"}, \"type\": \"carpet\"}], \"choropleth\": [{\"colorbar\": {\"outlinewidth\": 0, \"ticks\": \"\"}, \"type\": \"choropleth\"}], \"contour\": [{\"colorbar\": {\"outlinewidth\": 0, \"ticks\": \"\"}, \"colorscale\": [[0.0, \"#0d0887\"], [0.1111111111111111, \"#46039f\"], [0.2222222222222222, \"#7201a8\"], [0.3333333333333333, \"#9c179e\"], [0.4444444444444444, \"#bd3786\"], [0.5555555555555556, \"#d8576b\"], [0.6666666666666666, \"#ed7953\"], [0.7777777777777778, \"#fb9f3a\"], [0.8888888888888888, \"#fdca26\"], [1.0, \"#f0f921\"]], \"type\": \"contour\"}], \"contourcarpet\": [{\"colorbar\": {\"outlinewidth\": 0, \"ticks\": \"\"}, \"type\": \"contourcarpet\"}], \"heatmap\": [{\"colorbar\": {\"outlinewidth\": 0, \"ticks\": \"\"}, \"colorscale\": [[0.0, \"#0d0887\"], [0.1111111111111111, \"#46039f\"], [0.2222222222222222, \"#7201a8\"], [0.3333333333333333, \"#9c179e\"], [0.4444444444444444, \"#bd3786\"], [0.5555555555555556, \"#d8576b\"], [0.6666666666666666, \"#ed7953\"], [0.7777777777777778, \"#fb9f3a\"], [0.8888888888888888, \"#fdca26\"], [1.0, \"#f0f921\"]], \"type\": \"heatmap\"}], \"heatmapgl\": [{\"colorbar\": {\"outlinewidth\": 0, \"ticks\": \"\"}, \"colorscale\": [[0.0, \"#0d0887\"], [0.1111111111111111, \"#46039f\"], [0.2222222222222222, \"#7201a8\"], [0.3333333333333333, \"#9c179e\"], [0.4444444444444444, \"#bd3786\"], [0.5555555555555556, \"#d8576b\"], [0.6666666666666666, \"#ed7953\"], [0.7777777777777778, \"#fb9f3a\"], [0.8888888888888888, \"#fdca26\"], [1.0, \"#f0f921\"]], \"type\": \"heatmapgl\"}], \"histogram\": [{\"marker\": {\"colorbar\": {\"outlinewidth\": 0, \"ticks\": \"\"}}, \"type\": \"histogram\"}], \"histogram2d\": [{\"colorbar\": {\"outlinewidth\": 0, \"ticks\": \"\"}, \"colorscale\": [[0.0, \"#0d0887\"], [0.1111111111111111, \"#46039f\"], [0.2222222222222222, \"#7201a8\"], [0.3333333333333333, \"#9c179e\"], [0.4444444444444444, \"#bd3786\"], [0.5555555555555556, \"#d8576b\"], [0.6666666666666666, \"#ed7953\"], [0.7777777777777778, \"#fb9f3a\"], [0.8888888888888888, \"#fdca26\"], [1.0, \"#f0f921\"]], \"type\": \"histogram2d\"}], \"histogram2dcontour\": [{\"colorbar\": {\"outlinewidth\": 0, \"ticks\": \"\"}, \"colorscale\": [[0.0, \"#0d0887\"], [0.1111111111111111, \"#46039f\"], [0.2222222222222222, \"#7201a8\"], [0.3333333333333333, \"#9c179e\"], [0.4444444444444444, \"#bd3786\"], [0.5555555555555556, \"#d8576b\"], [0.6666666666666666, \"#ed7953\"], [0.7777777777777778, \"#fb9f3a\"], [0.8888888888888888, \"#fdca26\"], [1.0, \"#f0f921\"]], \"type\": \"histogram2dcontour\"}], \"mesh3d\": [{\"colorbar\": {\"outlinewidth\": 0, \"ticks\": \"\"}, \"type\": \"mesh3d\"}], \"parcoords\": [{\"line\": {\"colorbar\": {\"outlinewidth\": 0, \"ticks\": \"\"}}, \"type\": \"parcoords\"}], \"pie\": [{\"automargin\": true, \"type\": \"pie\"}], \"scatter\": [{\"marker\": {\"colorbar\": {\"outlinewidth\": 0, \"ticks\": \"\"}}, \"type\": \"scatter\"}], \"scatter3d\": [{\"line\": {\"colorbar\": {\"outlinewidth\": 0, \"ticks\": \"\"}}, \"marker\": {\"colorbar\": {\"outlinewidth\": 0, \"ticks\": \"\"}}, \"type\": \"scatter3d\"}], \"scattercarpet\": [{\"marker\": {\"colorbar\": {\"outlinewidth\": 0, \"ticks\": \"\"}}, \"type\": \"scattercarpet\"}], \"scattergeo\": [{\"marker\": {\"colorbar\": {\"outlinewidth\": 0, \"ticks\": \"\"}}, \"type\": \"scattergeo\"}], \"scattergl\": [{\"marker\": {\"colorbar\": {\"outlinewidth\": 0, \"ticks\": \"\"}}, \"type\": \"scattergl\"}], \"scattermapbox\": [{\"marker\": {\"colorbar\": {\"outlinewidth\": 0, \"ticks\": \"\"}}, \"type\": \"scattermapbox\"}], \"scatterpolar\": [{\"marker\": {\"colorbar\": {\"outlinewidth\": 0, \"ticks\": \"\"}}, \"type\": \"scatterpolar\"}], \"scatterpolargl\": [{\"marker\": {\"colorbar\": {\"outlinewidth\": 0, \"ticks\": \"\"}}, \"type\": \"scatterpolargl\"}], \"scatterternary\": [{\"marker\": {\"colorbar\": {\"outlinewidth\": 0, \"ticks\": \"\"}}, \"type\": \"scatterternary\"}], \"surface\": [{\"colorbar\": {\"outlinewidth\": 0, \"ticks\": \"\"}, \"colorscale\": [[0.0, \"#0d0887\"], [0.1111111111111111, \"#46039f\"], [0.2222222222222222, \"#7201a8\"], [0.3333333333333333, \"#9c179e\"], [0.4444444444444444, \"#bd3786\"], [0.5555555555555556, \"#d8576b\"], [0.6666666666666666, \"#ed7953\"], [0.7777777777777778, \"#fb9f3a\"], [0.8888888888888888, \"#fdca26\"], [1.0, \"#f0f921\"]], \"type\": \"surface\"}], \"table\": [{\"cells\": {\"fill\": {\"color\": \"#EBF0F8\"}, \"line\": {\"color\": \"white\"}}, \"header\": {\"fill\": {\"color\": \"#C8D4E3\"}, \"line\": {\"color\": \"white\"}}, \"type\": \"table\"}]}, \"layout\": {\"annotationdefaults\": {\"arrowcolor\": \"#2a3f5f\", \"arrowhead\": 0, \"arrowwidth\": 1}, \"autotypenumbers\": \"strict\", \"coloraxis\": {\"colorbar\": {\"outlinewidth\": 0, \"ticks\": \"\"}}, \"colorscale\": {\"diverging\": [[0, \"#8e0152\"], [0.1, \"#c51b7d\"], [0.2, \"#de77ae\"], [0.3, \"#f1b6da\"], [0.4, \"#fde0ef\"], [0.5, \"#f7f7f7\"], [0.6, \"#e6f5d0\"], [0.7, \"#b8e186\"], [0.8, \"#7fbc41\"], [0.9, \"#4d9221\"], [1, \"#276419\"]], \"sequential\": [[0.0, \"#0d0887\"], [0.1111111111111111, \"#46039f\"], [0.2222222222222222, \"#7201a8\"], [0.3333333333333333, \"#9c179e\"], [0.4444444444444444, \"#bd3786\"], [0.5555555555555556, \"#d8576b\"], [0.6666666666666666, \"#ed7953\"], [0.7777777777777778, \"#fb9f3a\"], [0.8888888888888888, \"#fdca26\"], [1.0, \"#f0f921\"]], \"sequentialminus\": [[0.0, \"#0d0887\"], [0.1111111111111111, \"#46039f\"], [0.2222222222222222, \"#7201a8\"], [0.3333333333333333, \"#9c179e\"], [0.4444444444444444, \"#bd3786\"], [0.5555555555555556, \"#d8576b\"], [0.6666666666666666, \"#ed7953\"], [0.7777777777777778, \"#fb9f3a\"], [0.8888888888888888, \"#fdca26\"], [1.0, \"#f0f921\"]]}, \"colorway\": [\"#636efa\", \"#EF553B\", \"#00cc96\", \"#ab63fa\", \"#FFA15A\", \"#19d3f3\", \"#FF6692\", \"#B6E880\", \"#FF97FF\", \"#FECB52\"], \"font\": {\"color\": \"#2a3f5f\"}, \"geo\": {\"bgcolor\": \"white\", \"lakecolor\": \"white\", \"landcolor\": \"#E5ECF6\", \"showlakes\": true, \"showland\": true, \"subunitcolor\": \"white\"}, \"hoverlabel\": {\"align\": \"left\"}, \"hovermode\": \"closest\", \"mapbox\": {\"style\": \"light\"}, \"paper_bgcolor\": \"white\", \"plot_bgcolor\": \"#E5ECF6\", \"polar\": {\"angularaxis\": {\"gridcolor\": \"white\", \"linecolor\": \"white\", \"ticks\": \"\"}, \"bgcolor\": \"#E5ECF6\", \"radialaxis\": {\"gridcolor\": \"white\", \"linecolor\": \"white\", \"ticks\": \"\"}}, \"scene\": {\"xaxis\": {\"backgroundcolor\": \"#E5ECF6\", \"gridcolor\": \"white\", \"gridwidth\": 2, \"linecolor\": \"white\", \"showbackground\": true, \"ticks\": \"\", \"zerolinecolor\": \"white\"}, \"yaxis\": {\"backgroundcolor\": \"#E5ECF6\", \"gridcolor\": \"white\", \"gridwidth\": 2, \"linecolor\": \"white\", \"showbackground\": true, \"ticks\": \"\", \"zerolinecolor\": \"white\"}, \"zaxis\": {\"backgroundcolor\": \"#E5ECF6\", \"gridcolor\": \"white\", \"gridwidth\": 2, \"linecolor\": \"white\", \"showbackground\": true, \"ticks\": \"\", \"zerolinecolor\": \"white\"}}, \"shapedefaults\": {\"line\": {\"color\": \"#2a3f5f\"}}, \"ternary\": {\"aaxis\": {\"gridcolor\": \"white\", \"linecolor\": \"white\", \"ticks\": \"\"}, \"baxis\": {\"gridcolor\": \"white\", \"linecolor\": \"white\", \"ticks\": \"\"}, \"bgcolor\": \"#E5ECF6\", \"caxis\": {\"gridcolor\": \"white\", \"linecolor\": \"white\", \"ticks\": \"\"}}, \"title\": {\"x\": 0.05}, \"xaxis\": {\"automargin\": true, \"gridcolor\": \"white\", \"linecolor\": \"white\", \"ticks\": \"\", \"title\": {\"standoff\": 15}, \"zerolinecolor\": \"white\", \"zerolinewidth\": 2}, \"yaxis\": {\"automargin\": true, \"gridcolor\": \"white\", \"linecolor\": \"white\", \"ticks\": \"\", \"title\": {\"standoff\": 15}, \"zerolinecolor\": \"white\", \"zerolinewidth\": 2}}}, \"title\": {\"text\": \"Distribution of Ratings for Bj's Wholesale\"}},                        {\"responsive\": true}                    ).then(function(){\n",
              "                            \n",
              "var gd = document.getElementById('cd1d4e0e-e5e2-4cb5-88da-a20217c94b53');\n",
              "var x = new MutationObserver(function (mutations, observer) {{\n",
              "        var display = window.getComputedStyle(gd).display;\n",
              "        if (!display || display === 'none') {{\n",
              "            console.log([gd, 'removed!']);\n",
              "            Plotly.purge(gd);\n",
              "            observer.disconnect();\n",
              "        }}\n",
              "}});\n",
              "\n",
              "// Listen for the removal of the full notebook cells\n",
              "var notebookContainer = gd.closest('#notebook-container');\n",
              "if (notebookContainer) {{\n",
              "    x.observe(notebookContainer, {childList: true});\n",
              "}}\n",
              "\n",
              "// Listen for the clearing of the current output cell\n",
              "var outputEl = gd.closest('.output');\n",
              "if (outputEl) {{\n",
              "    x.observe(outputEl, {childList: true});\n",
              "}}\n",
              "\n",
              "                        })                };                });            </script>        </div>"
            ],
            "application/vnd.plotly.v1+json": {
              "config": {
                "plotlyServerURL": "https://plot.ly"
              },
              "data": [
                {
                  "hole": 0.3,
                  "labels": [
                    5,
                    4,
                    1,
                    3,
                    2
                  ],
                  "marker": {
                    "colors": [
                      "pink",
                      "lightblue",
                      "aqua",
                      "gold",
                      "crimson"
                    ]
                  },
                  "name": "Bj's",
                  "textfont": {
                    "size": 20
                  },
                  "type": "pie",
                  "values": [
                    9764,
                    4628,
                    3866,
                    1804,
                    1138
                  ]
                }
              ],
              "layout": {
                "template": {
                  "data": {
                    "bar": [
                      {
                        "error_x": {
                          "color": "#2a3f5f"
                        },
                        "error_y": {
                          "color": "#2a3f5f"
                        },
                        "marker": {
                          "line": {
                            "color": "#E5ECF6",
                            "width": 0.5
                          }
                        },
                        "type": "bar"
                      }
                    ],
                    "barpolar": [
                      {
                        "marker": {
                          "line": {
                            "color": "#E5ECF6",
                            "width": 0.5
                          }
                        },
                        "type": "barpolar"
                      }
                    ],
                    "carpet": [
                      {
                        "aaxis": {
                          "endlinecolor": "#2a3f5f",
                          "gridcolor": "white",
                          "linecolor": "white",
                          "minorgridcolor": "white",
                          "startlinecolor": "#2a3f5f"
                        },
                        "baxis": {
                          "endlinecolor": "#2a3f5f",
                          "gridcolor": "white",
                          "linecolor": "white",
                          "minorgridcolor": "white",
                          "startlinecolor": "#2a3f5f"
                        },
                        "type": "carpet"
                      }
                    ],
                    "choropleth": [
                      {
                        "colorbar": {
                          "outlinewidth": 0,
                          "ticks": ""
                        },
                        "type": "choropleth"
                      }
                    ],
                    "contour": [
                      {
                        "colorbar": {
                          "outlinewidth": 0,
                          "ticks": ""
                        },
                        "colorscale": [
                          [
                            0,
                            "#0d0887"
                          ],
                          [
                            0.1111111111111111,
                            "#46039f"
                          ],
                          [
                            0.2222222222222222,
                            "#7201a8"
                          ],
                          [
                            0.3333333333333333,
                            "#9c179e"
                          ],
                          [
                            0.4444444444444444,
                            "#bd3786"
                          ],
                          [
                            0.5555555555555556,
                            "#d8576b"
                          ],
                          [
                            0.6666666666666666,
                            "#ed7953"
                          ],
                          [
                            0.7777777777777778,
                            "#fb9f3a"
                          ],
                          [
                            0.8888888888888888,
                            "#fdca26"
                          ],
                          [
                            1,
                            "#f0f921"
                          ]
                        ],
                        "type": "contour"
                      }
                    ],
                    "contourcarpet": [
                      {
                        "colorbar": {
                          "outlinewidth": 0,
                          "ticks": ""
                        },
                        "type": "contourcarpet"
                      }
                    ],
                    "heatmap": [
                      {
                        "colorbar": {
                          "outlinewidth": 0,
                          "ticks": ""
                        },
                        "colorscale": [
                          [
                            0,
                            "#0d0887"
                          ],
                          [
                            0.1111111111111111,
                            "#46039f"
                          ],
                          [
                            0.2222222222222222,
                            "#7201a8"
                          ],
                          [
                            0.3333333333333333,
                            "#9c179e"
                          ],
                          [
                            0.4444444444444444,
                            "#bd3786"
                          ],
                          [
                            0.5555555555555556,
                            "#d8576b"
                          ],
                          [
                            0.6666666666666666,
                            "#ed7953"
                          ],
                          [
                            0.7777777777777778,
                            "#fb9f3a"
                          ],
                          [
                            0.8888888888888888,
                            "#fdca26"
                          ],
                          [
                            1,
                            "#f0f921"
                          ]
                        ],
                        "type": "heatmap"
                      }
                    ],
                    "heatmapgl": [
                      {
                        "colorbar": {
                          "outlinewidth": 0,
                          "ticks": ""
                        },
                        "colorscale": [
                          [
                            0,
                            "#0d0887"
                          ],
                          [
                            0.1111111111111111,
                            "#46039f"
                          ],
                          [
                            0.2222222222222222,
                            "#7201a8"
                          ],
                          [
                            0.3333333333333333,
                            "#9c179e"
                          ],
                          [
                            0.4444444444444444,
                            "#bd3786"
                          ],
                          [
                            0.5555555555555556,
                            "#d8576b"
                          ],
                          [
                            0.6666666666666666,
                            "#ed7953"
                          ],
                          [
                            0.7777777777777778,
                            "#fb9f3a"
                          ],
                          [
                            0.8888888888888888,
                            "#fdca26"
                          ],
                          [
                            1,
                            "#f0f921"
                          ]
                        ],
                        "type": "heatmapgl"
                      }
                    ],
                    "histogram": [
                      {
                        "marker": {
                          "colorbar": {
                            "outlinewidth": 0,
                            "ticks": ""
                          }
                        },
                        "type": "histogram"
                      }
                    ],
                    "histogram2d": [
                      {
                        "colorbar": {
                          "outlinewidth": 0,
                          "ticks": ""
                        },
                        "colorscale": [
                          [
                            0,
                            "#0d0887"
                          ],
                          [
                            0.1111111111111111,
                            "#46039f"
                          ],
                          [
                            0.2222222222222222,
                            "#7201a8"
                          ],
                          [
                            0.3333333333333333,
                            "#9c179e"
                          ],
                          [
                            0.4444444444444444,
                            "#bd3786"
                          ],
                          [
                            0.5555555555555556,
                            "#d8576b"
                          ],
                          [
                            0.6666666666666666,
                            "#ed7953"
                          ],
                          [
                            0.7777777777777778,
                            "#fb9f3a"
                          ],
                          [
                            0.8888888888888888,
                            "#fdca26"
                          ],
                          [
                            1,
                            "#f0f921"
                          ]
                        ],
                        "type": "histogram2d"
                      }
                    ],
                    "histogram2dcontour": [
                      {
                        "colorbar": {
                          "outlinewidth": 0,
                          "ticks": ""
                        },
                        "colorscale": [
                          [
                            0,
                            "#0d0887"
                          ],
                          [
                            0.1111111111111111,
                            "#46039f"
                          ],
                          [
                            0.2222222222222222,
                            "#7201a8"
                          ],
                          [
                            0.3333333333333333,
                            "#9c179e"
                          ],
                          [
                            0.4444444444444444,
                            "#bd3786"
                          ],
                          [
                            0.5555555555555556,
                            "#d8576b"
                          ],
                          [
                            0.6666666666666666,
                            "#ed7953"
                          ],
                          [
                            0.7777777777777778,
                            "#fb9f3a"
                          ],
                          [
                            0.8888888888888888,
                            "#fdca26"
                          ],
                          [
                            1,
                            "#f0f921"
                          ]
                        ],
                        "type": "histogram2dcontour"
                      }
                    ],
                    "mesh3d": [
                      {
                        "colorbar": {
                          "outlinewidth": 0,
                          "ticks": ""
                        },
                        "type": "mesh3d"
                      }
                    ],
                    "parcoords": [
                      {
                        "line": {
                          "colorbar": {
                            "outlinewidth": 0,
                            "ticks": ""
                          }
                        },
                        "type": "parcoords"
                      }
                    ],
                    "pie": [
                      {
                        "automargin": true,
                        "type": "pie"
                      }
                    ],
                    "scatter": [
                      {
                        "marker": {
                          "colorbar": {
                            "outlinewidth": 0,
                            "ticks": ""
                          }
                        },
                        "type": "scatter"
                      }
                    ],
                    "scatter3d": [
                      {
                        "line": {
                          "colorbar": {
                            "outlinewidth": 0,
                            "ticks": ""
                          }
                        },
                        "marker": {
                          "colorbar": {
                            "outlinewidth": 0,
                            "ticks": ""
                          }
                        },
                        "type": "scatter3d"
                      }
                    ],
                    "scattercarpet": [
                      {
                        "marker": {
                          "colorbar": {
                            "outlinewidth": 0,
                            "ticks": ""
                          }
                        },
                        "type": "scattercarpet"
                      }
                    ],
                    "scattergeo": [
                      {
                        "marker": {
                          "colorbar": {
                            "outlinewidth": 0,
                            "ticks": ""
                          }
                        },
                        "type": "scattergeo"
                      }
                    ],
                    "scattergl": [
                      {
                        "marker": {
                          "colorbar": {
                            "outlinewidth": 0,
                            "ticks": ""
                          }
                        },
                        "type": "scattergl"
                      }
                    ],
                    "scattermapbox": [
                      {
                        "marker": {
                          "colorbar": {
                            "outlinewidth": 0,
                            "ticks": ""
                          }
                        },
                        "type": "scattermapbox"
                      }
                    ],
                    "scatterpolar": [
                      {
                        "marker": {
                          "colorbar": {
                            "outlinewidth": 0,
                            "ticks": ""
                          }
                        },
                        "type": "scatterpolar"
                      }
                    ],
                    "scatterpolargl": [
                      {
                        "marker": {
                          "colorbar": {
                            "outlinewidth": 0,
                            "ticks": ""
                          }
                        },
                        "type": "scatterpolargl"
                      }
                    ],
                    "scatterternary": [
                      {
                        "marker": {
                          "colorbar": {
                            "outlinewidth": 0,
                            "ticks": ""
                          }
                        },
                        "type": "scatterternary"
                      }
                    ],
                    "surface": [
                      {
                        "colorbar": {
                          "outlinewidth": 0,
                          "ticks": ""
                        },
                        "colorscale": [
                          [
                            0,
                            "#0d0887"
                          ],
                          [
                            0.1111111111111111,
                            "#46039f"
                          ],
                          [
                            0.2222222222222222,
                            "#7201a8"
                          ],
                          [
                            0.3333333333333333,
                            "#9c179e"
                          ],
                          [
                            0.4444444444444444,
                            "#bd3786"
                          ],
                          [
                            0.5555555555555556,
                            "#d8576b"
                          ],
                          [
                            0.6666666666666666,
                            "#ed7953"
                          ],
                          [
                            0.7777777777777778,
                            "#fb9f3a"
                          ],
                          [
                            0.8888888888888888,
                            "#fdca26"
                          ],
                          [
                            1,
                            "#f0f921"
                          ]
                        ],
                        "type": "surface"
                      }
                    ],
                    "table": [
                      {
                        "cells": {
                          "fill": {
                            "color": "#EBF0F8"
                          },
                          "line": {
                            "color": "white"
                          }
                        },
                        "header": {
                          "fill": {
                            "color": "#C8D4E3"
                          },
                          "line": {
                            "color": "white"
                          }
                        },
                        "type": "table"
                      }
                    ]
                  },
                  "layout": {
                    "annotationdefaults": {
                      "arrowcolor": "#2a3f5f",
                      "arrowhead": 0,
                      "arrowwidth": 1
                    },
                    "autotypenumbers": "strict",
                    "coloraxis": {
                      "colorbar": {
                        "outlinewidth": 0,
                        "ticks": ""
                      }
                    },
                    "colorscale": {
                      "diverging": [
                        [
                          0,
                          "#8e0152"
                        ],
                        [
                          0.1,
                          "#c51b7d"
                        ],
                        [
                          0.2,
                          "#de77ae"
                        ],
                        [
                          0.3,
                          "#f1b6da"
                        ],
                        [
                          0.4,
                          "#fde0ef"
                        ],
                        [
                          0.5,
                          "#f7f7f7"
                        ],
                        [
                          0.6,
                          "#e6f5d0"
                        ],
                        [
                          0.7,
                          "#b8e186"
                        ],
                        [
                          0.8,
                          "#7fbc41"
                        ],
                        [
                          0.9,
                          "#4d9221"
                        ],
                        [
                          1,
                          "#276419"
                        ]
                      ],
                      "sequential": [
                        [
                          0,
                          "#0d0887"
                        ],
                        [
                          0.1111111111111111,
                          "#46039f"
                        ],
                        [
                          0.2222222222222222,
                          "#7201a8"
                        ],
                        [
                          0.3333333333333333,
                          "#9c179e"
                        ],
                        [
                          0.4444444444444444,
                          "#bd3786"
                        ],
                        [
                          0.5555555555555556,
                          "#d8576b"
                        ],
                        [
                          0.6666666666666666,
                          "#ed7953"
                        ],
                        [
                          0.7777777777777778,
                          "#fb9f3a"
                        ],
                        [
                          0.8888888888888888,
                          "#fdca26"
                        ],
                        [
                          1,
                          "#f0f921"
                        ]
                      ],
                      "sequentialminus": [
                        [
                          0,
                          "#0d0887"
                        ],
                        [
                          0.1111111111111111,
                          "#46039f"
                        ],
                        [
                          0.2222222222222222,
                          "#7201a8"
                        ],
                        [
                          0.3333333333333333,
                          "#9c179e"
                        ],
                        [
                          0.4444444444444444,
                          "#bd3786"
                        ],
                        [
                          0.5555555555555556,
                          "#d8576b"
                        ],
                        [
                          0.6666666666666666,
                          "#ed7953"
                        ],
                        [
                          0.7777777777777778,
                          "#fb9f3a"
                        ],
                        [
                          0.8888888888888888,
                          "#fdca26"
                        ],
                        [
                          1,
                          "#f0f921"
                        ]
                      ]
                    },
                    "colorway": [
                      "#636efa",
                      "#EF553B",
                      "#00cc96",
                      "#ab63fa",
                      "#FFA15A",
                      "#19d3f3",
                      "#FF6692",
                      "#B6E880",
                      "#FF97FF",
                      "#FECB52"
                    ],
                    "font": {
                      "color": "#2a3f5f"
                    },
                    "geo": {
                      "bgcolor": "white",
                      "lakecolor": "white",
                      "landcolor": "#E5ECF6",
                      "showlakes": true,
                      "showland": true,
                      "subunitcolor": "white"
                    },
                    "hoverlabel": {
                      "align": "left"
                    },
                    "hovermode": "closest",
                    "mapbox": {
                      "style": "light"
                    },
                    "paper_bgcolor": "white",
                    "plot_bgcolor": "#E5ECF6",
                    "polar": {
                      "angularaxis": {
                        "gridcolor": "white",
                        "linecolor": "white",
                        "ticks": ""
                      },
                      "bgcolor": "#E5ECF6",
                      "radialaxis": {
                        "gridcolor": "white",
                        "linecolor": "white",
                        "ticks": ""
                      }
                    },
                    "scene": {
                      "xaxis": {
                        "backgroundcolor": "#E5ECF6",
                        "gridcolor": "white",
                        "gridwidth": 2,
                        "linecolor": "white",
                        "showbackground": true,
                        "ticks": "",
                        "zerolinecolor": "white"
                      },
                      "yaxis": {
                        "backgroundcolor": "#E5ECF6",
                        "gridcolor": "white",
                        "gridwidth": 2,
                        "linecolor": "white",
                        "showbackground": true,
                        "ticks": "",
                        "zerolinecolor": "white"
                      },
                      "zaxis": {
                        "backgroundcolor": "#E5ECF6",
                        "gridcolor": "white",
                        "gridwidth": 2,
                        "linecolor": "white",
                        "showbackground": true,
                        "ticks": "",
                        "zerolinecolor": "white"
                      }
                    },
                    "shapedefaults": {
                      "line": {
                        "color": "#2a3f5f"
                      }
                    },
                    "ternary": {
                      "aaxis": {
                        "gridcolor": "white",
                        "linecolor": "white",
                        "ticks": ""
                      },
                      "baxis": {
                        "gridcolor": "white",
                        "linecolor": "white",
                        "ticks": ""
                      },
                      "bgcolor": "#E5ECF6",
                      "caxis": {
                        "gridcolor": "white",
                        "linecolor": "white",
                        "ticks": ""
                      }
                    },
                    "title": {
                      "x": 0.05
                    },
                    "xaxis": {
                      "automargin": true,
                      "gridcolor": "white",
                      "linecolor": "white",
                      "ticks": "",
                      "title": {
                        "standoff": 15
                      },
                      "zerolinecolor": "white",
                      "zerolinewidth": 2
                    },
                    "yaxis": {
                      "automargin": true,
                      "gridcolor": "white",
                      "linecolor": "white",
                      "ticks": "",
                      "title": {
                        "standoff": 15
                      },
                      "zerolinecolor": "white",
                      "zerolinewidth": 2
                    }
                  }
                },
                "title": {
                  "text": "Distribution of Ratings for Bj's Wholesale"
                }
              }
            }
          },
          "metadata": {}
        }
      ],
      "metadata": {
        "colab": {
          "base_uri": "https://localhost:8080/",
          "height": 0
        },
        "id": "QNw7ZtVOR4dd",
        "outputId": "84e9058f-db3e-43fb-bf4a-ad7ded196131"
      }
    },
    {
      "cell_type": "markdown",
      "source": [
        "We used the dataset with only English reviews.\n",
        "Almost half of the reviews are rated as 5 stars.\n",
        "But there are almost 23.5% of the reviews are rated as 1 or 2 stars, which is very low."
      ],
      "metadata": {
        "id": "3MSwCi7cJrev"
      }
    },
    {
      "cell_type": "markdown",
      "source": [
        "### Distribution of star ratings for no text review"
      ],
      "metadata": {
        "id": "ggbLvVbzJrev"
      }
    },
    {
      "cell_type": "code",
      "execution_count": 76,
      "source": [
        "bj_r_notext = bj_r[bj_r.isnull().any(axis=1)]\r\n",
        "\r\n",
        "ratings_notext = bj_r_notext['star rating'].value_counts()\r\n",
        "\r\n",
        "label_rating_notext = ratings_notext.index\r\n",
        "size_rating_notext = ratings_notext.values\r\n",
        "\r\n",
        "colors = ['pink','lightblue','aqua','gold','crimson']\r\n",
        "\r\n",
        "rating_piechart_notext = go.Pie(labels = label_rating_notext, values = size_rating_notext, marker = dict(colors = colors), name = \"Bj's\", hole = 0.3,textfont_size=20)\r\n",
        "\r\n",
        "df_notext = [rating_piechart_notext]\r\n",
        "layout_notext = go.Layout(title=\"Distribution of Ratings for no text reviews\")\r\n",
        "fig_notext = go.Figure(data = df_notext, layout = layout_notext)\r\n",
        "fig_notext"
      ],
      "outputs": [
        {
          "output_type": "display_data",
          "data": {
            "text/html": [
              "<div>                            <div id=\"bf26d9bf-acb0-40fe-abd5-9481a32e49c7\" class=\"plotly-graph-div\" style=\"height:525px; width:100%;\"></div>            <script type=\"text/javascript\">                require([\"plotly\"], function(Plotly) {                    window.PLOTLYENV=window.PLOTLYENV || {};                                    if (document.getElementById(\"bf26d9bf-acb0-40fe-abd5-9481a32e49c7\")) {                    Plotly.newPlot(                        \"bf26d9bf-acb0-40fe-abd5-9481a32e49c7\",                        [{\"hole\": 0.3, \"labels\": [5, 4, 3, 1, 2], \"marker\": {\"colors\": [\"pink\", \"lightblue\", \"aqua\", \"gold\", \"crimson\"]}, \"name\": \"Bj's\", \"textfont\": {\"size\": 20}, \"type\": \"pie\", \"values\": [11564, 5384, 1372, 709, 309]}],                        {\"template\": {\"data\": {\"bar\": [{\"error_x\": {\"color\": \"#2a3f5f\"}, \"error_y\": {\"color\": \"#2a3f5f\"}, \"marker\": {\"line\": {\"color\": \"#E5ECF6\", \"width\": 0.5}}, \"type\": \"bar\"}], \"barpolar\": [{\"marker\": {\"line\": {\"color\": \"#E5ECF6\", \"width\": 0.5}}, \"type\": \"barpolar\"}], \"carpet\": [{\"aaxis\": {\"endlinecolor\": \"#2a3f5f\", \"gridcolor\": \"white\", \"linecolor\": \"white\", \"minorgridcolor\": \"white\", \"startlinecolor\": \"#2a3f5f\"}, \"baxis\": {\"endlinecolor\": \"#2a3f5f\", \"gridcolor\": \"white\", \"linecolor\": \"white\", \"minorgridcolor\": \"white\", \"startlinecolor\": \"#2a3f5f\"}, \"type\": \"carpet\"}], \"choropleth\": [{\"colorbar\": {\"outlinewidth\": 0, \"ticks\": \"\"}, \"type\": \"choropleth\"}], \"contour\": [{\"colorbar\": {\"outlinewidth\": 0, \"ticks\": \"\"}, \"colorscale\": [[0.0, \"#0d0887\"], [0.1111111111111111, \"#46039f\"], [0.2222222222222222, \"#7201a8\"], [0.3333333333333333, \"#9c179e\"], [0.4444444444444444, \"#bd3786\"], [0.5555555555555556, \"#d8576b\"], [0.6666666666666666, \"#ed7953\"], [0.7777777777777778, \"#fb9f3a\"], [0.8888888888888888, \"#fdca26\"], [1.0, \"#f0f921\"]], \"type\": \"contour\"}], \"contourcarpet\": [{\"colorbar\": {\"outlinewidth\": 0, \"ticks\": \"\"}, \"type\": \"contourcarpet\"}], \"heatmap\": [{\"colorbar\": {\"outlinewidth\": 0, \"ticks\": \"\"}, \"colorscale\": [[0.0, \"#0d0887\"], [0.1111111111111111, \"#46039f\"], [0.2222222222222222, \"#7201a8\"], [0.3333333333333333, \"#9c179e\"], [0.4444444444444444, \"#bd3786\"], [0.5555555555555556, \"#d8576b\"], [0.6666666666666666, \"#ed7953\"], [0.7777777777777778, \"#fb9f3a\"], [0.8888888888888888, \"#fdca26\"], [1.0, \"#f0f921\"]], \"type\": \"heatmap\"}], \"heatmapgl\": [{\"colorbar\": {\"outlinewidth\": 0, \"ticks\": \"\"}, \"colorscale\": [[0.0, \"#0d0887\"], [0.1111111111111111, \"#46039f\"], [0.2222222222222222, \"#7201a8\"], [0.3333333333333333, \"#9c179e\"], [0.4444444444444444, \"#bd3786\"], [0.5555555555555556, \"#d8576b\"], [0.6666666666666666, \"#ed7953\"], [0.7777777777777778, \"#fb9f3a\"], [0.8888888888888888, \"#fdca26\"], [1.0, \"#f0f921\"]], \"type\": \"heatmapgl\"}], \"histogram\": [{\"marker\": {\"colorbar\": {\"outlinewidth\": 0, \"ticks\": \"\"}}, \"type\": \"histogram\"}], \"histogram2d\": [{\"colorbar\": {\"outlinewidth\": 0, \"ticks\": \"\"}, \"colorscale\": [[0.0, \"#0d0887\"], [0.1111111111111111, \"#46039f\"], [0.2222222222222222, \"#7201a8\"], [0.3333333333333333, \"#9c179e\"], [0.4444444444444444, \"#bd3786\"], [0.5555555555555556, \"#d8576b\"], [0.6666666666666666, \"#ed7953\"], [0.7777777777777778, \"#fb9f3a\"], [0.8888888888888888, \"#fdca26\"], [1.0, \"#f0f921\"]], \"type\": \"histogram2d\"}], \"histogram2dcontour\": [{\"colorbar\": {\"outlinewidth\": 0, \"ticks\": \"\"}, \"colorscale\": [[0.0, \"#0d0887\"], [0.1111111111111111, \"#46039f\"], [0.2222222222222222, \"#7201a8\"], [0.3333333333333333, \"#9c179e\"], [0.4444444444444444, \"#bd3786\"], [0.5555555555555556, \"#d8576b\"], [0.6666666666666666, \"#ed7953\"], [0.7777777777777778, \"#fb9f3a\"], [0.8888888888888888, \"#fdca26\"], [1.0, \"#f0f921\"]], \"type\": \"histogram2dcontour\"}], \"mesh3d\": [{\"colorbar\": {\"outlinewidth\": 0, \"ticks\": \"\"}, \"type\": \"mesh3d\"}], \"parcoords\": [{\"line\": {\"colorbar\": {\"outlinewidth\": 0, \"ticks\": \"\"}}, \"type\": \"parcoords\"}], \"pie\": [{\"automargin\": true, \"type\": \"pie\"}], \"scatter\": [{\"marker\": {\"colorbar\": {\"outlinewidth\": 0, \"ticks\": \"\"}}, \"type\": \"scatter\"}], \"scatter3d\": [{\"line\": {\"colorbar\": {\"outlinewidth\": 0, \"ticks\": \"\"}}, \"marker\": {\"colorbar\": {\"outlinewidth\": 0, \"ticks\": \"\"}}, \"type\": \"scatter3d\"}], \"scattercarpet\": [{\"marker\": {\"colorbar\": {\"outlinewidth\": 0, \"ticks\": \"\"}}, \"type\": \"scattercarpet\"}], \"scattergeo\": [{\"marker\": {\"colorbar\": {\"outlinewidth\": 0, \"ticks\": \"\"}}, \"type\": \"scattergeo\"}], \"scattergl\": [{\"marker\": {\"colorbar\": {\"outlinewidth\": 0, \"ticks\": \"\"}}, \"type\": \"scattergl\"}], \"scattermapbox\": [{\"marker\": {\"colorbar\": {\"outlinewidth\": 0, \"ticks\": \"\"}}, \"type\": \"scattermapbox\"}], \"scatterpolar\": [{\"marker\": {\"colorbar\": {\"outlinewidth\": 0, \"ticks\": \"\"}}, \"type\": \"scatterpolar\"}], \"scatterpolargl\": [{\"marker\": {\"colorbar\": {\"outlinewidth\": 0, \"ticks\": \"\"}}, \"type\": \"scatterpolargl\"}], \"scatterternary\": [{\"marker\": {\"colorbar\": {\"outlinewidth\": 0, \"ticks\": \"\"}}, \"type\": \"scatterternary\"}], \"surface\": [{\"colorbar\": {\"outlinewidth\": 0, \"ticks\": \"\"}, \"colorscale\": [[0.0, \"#0d0887\"], [0.1111111111111111, \"#46039f\"], [0.2222222222222222, \"#7201a8\"], [0.3333333333333333, \"#9c179e\"], [0.4444444444444444, \"#bd3786\"], [0.5555555555555556, \"#d8576b\"], [0.6666666666666666, \"#ed7953\"], [0.7777777777777778, \"#fb9f3a\"], [0.8888888888888888, \"#fdca26\"], [1.0, \"#f0f921\"]], \"type\": \"surface\"}], \"table\": [{\"cells\": {\"fill\": {\"color\": \"#EBF0F8\"}, \"line\": {\"color\": \"white\"}}, \"header\": {\"fill\": {\"color\": \"#C8D4E3\"}, \"line\": {\"color\": \"white\"}}, \"type\": \"table\"}]}, \"layout\": {\"annotationdefaults\": {\"arrowcolor\": \"#2a3f5f\", \"arrowhead\": 0, \"arrowwidth\": 1}, \"autotypenumbers\": \"strict\", \"coloraxis\": {\"colorbar\": {\"outlinewidth\": 0, \"ticks\": \"\"}}, \"colorscale\": {\"diverging\": [[0, \"#8e0152\"], [0.1, \"#c51b7d\"], [0.2, \"#de77ae\"], [0.3, \"#f1b6da\"], [0.4, \"#fde0ef\"], [0.5, \"#f7f7f7\"], [0.6, \"#e6f5d0\"], [0.7, \"#b8e186\"], [0.8, \"#7fbc41\"], [0.9, \"#4d9221\"], [1, \"#276419\"]], \"sequential\": [[0.0, \"#0d0887\"], [0.1111111111111111, \"#46039f\"], [0.2222222222222222, \"#7201a8\"], [0.3333333333333333, \"#9c179e\"], [0.4444444444444444, \"#bd3786\"], [0.5555555555555556, \"#d8576b\"], [0.6666666666666666, \"#ed7953\"], [0.7777777777777778, \"#fb9f3a\"], [0.8888888888888888, \"#fdca26\"], [1.0, \"#f0f921\"]], \"sequentialminus\": [[0.0, \"#0d0887\"], [0.1111111111111111, \"#46039f\"], [0.2222222222222222, \"#7201a8\"], [0.3333333333333333, \"#9c179e\"], [0.4444444444444444, \"#bd3786\"], [0.5555555555555556, \"#d8576b\"], [0.6666666666666666, \"#ed7953\"], [0.7777777777777778, \"#fb9f3a\"], [0.8888888888888888, \"#fdca26\"], [1.0, \"#f0f921\"]]}, \"colorway\": [\"#636efa\", \"#EF553B\", \"#00cc96\", \"#ab63fa\", \"#FFA15A\", \"#19d3f3\", \"#FF6692\", \"#B6E880\", \"#FF97FF\", \"#FECB52\"], \"font\": {\"color\": \"#2a3f5f\"}, \"geo\": {\"bgcolor\": \"white\", \"lakecolor\": \"white\", \"landcolor\": \"#E5ECF6\", \"showlakes\": true, \"showland\": true, \"subunitcolor\": \"white\"}, \"hoverlabel\": {\"align\": \"left\"}, \"hovermode\": \"closest\", \"mapbox\": {\"style\": \"light\"}, \"paper_bgcolor\": \"white\", \"plot_bgcolor\": \"#E5ECF6\", \"polar\": {\"angularaxis\": {\"gridcolor\": \"white\", \"linecolor\": \"white\", \"ticks\": \"\"}, \"bgcolor\": \"#E5ECF6\", \"radialaxis\": {\"gridcolor\": \"white\", \"linecolor\": \"white\", \"ticks\": \"\"}}, \"scene\": {\"xaxis\": {\"backgroundcolor\": \"#E5ECF6\", \"gridcolor\": \"white\", \"gridwidth\": 2, \"linecolor\": \"white\", \"showbackground\": true, \"ticks\": \"\", \"zerolinecolor\": \"white\"}, \"yaxis\": {\"backgroundcolor\": \"#E5ECF6\", \"gridcolor\": \"white\", \"gridwidth\": 2, \"linecolor\": \"white\", \"showbackground\": true, \"ticks\": \"\", \"zerolinecolor\": \"white\"}, \"zaxis\": {\"backgroundcolor\": \"#E5ECF6\", \"gridcolor\": \"white\", \"gridwidth\": 2, \"linecolor\": \"white\", \"showbackground\": true, \"ticks\": \"\", \"zerolinecolor\": \"white\"}}, \"shapedefaults\": {\"line\": {\"color\": \"#2a3f5f\"}}, \"ternary\": {\"aaxis\": {\"gridcolor\": \"white\", \"linecolor\": \"white\", \"ticks\": \"\"}, \"baxis\": {\"gridcolor\": \"white\", \"linecolor\": \"white\", \"ticks\": \"\"}, \"bgcolor\": \"#E5ECF6\", \"caxis\": {\"gridcolor\": \"white\", \"linecolor\": \"white\", \"ticks\": \"\"}}, \"title\": {\"x\": 0.05}, \"xaxis\": {\"automargin\": true, \"gridcolor\": \"white\", \"linecolor\": \"white\", \"ticks\": \"\", \"title\": {\"standoff\": 15}, \"zerolinecolor\": \"white\", \"zerolinewidth\": 2}, \"yaxis\": {\"automargin\": true, \"gridcolor\": \"white\", \"linecolor\": \"white\", \"ticks\": \"\", \"title\": {\"standoff\": 15}, \"zerolinecolor\": \"white\", \"zerolinewidth\": 2}}}, \"title\": {\"text\": \"Distribution of Ratings for no text reviews\"}},                        {\"responsive\": true}                    ).then(function(){\n",
              "                            \n",
              "var gd = document.getElementById('bf26d9bf-acb0-40fe-abd5-9481a32e49c7');\n",
              "var x = new MutationObserver(function (mutations, observer) {{\n",
              "        var display = window.getComputedStyle(gd).display;\n",
              "        if (!display || display === 'none') {{\n",
              "            console.log([gd, 'removed!']);\n",
              "            Plotly.purge(gd);\n",
              "            observer.disconnect();\n",
              "        }}\n",
              "}});\n",
              "\n",
              "// Listen for the removal of the full notebook cells\n",
              "var notebookContainer = gd.closest('#notebook-container');\n",
              "if (notebookContainer) {{\n",
              "    x.observe(notebookContainer, {childList: true});\n",
              "}}\n",
              "\n",
              "// Listen for the clearing of the current output cell\n",
              "var outputEl = gd.closest('.output');\n",
              "if (outputEl) {{\n",
              "    x.observe(outputEl, {childList: true});\n",
              "}}\n",
              "\n",
              "                        })                };                });            </script>        </div>"
            ],
            "application/vnd.plotly.v1+json": {
              "config": {
                "plotlyServerURL": "https://plot.ly"
              },
              "data": [
                {
                  "hole": 0.3,
                  "labels": [
                    5,
                    4,
                    3,
                    1,
                    2
                  ],
                  "marker": {
                    "colors": [
                      "pink",
                      "lightblue",
                      "aqua",
                      "gold",
                      "crimson"
                    ]
                  },
                  "name": "Bj's",
                  "textfont": {
                    "size": 20
                  },
                  "type": "pie",
                  "values": [
                    11564,
                    5384,
                    1372,
                    709,
                    309
                  ]
                }
              ],
              "layout": {
                "template": {
                  "data": {
                    "bar": [
                      {
                        "error_x": {
                          "color": "#2a3f5f"
                        },
                        "error_y": {
                          "color": "#2a3f5f"
                        },
                        "marker": {
                          "line": {
                            "color": "#E5ECF6",
                            "width": 0.5
                          }
                        },
                        "type": "bar"
                      }
                    ],
                    "barpolar": [
                      {
                        "marker": {
                          "line": {
                            "color": "#E5ECF6",
                            "width": 0.5
                          }
                        },
                        "type": "barpolar"
                      }
                    ],
                    "carpet": [
                      {
                        "aaxis": {
                          "endlinecolor": "#2a3f5f",
                          "gridcolor": "white",
                          "linecolor": "white",
                          "minorgridcolor": "white",
                          "startlinecolor": "#2a3f5f"
                        },
                        "baxis": {
                          "endlinecolor": "#2a3f5f",
                          "gridcolor": "white",
                          "linecolor": "white",
                          "minorgridcolor": "white",
                          "startlinecolor": "#2a3f5f"
                        },
                        "type": "carpet"
                      }
                    ],
                    "choropleth": [
                      {
                        "colorbar": {
                          "outlinewidth": 0,
                          "ticks": ""
                        },
                        "type": "choropleth"
                      }
                    ],
                    "contour": [
                      {
                        "colorbar": {
                          "outlinewidth": 0,
                          "ticks": ""
                        },
                        "colorscale": [
                          [
                            0,
                            "#0d0887"
                          ],
                          [
                            0.1111111111111111,
                            "#46039f"
                          ],
                          [
                            0.2222222222222222,
                            "#7201a8"
                          ],
                          [
                            0.3333333333333333,
                            "#9c179e"
                          ],
                          [
                            0.4444444444444444,
                            "#bd3786"
                          ],
                          [
                            0.5555555555555556,
                            "#d8576b"
                          ],
                          [
                            0.6666666666666666,
                            "#ed7953"
                          ],
                          [
                            0.7777777777777778,
                            "#fb9f3a"
                          ],
                          [
                            0.8888888888888888,
                            "#fdca26"
                          ],
                          [
                            1,
                            "#f0f921"
                          ]
                        ],
                        "type": "contour"
                      }
                    ],
                    "contourcarpet": [
                      {
                        "colorbar": {
                          "outlinewidth": 0,
                          "ticks": ""
                        },
                        "type": "contourcarpet"
                      }
                    ],
                    "heatmap": [
                      {
                        "colorbar": {
                          "outlinewidth": 0,
                          "ticks": ""
                        },
                        "colorscale": [
                          [
                            0,
                            "#0d0887"
                          ],
                          [
                            0.1111111111111111,
                            "#46039f"
                          ],
                          [
                            0.2222222222222222,
                            "#7201a8"
                          ],
                          [
                            0.3333333333333333,
                            "#9c179e"
                          ],
                          [
                            0.4444444444444444,
                            "#bd3786"
                          ],
                          [
                            0.5555555555555556,
                            "#d8576b"
                          ],
                          [
                            0.6666666666666666,
                            "#ed7953"
                          ],
                          [
                            0.7777777777777778,
                            "#fb9f3a"
                          ],
                          [
                            0.8888888888888888,
                            "#fdca26"
                          ],
                          [
                            1,
                            "#f0f921"
                          ]
                        ],
                        "type": "heatmap"
                      }
                    ],
                    "heatmapgl": [
                      {
                        "colorbar": {
                          "outlinewidth": 0,
                          "ticks": ""
                        },
                        "colorscale": [
                          [
                            0,
                            "#0d0887"
                          ],
                          [
                            0.1111111111111111,
                            "#46039f"
                          ],
                          [
                            0.2222222222222222,
                            "#7201a8"
                          ],
                          [
                            0.3333333333333333,
                            "#9c179e"
                          ],
                          [
                            0.4444444444444444,
                            "#bd3786"
                          ],
                          [
                            0.5555555555555556,
                            "#d8576b"
                          ],
                          [
                            0.6666666666666666,
                            "#ed7953"
                          ],
                          [
                            0.7777777777777778,
                            "#fb9f3a"
                          ],
                          [
                            0.8888888888888888,
                            "#fdca26"
                          ],
                          [
                            1,
                            "#f0f921"
                          ]
                        ],
                        "type": "heatmapgl"
                      }
                    ],
                    "histogram": [
                      {
                        "marker": {
                          "colorbar": {
                            "outlinewidth": 0,
                            "ticks": ""
                          }
                        },
                        "type": "histogram"
                      }
                    ],
                    "histogram2d": [
                      {
                        "colorbar": {
                          "outlinewidth": 0,
                          "ticks": ""
                        },
                        "colorscale": [
                          [
                            0,
                            "#0d0887"
                          ],
                          [
                            0.1111111111111111,
                            "#46039f"
                          ],
                          [
                            0.2222222222222222,
                            "#7201a8"
                          ],
                          [
                            0.3333333333333333,
                            "#9c179e"
                          ],
                          [
                            0.4444444444444444,
                            "#bd3786"
                          ],
                          [
                            0.5555555555555556,
                            "#d8576b"
                          ],
                          [
                            0.6666666666666666,
                            "#ed7953"
                          ],
                          [
                            0.7777777777777778,
                            "#fb9f3a"
                          ],
                          [
                            0.8888888888888888,
                            "#fdca26"
                          ],
                          [
                            1,
                            "#f0f921"
                          ]
                        ],
                        "type": "histogram2d"
                      }
                    ],
                    "histogram2dcontour": [
                      {
                        "colorbar": {
                          "outlinewidth": 0,
                          "ticks": ""
                        },
                        "colorscale": [
                          [
                            0,
                            "#0d0887"
                          ],
                          [
                            0.1111111111111111,
                            "#46039f"
                          ],
                          [
                            0.2222222222222222,
                            "#7201a8"
                          ],
                          [
                            0.3333333333333333,
                            "#9c179e"
                          ],
                          [
                            0.4444444444444444,
                            "#bd3786"
                          ],
                          [
                            0.5555555555555556,
                            "#d8576b"
                          ],
                          [
                            0.6666666666666666,
                            "#ed7953"
                          ],
                          [
                            0.7777777777777778,
                            "#fb9f3a"
                          ],
                          [
                            0.8888888888888888,
                            "#fdca26"
                          ],
                          [
                            1,
                            "#f0f921"
                          ]
                        ],
                        "type": "histogram2dcontour"
                      }
                    ],
                    "mesh3d": [
                      {
                        "colorbar": {
                          "outlinewidth": 0,
                          "ticks": ""
                        },
                        "type": "mesh3d"
                      }
                    ],
                    "parcoords": [
                      {
                        "line": {
                          "colorbar": {
                            "outlinewidth": 0,
                            "ticks": ""
                          }
                        },
                        "type": "parcoords"
                      }
                    ],
                    "pie": [
                      {
                        "automargin": true,
                        "type": "pie"
                      }
                    ],
                    "scatter": [
                      {
                        "marker": {
                          "colorbar": {
                            "outlinewidth": 0,
                            "ticks": ""
                          }
                        },
                        "type": "scatter"
                      }
                    ],
                    "scatter3d": [
                      {
                        "line": {
                          "colorbar": {
                            "outlinewidth": 0,
                            "ticks": ""
                          }
                        },
                        "marker": {
                          "colorbar": {
                            "outlinewidth": 0,
                            "ticks": ""
                          }
                        },
                        "type": "scatter3d"
                      }
                    ],
                    "scattercarpet": [
                      {
                        "marker": {
                          "colorbar": {
                            "outlinewidth": 0,
                            "ticks": ""
                          }
                        },
                        "type": "scattercarpet"
                      }
                    ],
                    "scattergeo": [
                      {
                        "marker": {
                          "colorbar": {
                            "outlinewidth": 0,
                            "ticks": ""
                          }
                        },
                        "type": "scattergeo"
                      }
                    ],
                    "scattergl": [
                      {
                        "marker": {
                          "colorbar": {
                            "outlinewidth": 0,
                            "ticks": ""
                          }
                        },
                        "type": "scattergl"
                      }
                    ],
                    "scattermapbox": [
                      {
                        "marker": {
                          "colorbar": {
                            "outlinewidth": 0,
                            "ticks": ""
                          }
                        },
                        "type": "scattermapbox"
                      }
                    ],
                    "scatterpolar": [
                      {
                        "marker": {
                          "colorbar": {
                            "outlinewidth": 0,
                            "ticks": ""
                          }
                        },
                        "type": "scatterpolar"
                      }
                    ],
                    "scatterpolargl": [
                      {
                        "marker": {
                          "colorbar": {
                            "outlinewidth": 0,
                            "ticks": ""
                          }
                        },
                        "type": "scatterpolargl"
                      }
                    ],
                    "scatterternary": [
                      {
                        "marker": {
                          "colorbar": {
                            "outlinewidth": 0,
                            "ticks": ""
                          }
                        },
                        "type": "scatterternary"
                      }
                    ],
                    "surface": [
                      {
                        "colorbar": {
                          "outlinewidth": 0,
                          "ticks": ""
                        },
                        "colorscale": [
                          [
                            0,
                            "#0d0887"
                          ],
                          [
                            0.1111111111111111,
                            "#46039f"
                          ],
                          [
                            0.2222222222222222,
                            "#7201a8"
                          ],
                          [
                            0.3333333333333333,
                            "#9c179e"
                          ],
                          [
                            0.4444444444444444,
                            "#bd3786"
                          ],
                          [
                            0.5555555555555556,
                            "#d8576b"
                          ],
                          [
                            0.6666666666666666,
                            "#ed7953"
                          ],
                          [
                            0.7777777777777778,
                            "#fb9f3a"
                          ],
                          [
                            0.8888888888888888,
                            "#fdca26"
                          ],
                          [
                            1,
                            "#f0f921"
                          ]
                        ],
                        "type": "surface"
                      }
                    ],
                    "table": [
                      {
                        "cells": {
                          "fill": {
                            "color": "#EBF0F8"
                          },
                          "line": {
                            "color": "white"
                          }
                        },
                        "header": {
                          "fill": {
                            "color": "#C8D4E3"
                          },
                          "line": {
                            "color": "white"
                          }
                        },
                        "type": "table"
                      }
                    ]
                  },
                  "layout": {
                    "annotationdefaults": {
                      "arrowcolor": "#2a3f5f",
                      "arrowhead": 0,
                      "arrowwidth": 1
                    },
                    "autotypenumbers": "strict",
                    "coloraxis": {
                      "colorbar": {
                        "outlinewidth": 0,
                        "ticks": ""
                      }
                    },
                    "colorscale": {
                      "diverging": [
                        [
                          0,
                          "#8e0152"
                        ],
                        [
                          0.1,
                          "#c51b7d"
                        ],
                        [
                          0.2,
                          "#de77ae"
                        ],
                        [
                          0.3,
                          "#f1b6da"
                        ],
                        [
                          0.4,
                          "#fde0ef"
                        ],
                        [
                          0.5,
                          "#f7f7f7"
                        ],
                        [
                          0.6,
                          "#e6f5d0"
                        ],
                        [
                          0.7,
                          "#b8e186"
                        ],
                        [
                          0.8,
                          "#7fbc41"
                        ],
                        [
                          0.9,
                          "#4d9221"
                        ],
                        [
                          1,
                          "#276419"
                        ]
                      ],
                      "sequential": [
                        [
                          0,
                          "#0d0887"
                        ],
                        [
                          0.1111111111111111,
                          "#46039f"
                        ],
                        [
                          0.2222222222222222,
                          "#7201a8"
                        ],
                        [
                          0.3333333333333333,
                          "#9c179e"
                        ],
                        [
                          0.4444444444444444,
                          "#bd3786"
                        ],
                        [
                          0.5555555555555556,
                          "#d8576b"
                        ],
                        [
                          0.6666666666666666,
                          "#ed7953"
                        ],
                        [
                          0.7777777777777778,
                          "#fb9f3a"
                        ],
                        [
                          0.8888888888888888,
                          "#fdca26"
                        ],
                        [
                          1,
                          "#f0f921"
                        ]
                      ],
                      "sequentialminus": [
                        [
                          0,
                          "#0d0887"
                        ],
                        [
                          0.1111111111111111,
                          "#46039f"
                        ],
                        [
                          0.2222222222222222,
                          "#7201a8"
                        ],
                        [
                          0.3333333333333333,
                          "#9c179e"
                        ],
                        [
                          0.4444444444444444,
                          "#bd3786"
                        ],
                        [
                          0.5555555555555556,
                          "#d8576b"
                        ],
                        [
                          0.6666666666666666,
                          "#ed7953"
                        ],
                        [
                          0.7777777777777778,
                          "#fb9f3a"
                        ],
                        [
                          0.8888888888888888,
                          "#fdca26"
                        ],
                        [
                          1,
                          "#f0f921"
                        ]
                      ]
                    },
                    "colorway": [
                      "#636efa",
                      "#EF553B",
                      "#00cc96",
                      "#ab63fa",
                      "#FFA15A",
                      "#19d3f3",
                      "#FF6692",
                      "#B6E880",
                      "#FF97FF",
                      "#FECB52"
                    ],
                    "font": {
                      "color": "#2a3f5f"
                    },
                    "geo": {
                      "bgcolor": "white",
                      "lakecolor": "white",
                      "landcolor": "#E5ECF6",
                      "showlakes": true,
                      "showland": true,
                      "subunitcolor": "white"
                    },
                    "hoverlabel": {
                      "align": "left"
                    },
                    "hovermode": "closest",
                    "mapbox": {
                      "style": "light"
                    },
                    "paper_bgcolor": "white",
                    "plot_bgcolor": "#E5ECF6",
                    "polar": {
                      "angularaxis": {
                        "gridcolor": "white",
                        "linecolor": "white",
                        "ticks": ""
                      },
                      "bgcolor": "#E5ECF6",
                      "radialaxis": {
                        "gridcolor": "white",
                        "linecolor": "white",
                        "ticks": ""
                      }
                    },
                    "scene": {
                      "xaxis": {
                        "backgroundcolor": "#E5ECF6",
                        "gridcolor": "white",
                        "gridwidth": 2,
                        "linecolor": "white",
                        "showbackground": true,
                        "ticks": "",
                        "zerolinecolor": "white"
                      },
                      "yaxis": {
                        "backgroundcolor": "#E5ECF6",
                        "gridcolor": "white",
                        "gridwidth": 2,
                        "linecolor": "white",
                        "showbackground": true,
                        "ticks": "",
                        "zerolinecolor": "white"
                      },
                      "zaxis": {
                        "backgroundcolor": "#E5ECF6",
                        "gridcolor": "white",
                        "gridwidth": 2,
                        "linecolor": "white",
                        "showbackground": true,
                        "ticks": "",
                        "zerolinecolor": "white"
                      }
                    },
                    "shapedefaults": {
                      "line": {
                        "color": "#2a3f5f"
                      }
                    },
                    "ternary": {
                      "aaxis": {
                        "gridcolor": "white",
                        "linecolor": "white",
                        "ticks": ""
                      },
                      "baxis": {
                        "gridcolor": "white",
                        "linecolor": "white",
                        "ticks": ""
                      },
                      "bgcolor": "#E5ECF6",
                      "caxis": {
                        "gridcolor": "white",
                        "linecolor": "white",
                        "ticks": ""
                      }
                    },
                    "title": {
                      "x": 0.05
                    },
                    "xaxis": {
                      "automargin": true,
                      "gridcolor": "white",
                      "linecolor": "white",
                      "ticks": "",
                      "title": {
                        "standoff": 15
                      },
                      "zerolinecolor": "white",
                      "zerolinewidth": 2
                    },
                    "yaxis": {
                      "automargin": true,
                      "gridcolor": "white",
                      "linecolor": "white",
                      "ticks": "",
                      "title": {
                        "standoff": 15
                      },
                      "zerolinecolor": "white",
                      "zerolinewidth": 2
                    }
                  }
                },
                "title": {
                  "text": "Distribution of Ratings for no text reviews"
                }
              }
            }
          },
          "metadata": {}
        }
      ],
      "metadata": {
        "colab": {
          "base_uri": "https://localhost:8080/",
          "height": 0
        },
        "id": "AcauEK2QJrev",
        "outputId": "a84d97e8-a4f5-4e5b-f65f-93f53d014e14"
      }
    },
    {
      "cell_type": "markdown",
      "source": [
        "We checked on the data with only star ratings (no text).\n",
        "Most of the ratings are high, with more than half of them rated as 5 stars.\n",
        "The low star ratings don't exceed 10%.\n",
        "We can suggest that those customers who do not leave any text reviews are more intended to leave high star ratings."
      ],
      "metadata": {
        "id": "iocDJ-lXJrew"
      }
    },
    {
      "cell_type": "markdown",
      "source": [
        "### Overall star ratings overtime "
      ],
      "metadata": {
        "id": "Ia3ml_VmJrew"
      }
    },
    {
      "cell_type": "code",
      "execution_count": 77,
      "source": [
        "bj_r_text_eng['date'] = pd.to_datetime(bj_r_text_eng['date'])"
      ],
      "outputs": [],
      "metadata": {
        "id": "b6DykQ8KJrew"
      }
    },
    {
      "cell_type": "code",
      "execution_count": 78,
      "source": [
        "bj_r_text_eng.head()"
      ],
      "outputs": [
        {
          "output_type": "execute_result",
          "data": {
            "text/plain": [
              "   star rating               name  \\\n",
              "0            5      XxbluewølfX x   \n",
              "1            4      Biswanath Roy   \n",
              "2            1           Amy Rose   \n",
              "3            1  Sabina Lamichhane   \n",
              "4            1         Donnie L.S   \n",
              "\n",
              "                                              review       date  \\\n",
              "0  Eric has great customer service. He told me to... 2021-03-01   \n",
              "1  Not ample stock compare to other stores. Other... 2020-10-01   \n",
              "2  This location has been my reliable go-to for m... 2021-02-01   \n",
              "3  I place a online pick up order to save some ti... 2021-02-01   \n",
              "4  Do something!!!\\r\\nmake a self checkout line o... 2021-02-01   \n",
              "\n",
              "   location_code  dif_lang  \n",
              "0              1        -1  \n",
              "1              1        -1  \n",
              "2              1        -1  \n",
              "3              1        -1  \n",
              "4              1        -1  "
            ],
            "text/html": [
              "<div>\n",
              "<style scoped>\n",
              "    .dataframe tbody tr th:only-of-type {\n",
              "        vertical-align: middle;\n",
              "    }\n",
              "\n",
              "    .dataframe tbody tr th {\n",
              "        vertical-align: top;\n",
              "    }\n",
              "\n",
              "    .dataframe thead th {\n",
              "        text-align: right;\n",
              "    }\n",
              "</style>\n",
              "<table border=\"1\" class=\"dataframe\">\n",
              "  <thead>\n",
              "    <tr style=\"text-align: right;\">\n",
              "      <th></th>\n",
              "      <th>star rating</th>\n",
              "      <th>name</th>\n",
              "      <th>review</th>\n",
              "      <th>date</th>\n",
              "      <th>location_code</th>\n",
              "      <th>dif_lang</th>\n",
              "    </tr>\n",
              "  </thead>\n",
              "  <tbody>\n",
              "    <tr>\n",
              "      <th>0</th>\n",
              "      <td>5</td>\n",
              "      <td>XxbluewølfX x</td>\n",
              "      <td>Eric has great customer service. He told me to...</td>\n",
              "      <td>2021-03-01</td>\n",
              "      <td>1</td>\n",
              "      <td>-1</td>\n",
              "    </tr>\n",
              "    <tr>\n",
              "      <th>1</th>\n",
              "      <td>4</td>\n",
              "      <td>Biswanath Roy</td>\n",
              "      <td>Not ample stock compare to other stores. Other...</td>\n",
              "      <td>2020-10-01</td>\n",
              "      <td>1</td>\n",
              "      <td>-1</td>\n",
              "    </tr>\n",
              "    <tr>\n",
              "      <th>2</th>\n",
              "      <td>1</td>\n",
              "      <td>Amy Rose</td>\n",
              "      <td>This location has been my reliable go-to for m...</td>\n",
              "      <td>2021-02-01</td>\n",
              "      <td>1</td>\n",
              "      <td>-1</td>\n",
              "    </tr>\n",
              "    <tr>\n",
              "      <th>3</th>\n",
              "      <td>1</td>\n",
              "      <td>Sabina Lamichhane</td>\n",
              "      <td>I place a online pick up order to save some ti...</td>\n",
              "      <td>2021-02-01</td>\n",
              "      <td>1</td>\n",
              "      <td>-1</td>\n",
              "    </tr>\n",
              "    <tr>\n",
              "      <th>4</th>\n",
              "      <td>1</td>\n",
              "      <td>Donnie L.S</td>\n",
              "      <td>Do something!!!\\r\\nmake a self checkout line o...</td>\n",
              "      <td>2021-02-01</td>\n",
              "      <td>1</td>\n",
              "      <td>-1</td>\n",
              "    </tr>\n",
              "  </tbody>\n",
              "</table>\n",
              "</div>"
            ]
          },
          "metadata": {},
          "execution_count": 78
        }
      ],
      "metadata": {
        "colab": {
          "base_uri": "https://localhost:8080/",
          "height": 0
        },
        "id": "LdVBI4SJJrew",
        "outputId": "88446d04-a9cc-408d-98da-971e3ec293ad"
      }
    },
    {
      "cell_type": "code",
      "execution_count": 79,
      "source": [
        "reviews_groupby_date = bj_r_text_eng.groupby(['date'])['star rating'].mean()\r\n",
        "reviews_groupby_date = pd.DataFrame(data = reviews_groupby_date)\r\n",
        "reviews_groupby_date.reset_index(inplace=True)\r\n",
        "\r\n",
        "reviews_groupby_date= reviews_groupby_date[0:9]\r\n",
        "reviews_groupby_date"
      ],
      "outputs": [
        {
          "output_type": "execute_result",
          "data": {
            "text/plain": [
              "        date  star rating\n",
              "0 2011-01-01     3.111111\n",
              "1 2012-01-01     3.941176\n",
              "2 2013-01-01     3.644737\n",
              "3 2014-01-01     3.450450\n",
              "4 2015-01-01     3.603175\n",
              "5 2016-01-01     3.889581\n",
              "6 2017-01-01     3.759417\n",
              "7 2018-01-01     4.115481\n",
              "8 2019-01-01     3.646780"
            ],
            "text/html": [
              "<div>\n",
              "<style scoped>\n",
              "    .dataframe tbody tr th:only-of-type {\n",
              "        vertical-align: middle;\n",
              "    }\n",
              "\n",
              "    .dataframe tbody tr th {\n",
              "        vertical-align: top;\n",
              "    }\n",
              "\n",
              "    .dataframe thead th {\n",
              "        text-align: right;\n",
              "    }\n",
              "</style>\n",
              "<table border=\"1\" class=\"dataframe\">\n",
              "  <thead>\n",
              "    <tr style=\"text-align: right;\">\n",
              "      <th></th>\n",
              "      <th>date</th>\n",
              "      <th>star rating</th>\n",
              "    </tr>\n",
              "  </thead>\n",
              "  <tbody>\n",
              "    <tr>\n",
              "      <th>0</th>\n",
              "      <td>2011-01-01</td>\n",
              "      <td>3.111111</td>\n",
              "    </tr>\n",
              "    <tr>\n",
              "      <th>1</th>\n",
              "      <td>2012-01-01</td>\n",
              "      <td>3.941176</td>\n",
              "    </tr>\n",
              "    <tr>\n",
              "      <th>2</th>\n",
              "      <td>2013-01-01</td>\n",
              "      <td>3.644737</td>\n",
              "    </tr>\n",
              "    <tr>\n",
              "      <th>3</th>\n",
              "      <td>2014-01-01</td>\n",
              "      <td>3.450450</td>\n",
              "    </tr>\n",
              "    <tr>\n",
              "      <th>4</th>\n",
              "      <td>2015-01-01</td>\n",
              "      <td>3.603175</td>\n",
              "    </tr>\n",
              "    <tr>\n",
              "      <th>5</th>\n",
              "      <td>2016-01-01</td>\n",
              "      <td>3.889581</td>\n",
              "    </tr>\n",
              "    <tr>\n",
              "      <th>6</th>\n",
              "      <td>2017-01-01</td>\n",
              "      <td>3.759417</td>\n",
              "    </tr>\n",
              "    <tr>\n",
              "      <th>7</th>\n",
              "      <td>2018-01-01</td>\n",
              "      <td>4.115481</td>\n",
              "    </tr>\n",
              "    <tr>\n",
              "      <th>8</th>\n",
              "      <td>2019-01-01</td>\n",
              "      <td>3.646780</td>\n",
              "    </tr>\n",
              "  </tbody>\n",
              "</table>\n",
              "</div>"
            ]
          },
          "metadata": {},
          "execution_count": 79
        }
      ],
      "metadata": {
        "colab": {
          "base_uri": "https://localhost:8080/",
          "height": 0
        },
        "id": "XAQFvTiUJrex",
        "outputId": "b7ae7c90-9589-47a1-f1dc-068c3d69f7c0"
      }
    },
    {
      "cell_type": "code",
      "execution_count": 80,
      "source": [
        "bj_r_text_eng['date'] = pd.to_datetime(bj_r_text_eng['date'])\r\n",
        "bj_r_text_eng['year'] = bj_r_text_eng['date'].dt.year\r\n",
        "#sorted_reviews = reviews_groupby_date.sort_values('date',ascending=False)\r\n",
        "#date_unique = bj_r_text_eng['date'].unique()\r\n",
        "reviews_groupby_date = bj_r_text_eng.groupby(['year'])['star rating'].mean()\r\n",
        "reviews_groupby_date = pd.DataFrame(data = reviews_groupby_date)\r\n",
        "reviews_groupby_date.reset_index(inplace=True)\r\n",
        "reviews_groupby_date= reviews_groupby_date[0:8]\r\n",
        "fig1 = plt.figure(figsize=(10,6))\r\n",
        "\r\n",
        "ax1 = fig1.add_axes([0,0,1,1])\r\n",
        "\r\n",
        "ax1.set_title('Overall star ratings overtime - English Text reviews')\r\n",
        "\r\n",
        "ax1.plot(reviews_groupby_date['year'],reviews_groupby_date['star rating'],color='green')\r\n",
        "ax1.set_ylim([2.8, 4.5])\r\n",
        "plt.rc('font', size= 10)\r\n",
        "plt.show()"
      ],
      "outputs": [
        {
          "output_type": "display_data",
          "data": {
            "text/plain": [
              "<Figure size 720x432 with 1 Axes>"
            ],
            "image/png": "[encoded data removed]"
          },
          "metadata": {
            "needs_background": "light"
          }
        }
      ],
      "metadata": {
        "colab": {
          "base_uri": "https://localhost:8080/",
          "height": 0
        },
        "id": "En6BPFX9Jrex",
        "outputId": "a73f1640-cc7b-4789-80fa-8d642c010a4d"
      }
    },
    {
      "cell_type": "code",
      "execution_count": 81,
      "source": [
        "# same graph as above just with all reviews, text and star onyl\r\n",
        "\r\n",
        "bj_r['date'] = pd.to_datetime(bj_r['date'])\r\n",
        "bj_r['year'] = bj_r['date'].dt.year\r\n",
        "all_reviews_groupby_date = bj_r.groupby(['year'])['star rating'].mean()\r\n",
        "all_reviews_groupby_date = pd.DataFrame(data = all_reviews_groupby_date)\r\n",
        "\r\n",
        "#all_reviews_groupby_date.groupby(all_reviews_groupby_date['date'].map(lambda x: x.year))\r\n",
        "all_reviews_groupby_date.reset_index(inplace=True)\r\n",
        "all_reviews_groupby_date= all_reviews_groupby_date[0:8]\r\n",
        "#date_unique = bj_r['date'].unique()\r\n",
        "\r\n",
        "fig1 = plt.figure(figsize=(10,6))\r\n",
        "\r\n",
        "ax1 = fig1.add_axes([0,0,1,1])\r\n",
        "\r\n",
        "ax1.set_title('Overall star ratings overtime')\r\n",
        "ax1.plot(all_reviews_groupby_date['year'],all_reviews_groupby_date['star rating'],color='blue')\r\n",
        "ax1.set_ylim([2.8, 4.5])\r\n",
        "\r\n",
        "plt.show()"
      ],
      "outputs": [
        {
          "output_type": "display_data",
          "data": {
            "text/plain": [
              "<Figure size 720x432 with 1 Axes>"
            ],
            "image/png": "[encoded data removed]"
          },
          "metadata": {
            "needs_background": "light"
          }
        }
      ],
      "metadata": {
        "colab": {
          "base_uri": "https://localhost:8080/",
          "height": 0
        },
        "id": "O88gfJd-c2_R",
        "outputId": "1697b8d6-a13b-49bb-c28d-9eefdb5849d8"
      }
    },
    {
      "cell_type": "code",
      "execution_count": 82,
      "source": [
        "bj_r_notext['date'] = pd.to_datetime(bj_r_notext['date'])\r\n",
        "bj_r_notext['year'] = bj_r_notext['date'].dt.year\r\n",
        "star_only_reviews_groupby_date = bj_r_notext.groupby(['year'])['star rating'].mean()\r\n",
        "star_only_reviews_groupby_date = pd.DataFrame(data = star_only_reviews_groupby_date)\r\n",
        "\r\n",
        "#all_reviews_groupby_date.groupby(all_reviews_groupby_date['date'].map(lambda x: x.year))\r\n",
        "star_only_reviews_groupby_date.reset_index(inplace=True)\r\n",
        "star_only_reviews_groupby_date= star_only_reviews_groupby_date[0:8]\r\n",
        "star_only_reviews_groupby_date"
      ],
      "outputs": [
        {
          "output_type": "execute_result",
          "data": {
            "text/plain": [
              "   year  star rating\n",
              "0  2011     4.214286\n",
              "1  2012     4.085714\n",
              "2  2013     4.270270\n",
              "3  2014     4.225352\n",
              "4  2015     4.372093\n",
              "5  2016     4.294333\n",
              "6  2017     4.308475\n",
              "7  2018     4.411063"
            ],
            "text/html": [
              "<div>\n",
              "<style scoped>\n",
              "    .dataframe tbody tr th:only-of-type {\n",
              "        vertical-align: middle;\n",
              "    }\n",
              "\n",
              "    .dataframe tbody tr th {\n",
              "        vertical-align: top;\n",
              "    }\n",
              "\n",
              "    .dataframe thead th {\n",
              "        text-align: right;\n",
              "    }\n",
              "</style>\n",
              "<table border=\"1\" class=\"dataframe\">\n",
              "  <thead>\n",
              "    <tr style=\"text-align: right;\">\n",
              "      <th></th>\n",
              "      <th>year</th>\n",
              "      <th>star rating</th>\n",
              "    </tr>\n",
              "  </thead>\n",
              "  <tbody>\n",
              "    <tr>\n",
              "      <th>0</th>\n",
              "      <td>2011</td>\n",
              "      <td>4.214286</td>\n",
              "    </tr>\n",
              "    <tr>\n",
              "      <th>1</th>\n",
              "      <td>2012</td>\n",
              "      <td>4.085714</td>\n",
              "    </tr>\n",
              "    <tr>\n",
              "      <th>2</th>\n",
              "      <td>2013</td>\n",
              "      <td>4.270270</td>\n",
              "    </tr>\n",
              "    <tr>\n",
              "      <th>3</th>\n",
              "      <td>2014</td>\n",
              "      <td>4.225352</td>\n",
              "    </tr>\n",
              "    <tr>\n",
              "      <th>4</th>\n",
              "      <td>2015</td>\n",
              "      <td>4.372093</td>\n",
              "    </tr>\n",
              "    <tr>\n",
              "      <th>5</th>\n",
              "      <td>2016</td>\n",
              "      <td>4.294333</td>\n",
              "    </tr>\n",
              "    <tr>\n",
              "      <th>6</th>\n",
              "      <td>2017</td>\n",
              "      <td>4.308475</td>\n",
              "    </tr>\n",
              "    <tr>\n",
              "      <th>7</th>\n",
              "      <td>2018</td>\n",
              "      <td>4.411063</td>\n",
              "    </tr>\n",
              "  </tbody>\n",
              "</table>\n",
              "</div>"
            ]
          },
          "metadata": {},
          "execution_count": 82
        }
      ],
      "metadata": {
        "colab": {
          "base_uri": "https://localhost:8080/",
          "height": 0
        },
        "id": "TNBJ5yA5YKHi",
        "outputId": "0eefc99d-73f7-4832-f0f7-755f27b22ce8"
      }
    },
    {
      "cell_type": "markdown",
      "source": [
        "Reviews over time compared"
      ],
      "metadata": {}
    },
    {
      "cell_type": "code",
      "execution_count": 83,
      "source": [
        "# same graph as above just with all reviews, text and star onyl\r\n",
        "\r\n",
        "bj_r['date'] = pd.to_datetime(bj_r['date'])\r\n",
        "bj_r['year'] = bj_r['date'].dt.year\r\n",
        "all_reviews_groupby_date = bj_r.groupby(['year'])['star rating'].mean()\r\n",
        "all_reviews_groupby_date = pd.DataFrame(data = all_reviews_groupby_date)\r\n",
        "\r\n",
        "#all_reviews_groupby_date.groupby(all_reviews_groupby_date['date'].map(lambda x: x.year))\r\n",
        "all_reviews_groupby_date.reset_index(inplace=True)\r\n",
        "all_reviews_groupby_date= all_reviews_groupby_date[0:8]\r\n",
        "#date_unique = bj_r['date'].unique()\r\n",
        "\r\n",
        "\r\n",
        "fig1 = plt.figure(figsize=(10,6))\r\n",
        "\r\n",
        "ax1 = fig1.add_axes([0,0,1,1])\r\n",
        "\r\n",
        "ax1.set_title('Overall star ratings overtime')\r\n",
        "line1, = ax1.plot(reviews_groupby_date['year'],reviews_groupby_date['star rating'],color='green')\r\n",
        "line2, = ax1.plot(all_reviews_groupby_date['year'],all_reviews_groupby_date['star rating'],color='blue')\r\n",
        "line3, = ax1.plot(star_only_reviews_groupby_date['year'],star_only_reviews_groupby_date['star rating'],color='red')\r\n",
        "ax1.set_ylim([2.8, 4.5])\r\n",
        "ax1.legend([line2, line1, line3],[\"All reviews\", \"Text reviews\", \"Star only reviews\"],fontsize= 20)\r\n",
        "for label in (ax1.get_xticklabels() + ax1.get_yticklabels()):\r\n",
        "\tlabel.set_fontsize(20)\r\n",
        "plt.show()"
      ],
      "outputs": [
        {
          "output_type": "display_data",
          "data": {
            "text/plain": [
              "<Figure size 720x432 with 1 Axes>"
            ],
            "image/png": "[encoded data removed]"
          },
          "metadata": {
            "needs_background": "light"
          }
        }
      ],
      "metadata": {
        "colab": {
          "base_uri": "https://localhost:8080/",
          "height": 0
        },
        "id": "OTITqmfMc2_S",
        "outputId": "dfe813a5-73d4-4121-9fe4-32957f9033ff"
      }
    },
    {
      "cell_type": "code",
      "execution_count": null,
      "source": [],
      "outputs": [],
      "metadata": {
        "id": "a23n9Q54c2_S"
      }
    },
    {
      "cell_type": "markdown",
      "source": [
        "We used the dataset with all English reviews.\n",
        "We can tell from the graph that the ratings before 2018 fluctuates above 3 stars with a peak around year 2018 at 4 stars. Starting from 2018, the star rating of bj stores according to English speaking customers greatly reduces."
      ],
      "metadata": {
        "id": "kY49ojEeJrex"
      }
    },
    {
      "cell_type": "markdown",
      "source": [
        "### Distribution of Ratings in Bj's Wholesale"
      ],
      "metadata": {
        "id": "jfH8h2lHJrey"
      }
    },
    {
      "cell_type": "code",
      "execution_count": 84,
      "source": [
        "results= pd.merge(bj_lo, bj_r_text_eng, on = \"location_code\")\r\n",
        "results.head()\r\n"
      ],
      "outputs": [
        {
          "output_type": "execute_result",
          "data": {
            "text/plain": [
              "   reviews count                              location  location_code  \\\n",
              "0            356  278 Middlesex Ave, Medford, MA 02155              1   \n",
              "1            356  278 Middlesex Ave, Medford, MA 02155              1   \n",
              "2            356  278 Middlesex Ave, Medford, MA 02155              1   \n",
              "3            356  278 Middlesex Ave, Medford, MA 02155              1   \n",
              "4            356  278 Middlesex Ave, Medford, MA 02155              1   \n",
              "\n",
              "   star rating               name  \\\n",
              "0            5      XxbluewølfX x   \n",
              "1            4      Biswanath Roy   \n",
              "2            1           Amy Rose   \n",
              "3            1  Sabina Lamichhane   \n",
              "4            1         Donnie L.S   \n",
              "\n",
              "                                              review       date  dif_lang  \\\n",
              "0  Eric has great customer service. He told me to... 2021-03-01        -1   \n",
              "1  Not ample stock compare to other stores. Other... 2020-10-01        -1   \n",
              "2  This location has been my reliable go-to for m... 2021-02-01        -1   \n",
              "3  I place a online pick up order to save some ti... 2021-02-01        -1   \n",
              "4  Do something!!!\\r\\nmake a self checkout line o... 2021-02-01        -1   \n",
              "\n",
              "   year  \n",
              "0  2021  \n",
              "1  2020  \n",
              "2  2021  \n",
              "3  2021  \n",
              "4  2021  "
            ],
            "text/html": [
              "<div>\n",
              "<style scoped>\n",
              "    .dataframe tbody tr th:only-of-type {\n",
              "        vertical-align: middle;\n",
              "    }\n",
              "\n",
              "    .dataframe tbody tr th {\n",
              "        vertical-align: top;\n",
              "    }\n",
              "\n",
              "    .dataframe thead th {\n",
              "        text-align: right;\n",
              "    }\n",
              "</style>\n",
              "<table border=\"1\" class=\"dataframe\">\n",
              "  <thead>\n",
              "    <tr style=\"text-align: right;\">\n",
              "      <th></th>\n",
              "      <th>reviews count</th>\n",
              "      <th>location</th>\n",
              "      <th>location_code</th>\n",
              "      <th>star rating</th>\n",
              "      <th>name</th>\n",
              "      <th>review</th>\n",
              "      <th>date</th>\n",
              "      <th>dif_lang</th>\n",
              "      <th>year</th>\n",
              "    </tr>\n",
              "  </thead>\n",
              "  <tbody>\n",
              "    <tr>\n",
              "      <th>0</th>\n",
              "      <td>356</td>\n",
              "      <td>278 Middlesex Ave, Medford, MA 02155</td>\n",
              "      <td>1</td>\n",
              "      <td>5</td>\n",
              "      <td>XxbluewølfX x</td>\n",
              "      <td>Eric has great customer service. He told me to...</td>\n",
              "      <td>2021-03-01</td>\n",
              "      <td>-1</td>\n",
              "      <td>2021</td>\n",
              "    </tr>\n",
              "    <tr>\n",
              "      <th>1</th>\n",
              "      <td>356</td>\n",
              "      <td>278 Middlesex Ave, Medford, MA 02155</td>\n",
              "      <td>1</td>\n",
              "      <td>4</td>\n",
              "      <td>Biswanath Roy</td>\n",
              "      <td>Not ample stock compare to other stores. Other...</td>\n",
              "      <td>2020-10-01</td>\n",
              "      <td>-1</td>\n",
              "      <td>2020</td>\n",
              "    </tr>\n",
              "    <tr>\n",
              "      <th>2</th>\n",
              "      <td>356</td>\n",
              "      <td>278 Middlesex Ave, Medford, MA 02155</td>\n",
              "      <td>1</td>\n",
              "      <td>1</td>\n",
              "      <td>Amy Rose</td>\n",
              "      <td>This location has been my reliable go-to for m...</td>\n",
              "      <td>2021-02-01</td>\n",
              "      <td>-1</td>\n",
              "      <td>2021</td>\n",
              "    </tr>\n",
              "    <tr>\n",
              "      <th>3</th>\n",
              "      <td>356</td>\n",
              "      <td>278 Middlesex Ave, Medford, MA 02155</td>\n",
              "      <td>1</td>\n",
              "      <td>1</td>\n",
              "      <td>Sabina Lamichhane</td>\n",
              "      <td>I place a online pick up order to save some ti...</td>\n",
              "      <td>2021-02-01</td>\n",
              "      <td>-1</td>\n",
              "      <td>2021</td>\n",
              "    </tr>\n",
              "    <tr>\n",
              "      <th>4</th>\n",
              "      <td>356</td>\n",
              "      <td>278 Middlesex Ave, Medford, MA 02155</td>\n",
              "      <td>1</td>\n",
              "      <td>1</td>\n",
              "      <td>Donnie L.S</td>\n",
              "      <td>Do something!!!\\r\\nmake a self checkout line o...</td>\n",
              "      <td>2021-02-01</td>\n",
              "      <td>-1</td>\n",
              "      <td>2021</td>\n",
              "    </tr>\n",
              "  </tbody>\n",
              "</table>\n",
              "</div>"
            ]
          },
          "metadata": {},
          "execution_count": 84
        }
      ],
      "metadata": {
        "colab": {
          "base_uri": "https://localhost:8080/",
          "height": 0
        },
        "id": "MfJSAu-tJrey",
        "outputId": "d2fec8b3-2a3d-41bb-facb-458ca0e6f2c2"
      }
    },
    {
      "cell_type": "code",
      "execution_count": 85,
      "source": [
        "results_rating= results.groupby(\"location_code\")[\"star rating\"].mean().sort_values()\r\n",
        "\r\n",
        "rating_bottom_10 = results_rating[0:10] \r\n",
        "\r\n",
        "rating_Top_10 = results_rating[-10:]\r\n"
      ],
      "outputs": [],
      "metadata": {
        "id": "qcUEa0vPJrey"
      }
    },
    {
      "cell_type": "code",
      "execution_count": 86,
      "source": [
        "color = plt.cm.copper(np.linspace(0,1,15))\r\n",
        "rating_Top_10.plot.bar(color = color,figsize = (15,9))\r\n",
        "\r\n",
        "plt.title('Distribution of ratings for Top10 rated store',fontsize=20)\r\n",
        "plt.xlabel('Store locations')\r\n",
        "plt.ylabel('Averge rating')\r\n",
        "plt.show()\r\n"
      ],
      "outputs": [
        {
          "output_type": "display_data",
          "data": {
            "text/plain": [
              "<Figure size 1080x648 with 1 Axes>"
            ],
            "image/png": "[encoded data removed]"
          },
          "metadata": {
            "needs_background": "light"
          }
        }
      ],
      "metadata": {
        "colab": {
          "base_uri": "https://localhost:8080/",
          "height": 0
        },
        "id": "muAv4HsSJrey",
        "outputId": "c2dba1f2-e1f9-4496-818c-0e5c4e775dca"
      }
    },
    {
      "cell_type": "code",
      "execution_count": 87,
      "source": [
        "color = plt.cm.copper(np.linspace(0,1,15))\r\n",
        "rating_bottom_10.plot.bar(color = color,figsize = (15,9))\r\n",
        "\r\n",
        "plt.title('Distribution of ratings for Bottom10 rated store',fontsize=20)\r\n",
        "plt.xlabel('Store locations')\r\n",
        "plt.ylabel('Averge rating')\r\n",
        "plt.show()"
      ],
      "outputs": [
        {
          "output_type": "display_data",
          "data": {
            "text/plain": [
              "<Figure size 1080x648 with 1 Axes>"
            ],
            "image/png": "[encoded data removed]"
          },
          "metadata": {
            "needs_background": "light"
          }
        }
      ],
      "metadata": {
        "colab": {
          "base_uri": "https://localhost:8080/",
          "height": 0
        },
        "id": "5z8UTWQQJrez",
        "outputId": "284b5522-01ba-4e49-b2fc-19ba124ae88d"
      }
    },
    {
      "cell_type": "markdown",
      "source": [
        "We merged the bj English reviews dataset with the bj store location information dataset to the find the top 10 and bottom 10 rating stores. The highest rated store is bj wholesale at 1899 Cinema Dr, Olean, NY 14760. The lowest rated store is bj wholesale at 1929 NE Pine Island Rd, Cape Coral, FL 33909.\n"
      ],
      "metadata": {
        "id": "Fpps-l6yJrez"
      }
    },
    {
      "cell_type": "markdown",
      "source": [
        "### Do people write longer or shorter reviews and are those positive or negative?\n"
      ],
      "metadata": {
        "id": "zfDGrYo4Jrez"
      }
    },
    {
      "cell_type": "code",
      "execution_count": 88,
      "source": [
        "# Distribution of review length\r\n",
        "bj_r_text_eng['length'] =  bj_r_text_eng['review'].apply(len)\r\n",
        "bj_r_text_eng\r\n",
        "\r\n",
        "#fig1= sns.distplot(bj_r_text_eng['length'], hist=True, \r\n",
        "             #bins=int(180/5), color = 'darkblue', \r\n",
        "             #hist_kws={'edgecolor':'black'})\r\n",
        "plt.figure(figsize= (15,9))\r\n",
        "plt.hist(bj_r_text_eng['length'], bins= int(180/5), color = 'slateblue')\r\n",
        "\r\n",
        "\r\n",
        "plt.xlabel('review length', fontsize= 30)\r\n",
        "plt.ylabel('count', fontsize= 30)\r\n",
        "plt.tick_params(axis='both', labelsize=30)\r\n"
      ],
      "outputs": [
        {
          "output_type": "display_data",
          "data": {
            "text/plain": [
              "<Figure size 1080x648 with 1 Axes>"
            ],
            "image/png": "[encoded data removed]"
          },
          "metadata": {
            "needs_background": "light"
          }
        }
      ],
      "metadata": {
        "colab": {
          "base_uri": "https://localhost:8080/",
          "height": 0
        },
        "id": "LRTMuMa8Jrez",
        "outputId": "a283e095-45c6-47a4-af00-d8efcb663960"
      }
    },
    {
      "cell_type": "markdown",
      "source": [
        "We used the dataset with only English reviews.\n",
        "It can be told that most customers prefer to writing reviews less than 100 characters."
      ],
      "metadata": {
        "id": "hi82FBFOJre0"
      }
    },
    {
      "cell_type": "code",
      "execution_count": 89,
      "source": [
        "# Averge reviews length for each star rating level.\r\n",
        "\r\n",
        "groupby_stars = bj_r_text_eng.groupby(['star rating'])['length'].mean()\r\n",
        "groupby_stars = pd.DataFrame(data = groupby_stars)\r\n",
        "\r\n",
        "fig= groupby_stars.plot.bar(color='slateblue',figsize = (15,5))\r\n",
        "plt.rcParams['font.size'] = 20\r\n",
        "plt.title('Average review length for each star level',fontsize = 30)\r\n",
        "plt.xlabel('star rating', fontsize= 30)\r\n",
        "plt.ylabel('review length', fontsize= 30)\r\n",
        "for label in (fig.get_xticklabels() + fig.get_yticklabels()):\r\n",
        "\tlabel.set_fontsize(30)\r\n",
        "plt.show()\r\n"
      ],
      "outputs": [
        {
          "output_type": "display_data",
          "data": {
            "text/plain": [
              "<Figure size 1080x360 with 1 Axes>"
            ],
            "image/png": "[encoded data removed]"
          },
          "metadata": {
            "needs_background": "light"
          }
        }
      ],
      "metadata": {
        "colab": {
          "base_uri": "https://localhost:8080/",
          "height": 0
        },
        "id": "8owymukkJre0",
        "outputId": "77801aa9-396a-41f5-e680-a51d10cbb8d3"
      }
    },
    {
      "cell_type": "code",
      "execution_count": null,
      "source": [
        "groupby_stars"
      ],
      "outputs": [],
      "metadata": {}
    },
    {
      "cell_type": "markdown",
      "source": [
        "It can be inferred from this graph that those who leave low star ratings write more text when they are leaving reviews."
      ],
      "metadata": {
        "id": "0Lp-bsM8Jre0"
      }
    }
  ]
}